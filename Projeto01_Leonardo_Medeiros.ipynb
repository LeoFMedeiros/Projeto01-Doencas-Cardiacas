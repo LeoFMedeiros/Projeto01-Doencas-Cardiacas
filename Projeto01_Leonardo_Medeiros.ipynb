{
 "cells": [
  {
   "cell_type": "markdown",
   "id": "f20c74c9",
   "metadata": {},
   "source": [
    "# 0.0 Imports"
   ]
  },
  {
   "cell_type": "markdown",
   "id": "5aa27f8e",
   "metadata": {},
   "source": [
    "## 0.1 Importando as bibliotecas"
   ]
  },
  {
   "cell_type": "code",
   "execution_count": 73,
   "id": "722ba65c",
   "metadata": {
    "ExecuteTime": {
     "end_time": "2022-04-21T13:41:34.180014Z",
     "start_time": "2022-04-21T13:41:29.396501Z"
    },
    "scrolled": false
   },
   "outputs": [],
   "source": [
    "import sweetviz \n",
    "import pandas   as pd \n",
    "import numpy    as np\n",
    "import seaborn as sns\n",
    "import math\n",
    "from scipy import stats\n",
    "\n",
    "from matplotlib       import pyplot as plt\n",
    "from sklearn.preprocessing import StandardScaler, RobustScaler, MinMaxScaler\n",
    "#from imblearn import combine as c\n",
    "import xgboost as xgb\n",
    "from sklearn.metrics import classification_report, confusion_matrix\n",
    "from sklearn.model_selection import train_test_split\n",
    "from sklearn.linear_model import LogisticRegression, SGDClassifier\n",
    "from sklearn.neighbors import KNeighborsClassifier\n",
    "from sklearn.ensemble import RandomForestClassifier\n",
    "from imblearn.ensemble import BalancedRandomForestClassifier\n",
    "from sklearn import ensemble as en\n",
    "import xgboost as xgb\n",
    "from sklearn.naive_bayes import GaussianNB\n",
    "from sklearn.metrics import precision_score, recall_score, f1_score, accuracy_score\n",
    "from sklearn import svm\n",
    "from sklearn.model_selection import cross_val_score\n",
    "from lightgbm import LGBMClassifier\n",
    "from sklearn import preprocessing as pp\n",
    "\n",
    "\n",
    "#from pandas_profiling import ProfileReport\n",
    "\n",
    "%matplotlib inline\n",
    "import warnings\n",
    "warnings.filterwarnings(\"ignore\")"
   ]
  },
  {
   "cell_type": "markdown",
   "id": "c8b7098f",
   "metadata": {},
   "source": [
    "## 0.2 Carregando os dados"
   ]
  },
  {
   "cell_type": "code",
   "execution_count": 74,
   "id": "1e595212",
   "metadata": {
    "ExecuteTime": {
     "end_time": "2022-04-21T13:41:34.321927Z",
     "start_time": "2022-04-21T13:41:34.182014Z"
    },
    "scrolled": true
   },
   "outputs": [],
   "source": [
    "data_raw = pd.read_csv('dados/cardio_train.csv', sep = ';') "
   ]
  },
  {
   "cell_type": "markdown",
   "id": "d12a845d",
   "metadata": {},
   "source": [
    "## 0.3 Funções auxiliares"
   ]
  },
  {
   "cell_type": "code",
   "execution_count": 75,
   "id": "b2576871",
   "metadata": {
    "ExecuteTime": {
     "end_time": "2022-04-21T13:41:34.368898Z",
     "start_time": "2022-04-21T13:41:34.323925Z"
    }
   },
   "outputs": [],
   "source": [
    "def analise_descritiva(num):   \n",
    "    # Central Tendency - Mean, Mediana\n",
    "    ct1 = pd.DataFrame( num.apply( np.mean ) ).T\n",
    "    ct2 = pd.DataFrame( num.apply( np.median ) ).T\n",
    "\n",
    "    # Dispersions - Std, Min, Max, Range, Skew, Kurtosis\n",
    "    d1 = pd.DataFrame( num.apply( np.std ) ).T\n",
    "    d2 = pd.DataFrame( num.apply( min ) ).T\n",
    "    d3 = pd.DataFrame( num.apply( max ) ).T\n",
    "    d4 = pd.DataFrame( num.apply( lambda x: x.max() - x.min() ) ).T\n",
    "    d5 = pd.DataFrame( num.apply( lambda x: x.skew() ) ).T\n",
    "    d6 = pd.DataFrame( num.apply( lambda x: x.kurtosis() ) ).T\n",
    "\n",
    "    # Concatenar\n",
    "    ct = pd.concat( [d2, d3, d4, ct1, ct2, d1, d5, d6] ).T.reset_index()\n",
    "    ct.columns = ['attributes', 'min', 'max', 'range', 'mean', 'median', 'std', 'skew', 'kurtosis']\n",
    "    return ct\n",
    "\n",
    "def cramer_v( x, y ):\n",
    "    cm = pd.crosstab( x, y ).values\n",
    "    n = cm.sum()\n",
    "    r, k = cm.shape\n",
    "    \n",
    "    chi2 = ss.chi2_contingency( cm )[0]\n",
    "    chi2corr = max( 0, chi2 - (k-1)*(r-1)/(n-1) )\n",
    "    \n",
    "    kcorr = k - (k-1)**2/(n-1)\n",
    "    rcorr = r - (r-1)**2/(n-1)\n",
    "    \n",
    "    return np.sqrt( (chi2corr/n) / ( min( kcorr-1, rcorr-1 ) ) )\n",
    "\n",
    "def modelo(x, y, model):\n",
    "    x_train, x_test, y_train, y_test = train_test_split(x, y, test_size=0.25)\n",
    "    model.fit(x_train, y_train)\n",
    "    y_pred = model.predict(x_test)\n",
    "\n",
    "    # Calculate the confusion matrix\n",
    "    #\n",
    "    conf_matrix = confusion_matrix(y_true=y_test, y_pred=y_pred)\n",
    "    #\n",
    "    # Print the confusion matrix using Matplotlib\n",
    "    #\n",
    "    fig, ax = plt.subplots(figsize=(5, 5))\n",
    "    ax.matshow(conf_matrix, cmap=plt.cm.Oranges, alpha=0.3)\n",
    "    for i in range(conf_matrix.shape[0]):\n",
    "        for j in range(conf_matrix.shape[1]):\n",
    "            ax.text(x=j, y=i,s=conf_matrix[i, j], va='center', ha='center', size='xx-large')\n",
    "\n",
    "    plt.xlabel('Predictions', fontsize=18)\n",
    "    plt.ylabel('Actuals', fontsize=18)\n",
    "    plt.title('Confusion Matrix', fontsize=18)\n",
    "    plt.show()\n",
    "    \n",
    "    print(classification_report(y_test, y_pred))\n",
    "    \n",
    "def analise_de_modelos(x, y, lista):\n",
    "    precisao = []\n",
    "    recall = []\n",
    "    modelo = []\n",
    "    F1Score = []\n",
    "    accuracy = []\n",
    "    \n",
    "    for model in lista:\n",
    "        x_train, x_test, y_train, y_test = train_test_split(x, y, test_size=0.25)\n",
    "        model[1].fit(x_train, y_train)\n",
    "        y_pred = model[1].predict(x_test)\n",
    "\n",
    "        # Adicionando os valores na lista\n",
    "        m = model[0]\n",
    "        a = accuracy_score(y_test, y_pred)\n",
    "        r = recall_score(y_test, y_pred)\n",
    "        p = precision_score(y_test, y_pred)\n",
    "        f1 = f1_score(y_test, y_pred)\n",
    "        \n",
    "        modelo.append(m)\n",
    "        recall.append(r)\n",
    "        F1Score.append(f1)\n",
    "        accuracy.append(a)\n",
    "        precisao.append(p)\n",
    "        \n",
    "    \n",
    "    aux = {\n",
    "        'Modelo': modelo,\n",
    "        'Accuracy': accuracy,\n",
    "        'Precission': precisao,\n",
    "        'Recall': recall,\n",
    "        'F1Score': F1Score}\n",
    "    \n",
    "    aux = pd.DataFrame(aux)\n",
    "        \n",
    "    return aux\n",
    "\n",
    "def cross_validation(x, y, ml):\n",
    "    modelo = ml\n",
    "    scores = cross_val_score(modelo, x, y, cv=10)\n",
    "    print(scores)\n",
    "    print (f'{scores.mean()} +- {scores.std()}')\n",
    "    \n",
    "def num_stats(num_attr):\n",
    "    # Central Tendency - mean, median\n",
    "    ct1 = pd.DataFrame( num_attr.apply( np.mean ) ).T\n",
    "    ct2 = pd.DataFrame( num_attr.apply( np.median ) ).T\n",
    "\n",
    "    # Dispersion - standard deviation (std), min, max, skew, kurtosis\n",
    "    d1 = pd.DataFrame( num_attr.apply( np.std ) ).T\n",
    "    d2 = pd.DataFrame( num_attr.apply( min ) ).T\n",
    "    d3 = pd.DataFrame( num_attr.apply( max ) ).T\n",
    "\n",
    "    # Dispersion - values' Range\n",
    "    d4 = pd.DataFrame( num_attr.apply( lambda x: x.max() - x.min() ) ).T\n",
    "\n",
    "    # Dispersion - skew and kurtosis\n",
    "    d5 = pd.DataFrame( num_attr.apply( lambda x: x.skew() ) ).T\n",
    "    d6 = pd.DataFrame( num_attr.apply( lambda x: x.kurtosis() ) ).T\n",
    "\n",
    "    # Concatenate all data frames\n",
    "    m = pd.concat( [d2, d3, d4, ct1, ct2, d1, d5, d6] ).T.reset_index()\n",
    "    m.columns = ['attributes', 'min', 'max', 'range', 'mean', 'median', 'std', 'skew', 'kurtosis']\n",
    "    \n",
    "    # histogram\n",
    "    num_hist = num_attr.hist( bins=25, figsize=(20,15) );\n",
    "\n",
    "    # display dataframe\n",
    "    return m\n",
    "    \n",
    "    # display histogram\n",
    "    return num_hist\n",
    "\n",
    "# point biserial correlation coefficient heatmap function\n",
    "def point_bi_corr(a, b):\n",
    "    # a: input dataframe with binary variable\n",
    "    # b: input dataframe with continuous variable\n",
    "    \n",
    "    # get column name\n",
    "    a_name = a.columns[0]\n",
    "    b_name = b.columns[0]\n",
    "    \n",
    "    # transform dataframe to array\n",
    "    a = a.values.reshape(-1)\n",
    "    b = b.values.reshape(-1)\n",
    "    \n",
    "    # apply scipy's point-biserial\n",
    "    stats.pointbiserialr(a, b)\n",
    "    \n",
    "    # correlation coefficient array\n",
    "    c = np.corrcoef(a,b)\n",
    "    \n",
    "    # dataframe for heatmap\n",
    "    df = pd.DataFrame(c, columns=[a_name, b_name], index=[a_name, b_name])\n",
    "    \n",
    "    # return heatmap\n",
    "    return sns.heatmap(df, annot=True).set_title('{} x {} correlation heatmap'.format(a_name, b_name));"
   ]
  },
  {
   "cell_type": "markdown",
   "id": "e980345b",
   "metadata": {},
   "source": [
    "# 1.0 Descrição dos dados"
   ]
  },
  {
   "cell_type": "code",
   "execution_count": 76,
   "id": "4b38a6b2",
   "metadata": {
    "ExecuteTime": {
     "end_time": "2022-04-21T13:41:34.384889Z",
     "start_time": "2022-04-21T13:41:34.371896Z"
    }
   },
   "outputs": [],
   "source": [
    "df = data_raw"
   ]
  },
  {
   "cell_type": "code",
   "execution_count": 77,
   "id": "f9f19252",
   "metadata": {
    "ExecuteTime": {
     "end_time": "2022-04-21T13:41:34.415869Z",
     "start_time": "2022-04-21T13:41:34.386888Z"
    },
    "scrolled": true
   },
   "outputs": [
    {
     "data": {
      "text/html": [
       "<div>\n",
       "<style scoped>\n",
       "    .dataframe tbody tr th:only-of-type {\n",
       "        vertical-align: middle;\n",
       "    }\n",
       "\n",
       "    .dataframe tbody tr th {\n",
       "        vertical-align: top;\n",
       "    }\n",
       "\n",
       "    .dataframe thead th {\n",
       "        text-align: right;\n",
       "    }\n",
       "</style>\n",
       "<table border=\"1\" class=\"dataframe\">\n",
       "  <thead>\n",
       "    <tr style=\"text-align: right;\">\n",
       "      <th></th>\n",
       "      <th>id</th>\n",
       "      <th>age</th>\n",
       "      <th>gender</th>\n",
       "      <th>height</th>\n",
       "      <th>weight</th>\n",
       "      <th>ap_hi</th>\n",
       "      <th>ap_lo</th>\n",
       "      <th>cholesterol</th>\n",
       "      <th>gluc</th>\n",
       "      <th>smoke</th>\n",
       "      <th>alco</th>\n",
       "      <th>active</th>\n",
       "      <th>cardio</th>\n",
       "    </tr>\n",
       "  </thead>\n",
       "  <tbody>\n",
       "    <tr>\n",
       "      <th>0</th>\n",
       "      <td>0</td>\n",
       "      <td>18393</td>\n",
       "      <td>2</td>\n",
       "      <td>168</td>\n",
       "      <td>62.0</td>\n",
       "      <td>110</td>\n",
       "      <td>80</td>\n",
       "      <td>1</td>\n",
       "      <td>1</td>\n",
       "      <td>0</td>\n",
       "      <td>0</td>\n",
       "      <td>1</td>\n",
       "      <td>0</td>\n",
       "    </tr>\n",
       "    <tr>\n",
       "      <th>1</th>\n",
       "      <td>1</td>\n",
       "      <td>20228</td>\n",
       "      <td>1</td>\n",
       "      <td>156</td>\n",
       "      <td>85.0</td>\n",
       "      <td>140</td>\n",
       "      <td>90</td>\n",
       "      <td>3</td>\n",
       "      <td>1</td>\n",
       "      <td>0</td>\n",
       "      <td>0</td>\n",
       "      <td>1</td>\n",
       "      <td>1</td>\n",
       "    </tr>\n",
       "    <tr>\n",
       "      <th>2</th>\n",
       "      <td>2</td>\n",
       "      <td>18857</td>\n",
       "      <td>1</td>\n",
       "      <td>165</td>\n",
       "      <td>64.0</td>\n",
       "      <td>130</td>\n",
       "      <td>70</td>\n",
       "      <td>3</td>\n",
       "      <td>1</td>\n",
       "      <td>0</td>\n",
       "      <td>0</td>\n",
       "      <td>0</td>\n",
       "      <td>1</td>\n",
       "    </tr>\n",
       "    <tr>\n",
       "      <th>3</th>\n",
       "      <td>3</td>\n",
       "      <td>17623</td>\n",
       "      <td>2</td>\n",
       "      <td>169</td>\n",
       "      <td>82.0</td>\n",
       "      <td>150</td>\n",
       "      <td>100</td>\n",
       "      <td>1</td>\n",
       "      <td>1</td>\n",
       "      <td>0</td>\n",
       "      <td>0</td>\n",
       "      <td>1</td>\n",
       "      <td>1</td>\n",
       "    </tr>\n",
       "    <tr>\n",
       "      <th>4</th>\n",
       "      <td>4</td>\n",
       "      <td>17474</td>\n",
       "      <td>1</td>\n",
       "      <td>156</td>\n",
       "      <td>56.0</td>\n",
       "      <td>100</td>\n",
       "      <td>60</td>\n",
       "      <td>1</td>\n",
       "      <td>1</td>\n",
       "      <td>0</td>\n",
       "      <td>0</td>\n",
       "      <td>0</td>\n",
       "      <td>0</td>\n",
       "    </tr>\n",
       "  </tbody>\n",
       "</table>\n",
       "</div>"
      ],
      "text/plain": [
       "   id    age  gender  height  weight  ap_hi  ap_lo  cholesterol  gluc  smoke  \\\n",
       "0   0  18393       2     168    62.0    110     80            1     1      0   \n",
       "1   1  20228       1     156    85.0    140     90            3     1      0   \n",
       "2   2  18857       1     165    64.0    130     70            3     1      0   \n",
       "3   3  17623       2     169    82.0    150    100            1     1      0   \n",
       "4   4  17474       1     156    56.0    100     60            1     1      0   \n",
       "\n",
       "   alco  active  cardio  \n",
       "0     0       1       0  \n",
       "1     0       1       1  \n",
       "2     0       0       1  \n",
       "3     0       1       1  \n",
       "4     0       0       0  "
      ]
     },
     "execution_count": 77,
     "metadata": {},
     "output_type": "execute_result"
    }
   ],
   "source": [
    "df.head()"
   ]
  },
  {
   "cell_type": "markdown",
   "id": "8ea5dcf5",
   "metadata": {},
   "source": [
    "## 1.1 Dimensões dos dados"
   ]
  },
  {
   "cell_type": "code",
   "execution_count": 78,
   "id": "e713f69e",
   "metadata": {
    "ExecuteTime": {
     "end_time": "2022-04-21T13:41:34.431859Z",
     "start_time": "2022-04-21T13:41:34.417868Z"
    }
   },
   "outputs": [
    {
     "name": "stdout",
     "output_type": "stream",
     "text": [
      "O número de linhas são: 70000\n",
      "O número de colunas são: 13\n"
     ]
    }
   ],
   "source": [
    "print(f'O número de linhas são: {df.shape[0]}')\n",
    "print(f'O número de colunas são: {df.shape[1]}')"
   ]
  },
  {
   "cell_type": "markdown",
   "id": "de68a1f4",
   "metadata": {},
   "source": [
    "## 1.2 Tipo das colunas"
   ]
  },
  {
   "cell_type": "markdown",
   "id": "cbf80957",
   "metadata": {},
   "source": [
    "1  - id: Identificação dos exames \n",
    "2  - Age: Idade(em dias)\n",
    "3  - Gender: Sexo\n",
    "4  - Height: Altura (cm)\n",
    "5  - Weight: Peso (Kg)\n",
    "6  - ap_hi: Pressão arterial sistólica\n",
    "7  - ap_lo: Pressão arterial diastólica\n",
    "8  - Cholesterol: Colesterol (1: Normal, 2:Acima do normal, 3: Bem acima do normal)\n",
    "9  - gluc: Glicose (1: Normal, 2: Acima do normal, 3: Bem acima do normal)\n",
    "10 - smoke: Fumar (1: sim, 2: não)\n",
    "11 - alco: Uso de álcool (0: Não, 1: Sim)\n",
    "12 - active: (0: Não, 1:Sim)\n",
    "13 - cardio: Doente ou não"
   ]
  },
  {
   "cell_type": "code",
   "execution_count": 79,
   "id": "f6d6aec6",
   "metadata": {
    "ExecuteTime": {
     "end_time": "2022-04-21T13:41:34.447849Z",
     "start_time": "2022-04-21T13:41:34.433857Z"
    }
   },
   "outputs": [
    {
     "data": {
      "text/plain": [
       "id               int64\n",
       "age              int64\n",
       "gender           int64\n",
       "height           int64\n",
       "weight         float64\n",
       "ap_hi            int64\n",
       "ap_lo            int64\n",
       "cholesterol      int64\n",
       "gluc             int64\n",
       "smoke            int64\n",
       "alco             int64\n",
       "active           int64\n",
       "cardio           int64\n",
       "dtype: object"
      ]
     },
     "execution_count": 79,
     "metadata": {},
     "output_type": "execute_result"
    }
   ],
   "source": [
    "df.dtypes"
   ]
  },
  {
   "cell_type": "markdown",
   "id": "4a8e8128",
   "metadata": {},
   "source": [
    "-> Todas as colunas estão com os valores corretos"
   ]
  },
  {
   "cell_type": "markdown",
   "id": "38797415",
   "metadata": {},
   "source": [
    "## 1.3 Checando NA"
   ]
  },
  {
   "cell_type": "code",
   "execution_count": 80,
   "id": "928f4db2",
   "metadata": {
    "ExecuteTime": {
     "end_time": "2022-04-21T13:41:34.463839Z",
     "start_time": "2022-04-21T13:41:34.448848Z"
    }
   },
   "outputs": [
    {
     "data": {
      "text/plain": [
       "id             0.0\n",
       "age            0.0\n",
       "gender         0.0\n",
       "height         0.0\n",
       "weight         0.0\n",
       "ap_hi          0.0\n",
       "ap_lo          0.0\n",
       "cholesterol    0.0\n",
       "gluc           0.0\n",
       "smoke          0.0\n",
       "alco           0.0\n",
       "active         0.0\n",
       "cardio         0.0\n",
       "dtype: float64"
      ]
     },
     "execution_count": 80,
     "metadata": {},
     "output_type": "execute_result"
    }
   ],
   "source": [
    "df.isna().sum() / len(df)"
   ]
  },
  {
   "cell_type": "markdown",
   "id": "fef90649",
   "metadata": {},
   "source": [
    "-> Não existem valores faltantes"
   ]
  },
  {
   "cell_type": "markdown",
   "id": "f794e7f6",
   "metadata": {},
   "source": [
    "## 1.4 Análise descritiva dos dados "
   ]
  },
  {
   "cell_type": "code",
   "execution_count": 81,
   "id": "cc013505",
   "metadata": {
    "ExecuteTime": {
     "end_time": "2022-04-21T13:41:34.749662Z",
     "start_time": "2022-04-21T13:41:34.465839Z"
    },
    "scrolled": true
   },
   "outputs": [
    {
     "data": {
      "text/html": [
       "<div>\n",
       "<style scoped>\n",
       "    .dataframe tbody tr th:only-of-type {\n",
       "        vertical-align: middle;\n",
       "    }\n",
       "\n",
       "    .dataframe tbody tr th {\n",
       "        vertical-align: top;\n",
       "    }\n",
       "\n",
       "    .dataframe thead th {\n",
       "        text-align: right;\n",
       "    }\n",
       "</style>\n",
       "<table border=\"1\" class=\"dataframe\">\n",
       "  <thead>\n",
       "    <tr style=\"text-align: right;\">\n",
       "      <th></th>\n",
       "      <th>attributes</th>\n",
       "      <th>min</th>\n",
       "      <th>max</th>\n",
       "      <th>range</th>\n",
       "      <th>mean</th>\n",
       "      <th>median</th>\n",
       "      <th>std</th>\n",
       "      <th>skew</th>\n",
       "      <th>kurtosis</th>\n",
       "    </tr>\n",
       "  </thead>\n",
       "  <tbody>\n",
       "    <tr>\n",
       "      <th>0</th>\n",
       "      <td>id</td>\n",
       "      <td>0.0</td>\n",
       "      <td>99999.0</td>\n",
       "      <td>99999.0</td>\n",
       "      <td>49972.419900</td>\n",
       "      <td>50001.5</td>\n",
       "      <td>28851.096242</td>\n",
       "      <td>-0.001278</td>\n",
       "      <td>-1.198374</td>\n",
       "    </tr>\n",
       "    <tr>\n",
       "      <th>1</th>\n",
       "      <td>age</td>\n",
       "      <td>10798.0</td>\n",
       "      <td>23713.0</td>\n",
       "      <td>12915.0</td>\n",
       "      <td>19468.865814</td>\n",
       "      <td>19703.0</td>\n",
       "      <td>2467.234044</td>\n",
       "      <td>-0.307055</td>\n",
       "      <td>-0.823447</td>\n",
       "    </tr>\n",
       "    <tr>\n",
       "      <th>2</th>\n",
       "      <td>gender</td>\n",
       "      <td>1.0</td>\n",
       "      <td>2.0</td>\n",
       "      <td>1.0</td>\n",
       "      <td>1.349571</td>\n",
       "      <td>1.0</td>\n",
       "      <td>0.476835</td>\n",
       "      <td>0.630960</td>\n",
       "      <td>-1.601935</td>\n",
       "    </tr>\n",
       "    <tr>\n",
       "      <th>3</th>\n",
       "      <td>height</td>\n",
       "      <td>55.0</td>\n",
       "      <td>250.0</td>\n",
       "      <td>195.0</td>\n",
       "      <td>164.359229</td>\n",
       "      <td>165.0</td>\n",
       "      <td>8.210068</td>\n",
       "      <td>-0.642187</td>\n",
       "      <td>7.943653</td>\n",
       "    </tr>\n",
       "    <tr>\n",
       "      <th>4</th>\n",
       "      <td>weight</td>\n",
       "      <td>10.0</td>\n",
       "      <td>200.0</td>\n",
       "      <td>190.0</td>\n",
       "      <td>74.205690</td>\n",
       "      <td>72.0</td>\n",
       "      <td>14.395654</td>\n",
       "      <td>1.012070</td>\n",
       "      <td>2.586825</td>\n",
       "    </tr>\n",
       "    <tr>\n",
       "      <th>5</th>\n",
       "      <td>ap_hi</td>\n",
       "      <td>-150.0</td>\n",
       "      <td>16020.0</td>\n",
       "      <td>16170.0</td>\n",
       "      <td>128.817286</td>\n",
       "      <td>120.0</td>\n",
       "      <td>154.010319</td>\n",
       "      <td>85.296214</td>\n",
       "      <td>7580.074738</td>\n",
       "    </tr>\n",
       "    <tr>\n",
       "      <th>6</th>\n",
       "      <td>ap_lo</td>\n",
       "      <td>-70.0</td>\n",
       "      <td>11000.0</td>\n",
       "      <td>11070.0</td>\n",
       "      <td>96.630414</td>\n",
       "      <td>80.0</td>\n",
       "      <td>188.471184</td>\n",
       "      <td>32.114083</td>\n",
       "      <td>1425.914585</td>\n",
       "    </tr>\n",
       "    <tr>\n",
       "      <th>7</th>\n",
       "      <td>cholesterol</td>\n",
       "      <td>1.0</td>\n",
       "      <td>3.0</td>\n",
       "      <td>2.0</td>\n",
       "      <td>1.366871</td>\n",
       "      <td>1.0</td>\n",
       "      <td>0.680245</td>\n",
       "      <td>1.587123</td>\n",
       "      <td>0.993901</td>\n",
       "    </tr>\n",
       "    <tr>\n",
       "      <th>8</th>\n",
       "      <td>gluc</td>\n",
       "      <td>1.0</td>\n",
       "      <td>3.0</td>\n",
       "      <td>2.0</td>\n",
       "      <td>1.226457</td>\n",
       "      <td>1.0</td>\n",
       "      <td>0.572266</td>\n",
       "      <td>2.397462</td>\n",
       "      <td>4.294377</td>\n",
       "    </tr>\n",
       "    <tr>\n",
       "      <th>9</th>\n",
       "      <td>smoke</td>\n",
       "      <td>0.0</td>\n",
       "      <td>1.0</td>\n",
       "      <td>1.0</td>\n",
       "      <td>0.088129</td>\n",
       "      <td>0.0</td>\n",
       "      <td>0.283482</td>\n",
       "      <td>2.905867</td>\n",
       "      <td>6.444250</td>\n",
       "    </tr>\n",
       "    <tr>\n",
       "      <th>10</th>\n",
       "      <td>alco</td>\n",
       "      <td>0.0</td>\n",
       "      <td>1.0</td>\n",
       "      <td>1.0</td>\n",
       "      <td>0.053771</td>\n",
       "      <td>0.0</td>\n",
       "      <td>0.225566</td>\n",
       "      <td>3.956607</td>\n",
       "      <td>13.655125</td>\n",
       "    </tr>\n",
       "    <tr>\n",
       "      <th>11</th>\n",
       "      <td>active</td>\n",
       "      <td>0.0</td>\n",
       "      <td>1.0</td>\n",
       "      <td>1.0</td>\n",
       "      <td>0.803729</td>\n",
       "      <td>1.0</td>\n",
       "      <td>0.397176</td>\n",
       "      <td>-1.529473</td>\n",
       "      <td>0.339296</td>\n",
       "    </tr>\n",
       "    <tr>\n",
       "      <th>12</th>\n",
       "      <td>cardio</td>\n",
       "      <td>0.0</td>\n",
       "      <td>1.0</td>\n",
       "      <td>1.0</td>\n",
       "      <td>0.499700</td>\n",
       "      <td>0.0</td>\n",
       "      <td>0.500000</td>\n",
       "      <td>0.001200</td>\n",
       "      <td>-2.000056</td>\n",
       "    </tr>\n",
       "  </tbody>\n",
       "</table>\n",
       "</div>"
      ],
      "text/plain": [
       "     attributes      min      max    range          mean   median  \\\n",
       "0            id      0.0  99999.0  99999.0  49972.419900  50001.5   \n",
       "1           age  10798.0  23713.0  12915.0  19468.865814  19703.0   \n",
       "2        gender      1.0      2.0      1.0      1.349571      1.0   \n",
       "3        height     55.0    250.0    195.0    164.359229    165.0   \n",
       "4        weight     10.0    200.0    190.0     74.205690     72.0   \n",
       "5         ap_hi   -150.0  16020.0  16170.0    128.817286    120.0   \n",
       "6         ap_lo    -70.0  11000.0  11070.0     96.630414     80.0   \n",
       "7   cholesterol      1.0      3.0      2.0      1.366871      1.0   \n",
       "8          gluc      1.0      3.0      2.0      1.226457      1.0   \n",
       "9         smoke      0.0      1.0      1.0      0.088129      0.0   \n",
       "10         alco      0.0      1.0      1.0      0.053771      0.0   \n",
       "11       active      0.0      1.0      1.0      0.803729      1.0   \n",
       "12       cardio      0.0      1.0      1.0      0.499700      0.0   \n",
       "\n",
       "             std       skew     kurtosis  \n",
       "0   28851.096242  -0.001278    -1.198374  \n",
       "1    2467.234044  -0.307055    -0.823447  \n",
       "2       0.476835   0.630960    -1.601935  \n",
       "3       8.210068  -0.642187     7.943653  \n",
       "4      14.395654   1.012070     2.586825  \n",
       "5     154.010319  85.296214  7580.074738  \n",
       "6     188.471184  32.114083  1425.914585  \n",
       "7       0.680245   1.587123     0.993901  \n",
       "8       0.572266   2.397462     4.294377  \n",
       "9       0.283482   2.905867     6.444250  \n",
       "10      0.225566   3.956607    13.655125  \n",
       "11      0.397176  -1.529473     0.339296  \n",
       "12      0.500000   0.001200    -2.000056  "
      ]
     },
     "execution_count": 81,
     "metadata": {},
     "output_type": "execute_result"
    }
   ],
   "source": [
    "num_attributes = df.select_dtypes( include=['int64', 'float64'] )\n",
    "\n",
    "analise_descritiva(num_attributes)"
   ]
  },
  {
   "cell_type": "markdown",
   "id": "b6cc8ff2",
   "metadata": {},
   "source": [
    "## 1.5 Pandas Profile"
   ]
  },
  {
   "cell_type": "code",
   "execution_count": 82,
   "id": "f3a0957a",
   "metadata": {
    "ExecuteTime": {
     "end_time": "2022-04-21T13:41:34.765653Z",
     "start_time": "2022-04-21T13:41:34.753660Z"
    }
   },
   "outputs": [
    {
     "data": {
      "text/plain": [
       "'profile = ProfileReport(df, title=\"doenças cardiovasculares\")\\nprofile.to_file(\"doenças cardiovasculares.html\")'"
      ]
     },
     "execution_count": 82,
     "metadata": {},
     "output_type": "execute_result"
    }
   ],
   "source": [
    "\"\"\"profile = ProfileReport(df, title=\"doenças cardiovasculares\")\n",
    "profile.to_file(\"doenças cardiovasculares.html\")\"\"\""
   ]
  },
  {
   "cell_type": "markdown",
   "id": "6f24fabc",
   "metadata": {},
   "source": [
    "# 2.0 Feature Enginering"
   ]
  },
  {
   "cell_type": "code",
   "execution_count": 83,
   "id": "aabc57e8",
   "metadata": {
    "ExecuteTime": {
     "end_time": "2022-04-21T13:41:34.781643Z",
     "start_time": "2022-04-21T13:41:34.767653Z"
    }
   },
   "outputs": [],
   "source": [
    "df2 = df"
   ]
  },
  {
   "cell_type": "code",
   "execution_count": 84,
   "id": "7302d151",
   "metadata": {
    "ExecuteTime": {
     "end_time": "2022-04-21T13:41:34.797633Z",
     "start_time": "2022-04-21T13:41:34.782642Z"
    }
   },
   "outputs": [
    {
     "data": {
      "text/plain": [
       "id               int64\n",
       "age              int64\n",
       "gender           int64\n",
       "height           int64\n",
       "weight         float64\n",
       "ap_hi            int64\n",
       "ap_lo            int64\n",
       "cholesterol      int64\n",
       "gluc             int64\n",
       "smoke            int64\n",
       "alco             int64\n",
       "active           int64\n",
       "cardio           int64\n",
       "dtype: object"
      ]
     },
     "execution_count": 84,
     "metadata": {},
     "output_type": "execute_result"
    }
   ],
   "source": [
    "df2.dtypes"
   ]
  },
  {
   "cell_type": "code",
   "execution_count": 85,
   "id": "82be7e54",
   "metadata": {
    "ExecuteTime": {
     "end_time": "2022-04-21T13:41:34.829613Z",
     "start_time": "2022-04-21T13:41:34.799631Z"
    }
   },
   "outputs": [],
   "source": [
    "# BMI - Body Mass Index (IMC) = weight/height^2\n",
    "df2['bmi'] = df2['weight']/((df2['height']/100)**2)\n",
    "\n",
    "# Systolic and Diastolic blood pressure ratio\n",
    "df2['bpr'] = df2['ap_hi'] / df2['ap_lo']\n",
    "\n",
    "# Systolic and Diastolic blood pressure sum\n",
    "df2['ap_sum'] = df2['ap_hi'] + df2['ap_lo']\n",
    "\n",
    "# Age\n",
    "df2['age'] = df2['age']/365\n",
    "df2['age'] = df2['age'].astype(int)"
   ]
  },
  {
   "cell_type": "code",
   "execution_count": 86,
   "id": "84371b86",
   "metadata": {
    "ExecuteTime": {
     "end_time": "2022-04-21T13:41:34.860594Z",
     "start_time": "2022-04-21T13:41:34.831612Z"
    }
   },
   "outputs": [
    {
     "data": {
      "text/html": [
       "<div>\n",
       "<style scoped>\n",
       "    .dataframe tbody tr th:only-of-type {\n",
       "        vertical-align: middle;\n",
       "    }\n",
       "\n",
       "    .dataframe tbody tr th {\n",
       "        vertical-align: top;\n",
       "    }\n",
       "\n",
       "    .dataframe thead th {\n",
       "        text-align: right;\n",
       "    }\n",
       "</style>\n",
       "<table border=\"1\" class=\"dataframe\">\n",
       "  <thead>\n",
       "    <tr style=\"text-align: right;\">\n",
       "      <th></th>\n",
       "      <th>id</th>\n",
       "      <th>age</th>\n",
       "      <th>gender</th>\n",
       "      <th>height</th>\n",
       "      <th>weight</th>\n",
       "      <th>ap_hi</th>\n",
       "      <th>ap_lo</th>\n",
       "      <th>cholesterol</th>\n",
       "      <th>gluc</th>\n",
       "      <th>smoke</th>\n",
       "      <th>alco</th>\n",
       "      <th>active</th>\n",
       "      <th>cardio</th>\n",
       "      <th>bmi</th>\n",
       "      <th>bpr</th>\n",
       "      <th>ap_sum</th>\n",
       "    </tr>\n",
       "  </thead>\n",
       "  <tbody>\n",
       "    <tr>\n",
       "      <th>0</th>\n",
       "      <td>0</td>\n",
       "      <td>50</td>\n",
       "      <td>2</td>\n",
       "      <td>168</td>\n",
       "      <td>62.0</td>\n",
       "      <td>110</td>\n",
       "      <td>80</td>\n",
       "      <td>1</td>\n",
       "      <td>1</td>\n",
       "      <td>0</td>\n",
       "      <td>0</td>\n",
       "      <td>1</td>\n",
       "      <td>0</td>\n",
       "      <td>21.96712</td>\n",
       "      <td>1.375</td>\n",
       "      <td>190</td>\n",
       "    </tr>\n",
       "  </tbody>\n",
       "</table>\n",
       "</div>"
      ],
      "text/plain": [
       "   id  age  gender  height  weight  ap_hi  ap_lo  cholesterol  gluc  smoke  \\\n",
       "0   0   50       2     168    62.0    110     80            1     1      0   \n",
       "\n",
       "   alco  active  cardio       bmi    bpr  ap_sum  \n",
       "0     0       1       0  21.96712  1.375     190  "
      ]
     },
     "execution_count": 86,
     "metadata": {},
     "output_type": "execute_result"
    }
   ],
   "source": [
    "df2.head(1)"
   ]
  },
  {
   "cell_type": "markdown",
   "id": "a5fb9869",
   "metadata": {
    "heading_collapsed": true
   },
   "source": [
    "# 3.0 Filtrando os dados"
   ]
  },
  {
   "cell_type": "code",
   "execution_count": 87,
   "id": "3a9d605c",
   "metadata": {
    "ExecuteTime": {
     "end_time": "2022-04-21T13:41:34.875585Z",
     "start_time": "2022-04-21T13:41:34.862593Z"
    },
    "hidden": true
   },
   "outputs": [],
   "source": [
    "df3 = df2"
   ]
  },
  {
   "cell_type": "code",
   "execution_count": 88,
   "id": "d79d006c",
   "metadata": {
    "ExecuteTime": {
     "end_time": "2022-04-21T13:41:34.953537Z",
     "start_time": "2022-04-21T13:41:34.893574Z"
    },
    "hidden": true
   },
   "outputs": [],
   "source": [
    "# Filtrando valores mínimos e máximos de altura\n",
    "df3 = df3[(df3['height'] >= 145) & (df3['height'] <= 210)]\n",
    "\n",
    "# Filtrando o peso mínimo\n",
    "df3 = df3[df3['weight'] >= 40]\n",
    "\n",
    "# filtrando ap_hi (pressão sistólica) mínima e máxima possível (outliers)\n",
    "df3 = df3[(df3['ap_hi'] >= 40) & (df3['ap_hi'] <= 200)]\n",
    "\n",
    "# filtrando ap_lo (pressão diastólica) mínima e máxima possível (outliers)\n",
    "df3 = df3[(df3['ap_lo'] >= 40) & (df3['ap_lo'] <= 140)]\n",
    "\n",
    "# Removendo as situações em que a pressão diastólica é maior que a sistólica\n",
    "df3 = df3[(df3['ap_hi']) > (df3['ap_lo'])]"
   ]
  },
  {
   "cell_type": "code",
   "execution_count": 89,
   "id": "995c5087",
   "metadata": {
    "ExecuteTime": {
     "end_time": "2022-04-21T13:41:35.045480Z",
     "start_time": "2022-04-21T13:41:34.956536Z"
    },
    "hidden": true
   },
   "outputs": [
    {
     "data": {
      "text/html": [
       "<div>\n",
       "<style scoped>\n",
       "    .dataframe tbody tr th:only-of-type {\n",
       "        vertical-align: middle;\n",
       "    }\n",
       "\n",
       "    .dataframe tbody tr th {\n",
       "        vertical-align: top;\n",
       "    }\n",
       "\n",
       "    .dataframe thead th {\n",
       "        text-align: right;\n",
       "    }\n",
       "</style>\n",
       "<table border=\"1\" class=\"dataframe\">\n",
       "  <thead>\n",
       "    <tr style=\"text-align: right;\">\n",
       "      <th></th>\n",
       "      <th>id</th>\n",
       "      <th>age</th>\n",
       "      <th>gender</th>\n",
       "      <th>height</th>\n",
       "      <th>weight</th>\n",
       "      <th>ap_hi</th>\n",
       "      <th>ap_lo</th>\n",
       "      <th>cholesterol</th>\n",
       "      <th>gluc</th>\n",
       "      <th>smoke</th>\n",
       "      <th>alco</th>\n",
       "      <th>active</th>\n",
       "      <th>cardio</th>\n",
       "      <th>bmi</th>\n",
       "      <th>bpr</th>\n",
       "      <th>ap_sum</th>\n",
       "    </tr>\n",
       "  </thead>\n",
       "  <tbody>\n",
       "    <tr>\n",
       "      <th>count</th>\n",
       "      <td>68217.000000</td>\n",
       "      <td>68217.000000</td>\n",
       "      <td>68217.000000</td>\n",
       "      <td>68217.000000</td>\n",
       "      <td>68217.000000</td>\n",
       "      <td>68217.000000</td>\n",
       "      <td>68217.000000</td>\n",
       "      <td>68217.000000</td>\n",
       "      <td>68217.000000</td>\n",
       "      <td>68217.000000</td>\n",
       "      <td>68217.000000</td>\n",
       "      <td>68217.000000</td>\n",
       "      <td>68217.000000</td>\n",
       "      <td>68217.000000</td>\n",
       "      <td>68217.000000</td>\n",
       "      <td>68217.000000</td>\n",
       "    </tr>\n",
       "    <tr>\n",
       "      <th>mean</th>\n",
       "      <td>49963.469282</td>\n",
       "      <td>52.819634</td>\n",
       "      <td>1.349649</td>\n",
       "      <td>164.535160</td>\n",
       "      <td>74.158823</td>\n",
       "      <td>126.601067</td>\n",
       "      <td>81.279886</td>\n",
       "      <td>1.364264</td>\n",
       "      <td>1.225589</td>\n",
       "      <td>0.088262</td>\n",
       "      <td>0.053506</td>\n",
       "      <td>0.803348</td>\n",
       "      <td>0.494246</td>\n",
       "      <td>27.424358</td>\n",
       "      <td>1.561816</td>\n",
       "      <td>207.880953</td>\n",
       "    </tr>\n",
       "    <tr>\n",
       "      <th>std</th>\n",
       "      <td>28851.660722</td>\n",
       "      <td>6.768059</td>\n",
       "      <td>0.476863</td>\n",
       "      <td>7.710511</td>\n",
       "      <td>14.232075</td>\n",
       "      <td>16.484961</td>\n",
       "      <td>9.362545</td>\n",
       "      <td>0.678644</td>\n",
       "      <td>0.571567</td>\n",
       "      <td>0.283678</td>\n",
       "      <td>0.225041</td>\n",
       "      <td>0.397470</td>\n",
       "      <td>0.499971</td>\n",
       "      <td>5.163564</td>\n",
       "      <td>0.148719</td>\n",
       "      <td>24.193435</td>\n",
       "    </tr>\n",
       "    <tr>\n",
       "      <th>min</th>\n",
       "      <td>0.000000</td>\n",
       "      <td>29.000000</td>\n",
       "      <td>1.000000</td>\n",
       "      <td>145.000000</td>\n",
       "      <td>40.000000</td>\n",
       "      <td>60.000000</td>\n",
       "      <td>40.000000</td>\n",
       "      <td>1.000000</td>\n",
       "      <td>1.000000</td>\n",
       "      <td>0.000000</td>\n",
       "      <td>0.000000</td>\n",
       "      <td>0.000000</td>\n",
       "      <td>0.000000</td>\n",
       "      <td>13.520822</td>\n",
       "      <td>1.058824</td>\n",
       "      <td>100.000000</td>\n",
       "    </tr>\n",
       "    <tr>\n",
       "      <th>25%</th>\n",
       "      <td>24988.000000</td>\n",
       "      <td>48.000000</td>\n",
       "      <td>1.000000</td>\n",
       "      <td>159.000000</td>\n",
       "      <td>65.000000</td>\n",
       "      <td>120.000000</td>\n",
       "      <td>80.000000</td>\n",
       "      <td>1.000000</td>\n",
       "      <td>1.000000</td>\n",
       "      <td>0.000000</td>\n",
       "      <td>0.000000</td>\n",
       "      <td>1.000000</td>\n",
       "      <td>0.000000</td>\n",
       "      <td>23.875115</td>\n",
       "      <td>1.500000</td>\n",
       "      <td>200.000000</td>\n",
       "    </tr>\n",
       "    <tr>\n",
       "      <th>50%</th>\n",
       "      <td>50002.000000</td>\n",
       "      <td>53.000000</td>\n",
       "      <td>1.000000</td>\n",
       "      <td>165.000000</td>\n",
       "      <td>72.000000</td>\n",
       "      <td>120.000000</td>\n",
       "      <td>80.000000</td>\n",
       "      <td>1.000000</td>\n",
       "      <td>1.000000</td>\n",
       "      <td>0.000000</td>\n",
       "      <td>0.000000</td>\n",
       "      <td>1.000000</td>\n",
       "      <td>0.000000</td>\n",
       "      <td>26.303619</td>\n",
       "      <td>1.500000</td>\n",
       "      <td>200.000000</td>\n",
       "    </tr>\n",
       "    <tr>\n",
       "      <th>75%</th>\n",
       "      <td>74862.000000</td>\n",
       "      <td>58.000000</td>\n",
       "      <td>2.000000</td>\n",
       "      <td>170.000000</td>\n",
       "      <td>82.000000</td>\n",
       "      <td>140.000000</td>\n",
       "      <td>90.000000</td>\n",
       "      <td>1.000000</td>\n",
       "      <td>1.000000</td>\n",
       "      <td>0.000000</td>\n",
       "      <td>0.000000</td>\n",
       "      <td>1.000000</td>\n",
       "      <td>1.000000</td>\n",
       "      <td>30.116002</td>\n",
       "      <td>1.625000</td>\n",
       "      <td>220.000000</td>\n",
       "    </tr>\n",
       "    <tr>\n",
       "      <th>max</th>\n",
       "      <td>99999.000000</td>\n",
       "      <td>64.000000</td>\n",
       "      <td>2.000000</td>\n",
       "      <td>207.000000</td>\n",
       "      <td>200.000000</td>\n",
       "      <td>200.000000</td>\n",
       "      <td>140.000000</td>\n",
       "      <td>3.000000</td>\n",
       "      <td>3.000000</td>\n",
       "      <td>1.000000</td>\n",
       "      <td>1.000000</td>\n",
       "      <td>1.000000</td>\n",
       "      <td>1.000000</td>\n",
       "      <td>68.308315</td>\n",
       "      <td>4.000000</td>\n",
       "      <td>340.000000</td>\n",
       "    </tr>\n",
       "  </tbody>\n",
       "</table>\n",
       "</div>"
      ],
      "text/plain": [
       "                 id           age        gender        height        weight  \\\n",
       "count  68217.000000  68217.000000  68217.000000  68217.000000  68217.000000   \n",
       "mean   49963.469282     52.819634      1.349649    164.535160     74.158823   \n",
       "std    28851.660722      6.768059      0.476863      7.710511     14.232075   \n",
       "min        0.000000     29.000000      1.000000    145.000000     40.000000   \n",
       "25%    24988.000000     48.000000      1.000000    159.000000     65.000000   \n",
       "50%    50002.000000     53.000000      1.000000    165.000000     72.000000   \n",
       "75%    74862.000000     58.000000      2.000000    170.000000     82.000000   \n",
       "max    99999.000000     64.000000      2.000000    207.000000    200.000000   \n",
       "\n",
       "              ap_hi         ap_lo   cholesterol          gluc         smoke  \\\n",
       "count  68217.000000  68217.000000  68217.000000  68217.000000  68217.000000   \n",
       "mean     126.601067     81.279886      1.364264      1.225589      0.088262   \n",
       "std       16.484961      9.362545      0.678644      0.571567      0.283678   \n",
       "min       60.000000     40.000000      1.000000      1.000000      0.000000   \n",
       "25%      120.000000     80.000000      1.000000      1.000000      0.000000   \n",
       "50%      120.000000     80.000000      1.000000      1.000000      0.000000   \n",
       "75%      140.000000     90.000000      1.000000      1.000000      0.000000   \n",
       "max      200.000000    140.000000      3.000000      3.000000      1.000000   \n",
       "\n",
       "               alco        active        cardio           bmi           bpr  \\\n",
       "count  68217.000000  68217.000000  68217.000000  68217.000000  68217.000000   \n",
       "mean       0.053506      0.803348      0.494246     27.424358      1.561816   \n",
       "std        0.225041      0.397470      0.499971      5.163564      0.148719   \n",
       "min        0.000000      0.000000      0.000000     13.520822      1.058824   \n",
       "25%        0.000000      1.000000      0.000000     23.875115      1.500000   \n",
       "50%        0.000000      1.000000      0.000000     26.303619      1.500000   \n",
       "75%        0.000000      1.000000      1.000000     30.116002      1.625000   \n",
       "max        1.000000      1.000000      1.000000     68.308315      4.000000   \n",
       "\n",
       "             ap_sum  \n",
       "count  68217.000000  \n",
       "mean     207.880953  \n",
       "std       24.193435  \n",
       "min      100.000000  \n",
       "25%      200.000000  \n",
       "50%      200.000000  \n",
       "75%      220.000000  \n",
       "max      340.000000  "
      ]
     },
     "execution_count": 89,
     "metadata": {},
     "output_type": "execute_result"
    }
   ],
   "source": [
    "df3.describe()"
   ]
  },
  {
   "cell_type": "markdown",
   "id": "08739811",
   "metadata": {
    "heading_collapsed": true
   },
   "source": [
    "# 4.0 Análise Exploratória"
   ]
  },
  {
   "cell_type": "code",
   "execution_count": 90,
   "id": "d6e66a30",
   "metadata": {
    "ExecuteTime": {
     "end_time": "2022-04-21T13:41:35.061471Z",
     "start_time": "2022-04-21T13:41:35.047479Z"
    },
    "hidden": true
   },
   "outputs": [],
   "source": [
    "df4 = df3.copy()"
   ]
  },
  {
   "cell_type": "markdown",
   "id": "c134e95e",
   "metadata": {
    "hidden": true
   },
   "source": [
    "## 4.1 Relatório automatizado"
   ]
  },
  {
   "cell_type": "code",
   "execution_count": 91,
   "id": "7d5c99ad",
   "metadata": {
    "ExecuteTime": {
     "end_time": "2022-04-21T13:41:35.077461Z",
     "start_time": "2022-04-21T13:41:35.063469Z"
    },
    "hidden": true
   },
   "outputs": [
    {
     "data": {
      "text/plain": [
       "\"# Gerando relatorio  \\nrelatorio = sweetviz.analyze(df4, target_feat='active')\\n# Gerando o relatorio em html \\nrelatorio.show_html('relatorio.html')\""
      ]
     },
     "execution_count": 91,
     "metadata": {},
     "output_type": "execute_result"
    }
   ],
   "source": [
    "\"\"\"# Gerando relatorio  \n",
    "relatorio = sweetviz.analyze(df4, target_feat='active')\n",
    "# Gerando o relatorio em html \n",
    "relatorio.show_html('relatorio.html')\"\"\""
   ]
  },
  {
   "cell_type": "markdown",
   "id": "2f768798",
   "metadata": {
    "hidden": true
   },
   "source": [
    "## 4.2 Análise Univariada"
   ]
  },
  {
   "cell_type": "markdown",
   "id": "f96c4c8d",
   "metadata": {
    "hidden": true
   },
   "source": [
    "### 4.2.1 Análise da variável resposta"
   ]
  },
  {
   "cell_type": "code",
   "execution_count": 92,
   "id": "fdf1a2af",
   "metadata": {
    "ExecuteTime": {
     "end_time": "2022-04-21T13:41:35.393265Z",
     "start_time": "2022-04-21T13:41:35.079459Z"
    },
    "hidden": true,
    "scrolled": true
   },
   "outputs": [
    {
     "data": {
      "image/png": "[encoded data removed]",
      "text/plain": [
       "<Figure size 720x360 with 1 Axes>"
      ]
     },
     "metadata": {
      "needs_background": "light"
     },
     "output_type": "display_data"
    }
   ],
   "source": [
    "# Definindo tamanho da imagem\n",
    "plt.figure(figsize=(10,5))\n",
    "\n",
    "# Contagem dos valores\n",
    "sns.countplot(x=df4['cardio']);\n",
    "\n",
    "# Ajustando o gráfico\n",
    "plt.title('Contagem do número de pessoas que possuem doença cardiovascular disease');\n",
    "plt.xlabel('Presença da doença');\n",
    "plt.ylabel('Quantidade');\n",
    "plt.xticks(ticks=[0,1], labels=['Não', 'Sim']);\n",
    "\n",
    "# Plotando o gráfico\n",
    "plt.show()"
   ]
  },
  {
   "cell_type": "markdown",
   "id": "ef1574f1",
   "metadata": {
    "hidden": true
   },
   "source": [
    "### 4.2.2 Plotando o histograma das variáveis"
   ]
  },
  {
   "cell_type": "code",
   "execution_count": 93,
   "id": "02887b17",
   "metadata": {
    "ExecuteTime": {
     "end_time": "2022-04-21T13:41:41.795315Z",
     "start_time": "2022-04-21T13:41:35.410256Z"
    },
    "hidden": true
   },
   "outputs": [
    {
     "data": {
      "image/png": "[encoded data removed]",
      "text/plain": [
       "<Figure size 1080x720 with 8 Axes>"
      ]
     },
     "metadata": {
      "needs_background": "light"
     },
     "output_type": "display_data"
    }
   ],
   "source": [
    "# Defininindo lista \n",
    "aux = df4[['age','height','weight','ap_hi','ap_lo', 'bmi', 'bpr', 'ap_sum']].columns.tolist()\n",
    "\n",
    "# Definindo tamanho dos gráficos\n",
    "plt.figure(figsize=(15,10))\n",
    "\n",
    "# Definindo a constante\n",
    "x = 1\n",
    "\n",
    "# Gerando os gráficos\n",
    "for col in aux:\n",
    "    plt.subplot(2, 4, x)\n",
    "    sns.histplot(x=df4[col], bins=70, kde=True);\n",
    "    x +=1\n",
    "    \n",
    "# adjust height reserved for space between subplots  \n",
    "plt.subplots_adjust(hspace=0.3)\n",
    "\n",
    "# Plotando\n",
    "plt.show()"
   ]
  },
  {
   "cell_type": "code",
   "execution_count": 94,
   "id": "2cb2581d",
   "metadata": {
    "ExecuteTime": {
     "end_time": "2022-04-21T13:41:45.432070Z",
     "start_time": "2022-04-21T13:41:41.797314Z"
    },
    "hidden": true
   },
   "outputs": [
    {
     "data": {
      "text/html": [
       "<div>\n",
       "<style scoped>\n",
       "    .dataframe tbody tr th:only-of-type {\n",
       "        vertical-align: middle;\n",
       "    }\n",
       "\n",
       "    .dataframe tbody tr th {\n",
       "        vertical-align: top;\n",
       "    }\n",
       "\n",
       "    .dataframe thead th {\n",
       "        text-align: right;\n",
       "    }\n",
       "</style>\n",
       "<table border=\"1\" class=\"dataframe\">\n",
       "  <thead>\n",
       "    <tr style=\"text-align: right;\">\n",
       "      <th></th>\n",
       "      <th>attributes</th>\n",
       "      <th>min</th>\n",
       "      <th>max</th>\n",
       "      <th>range</th>\n",
       "      <th>mean</th>\n",
       "      <th>median</th>\n",
       "      <th>std</th>\n",
       "      <th>skew</th>\n",
       "      <th>kurtosis</th>\n",
       "    </tr>\n",
       "  </thead>\n",
       "  <tbody>\n",
       "    <tr>\n",
       "      <th>0</th>\n",
       "      <td>id</td>\n",
       "      <td>0.000000</td>\n",
       "      <td>99999.000000</td>\n",
       "      <td>99999.000000</td>\n",
       "      <td>49963.469282</td>\n",
       "      <td>50002.000000</td>\n",
       "      <td>28851.449251</td>\n",
       "      <td>-0.000668</td>\n",
       "      <td>-1.198400</td>\n",
       "    </tr>\n",
       "    <tr>\n",
       "      <th>1</th>\n",
       "      <td>age</td>\n",
       "      <td>29.000000</td>\n",
       "      <td>64.000000</td>\n",
       "      <td>35.000000</td>\n",
       "      <td>52.819634</td>\n",
       "      <td>53.000000</td>\n",
       "      <td>6.768010</td>\n",
       "      <td>-0.303167</td>\n",
       "      <td>-0.821015</td>\n",
       "    </tr>\n",
       "    <tr>\n",
       "      <th>2</th>\n",
       "      <td>gender</td>\n",
       "      <td>1.000000</td>\n",
       "      <td>2.000000</td>\n",
       "      <td>1.000000</td>\n",
       "      <td>1.349649</td>\n",
       "      <td>1.000000</td>\n",
       "      <td>0.476859</td>\n",
       "      <td>0.630603</td>\n",
       "      <td>-1.602387</td>\n",
       "    </tr>\n",
       "    <tr>\n",
       "      <th>3</th>\n",
       "      <td>height</td>\n",
       "      <td>145.000000</td>\n",
       "      <td>207.000000</td>\n",
       "      <td>62.000000</td>\n",
       "      <td>164.535160</td>\n",
       "      <td>165.000000</td>\n",
       "      <td>7.710454</td>\n",
       "      <td>0.207975</td>\n",
       "      <td>0.003092</td>\n",
       "    </tr>\n",
       "    <tr>\n",
       "      <th>4</th>\n",
       "      <td>weight</td>\n",
       "      <td>40.000000</td>\n",
       "      <td>200.000000</td>\n",
       "      <td>160.000000</td>\n",
       "      <td>74.158823</td>\n",
       "      <td>72.000000</td>\n",
       "      <td>14.231971</td>\n",
       "      <td>1.005568</td>\n",
       "      <td>2.399069</td>\n",
       "    </tr>\n",
       "    <tr>\n",
       "      <th>5</th>\n",
       "      <td>ap_hi</td>\n",
       "      <td>60.000000</td>\n",
       "      <td>200.000000</td>\n",
       "      <td>140.000000</td>\n",
       "      <td>126.601067</td>\n",
       "      <td>120.000000</td>\n",
       "      <td>16.484840</td>\n",
       "      <td>0.845597</td>\n",
       "      <td>1.309128</td>\n",
       "    </tr>\n",
       "    <tr>\n",
       "      <th>6</th>\n",
       "      <td>ap_lo</td>\n",
       "      <td>40.000000</td>\n",
       "      <td>140.000000</td>\n",
       "      <td>100.000000</td>\n",
       "      <td>81.279886</td>\n",
       "      <td>80.000000</td>\n",
       "      <td>9.362477</td>\n",
       "      <td>0.272878</td>\n",
       "      <td>1.382332</td>\n",
       "    </tr>\n",
       "    <tr>\n",
       "      <th>7</th>\n",
       "      <td>cholesterol</td>\n",
       "      <td>1.000000</td>\n",
       "      <td>3.000000</td>\n",
       "      <td>2.000000</td>\n",
       "      <td>1.364264</td>\n",
       "      <td>1.000000</td>\n",
       "      <td>0.678639</td>\n",
       "      <td>1.598413</td>\n",
       "      <td>1.030791</td>\n",
       "    </tr>\n",
       "    <tr>\n",
       "      <th>8</th>\n",
       "      <td>gluc</td>\n",
       "      <td>1.000000</td>\n",
       "      <td>3.000000</td>\n",
       "      <td>2.000000</td>\n",
       "      <td>1.225589</td>\n",
       "      <td>1.000000</td>\n",
       "      <td>0.571563</td>\n",
       "      <td>2.404590</td>\n",
       "      <td>4.327924</td>\n",
       "    </tr>\n",
       "    <tr>\n",
       "      <th>9</th>\n",
       "      <td>smoke</td>\n",
       "      <td>0.000000</td>\n",
       "      <td>1.000000</td>\n",
       "      <td>1.000000</td>\n",
       "      <td>0.088262</td>\n",
       "      <td>0.000000</td>\n",
       "      <td>0.283676</td>\n",
       "      <td>2.902934</td>\n",
       "      <td>6.427211</td>\n",
       "    </tr>\n",
       "    <tr>\n",
       "      <th>10</th>\n",
       "      <td>alco</td>\n",
       "      <td>0.000000</td>\n",
       "      <td>1.000000</td>\n",
       "      <td>1.000000</td>\n",
       "      <td>0.053506</td>\n",
       "      <td>0.000000</td>\n",
       "      <td>0.225040</td>\n",
       "      <td>3.968225</td>\n",
       "      <td>13.747215</td>\n",
       "    </tr>\n",
       "    <tr>\n",
       "      <th>11</th>\n",
       "      <td>active</td>\n",
       "      <td>0.000000</td>\n",
       "      <td>1.000000</td>\n",
       "      <td>1.000000</td>\n",
       "      <td>0.803348</td>\n",
       "      <td>1.000000</td>\n",
       "      <td>0.397467</td>\n",
       "      <td>-1.526441</td>\n",
       "      <td>0.330031</td>\n",
       "    </tr>\n",
       "    <tr>\n",
       "      <th>12</th>\n",
       "      <td>cardio</td>\n",
       "      <td>0.000000</td>\n",
       "      <td>1.000000</td>\n",
       "      <td>1.000000</td>\n",
       "      <td>0.494246</td>\n",
       "      <td>0.000000</td>\n",
       "      <td>0.499967</td>\n",
       "      <td>0.023017</td>\n",
       "      <td>-1.999529</td>\n",
       "    </tr>\n",
       "    <tr>\n",
       "      <th>13</th>\n",
       "      <td>bmi</td>\n",
       "      <td>13.520822</td>\n",
       "      <td>68.308315</td>\n",
       "      <td>54.787493</td>\n",
       "      <td>27.424358</td>\n",
       "      <td>26.303619</td>\n",
       "      <td>5.163526</td>\n",
       "      <td>1.188704</td>\n",
       "      <td>2.507526</td>\n",
       "    </tr>\n",
       "    <tr>\n",
       "      <th>14</th>\n",
       "      <td>bpr</td>\n",
       "      <td>1.058824</td>\n",
       "      <td>4.000000</td>\n",
       "      <td>2.941176</td>\n",
       "      <td>1.561816</td>\n",
       "      <td>1.500000</td>\n",
       "      <td>0.148717</td>\n",
       "      <td>2.069889</td>\n",
       "      <td>12.839550</td>\n",
       "    </tr>\n",
       "    <tr>\n",
       "      <th>15</th>\n",
       "      <td>ap_sum</td>\n",
       "      <td>100.000000</td>\n",
       "      <td>340.000000</td>\n",
       "      <td>240.000000</td>\n",
       "      <td>207.880953</td>\n",
       "      <td>200.000000</td>\n",
       "      <td>24.193258</td>\n",
       "      <td>0.623669</td>\n",
       "      <td>1.088415</td>\n",
       "    </tr>\n",
       "  </tbody>\n",
       "</table>\n",
       "</div>"
      ],
      "text/plain": [
       "     attributes         min           max         range          mean  \\\n",
       "0            id    0.000000  99999.000000  99999.000000  49963.469282   \n",
       "1           age   29.000000     64.000000     35.000000     52.819634   \n",
       "2        gender    1.000000      2.000000      1.000000      1.349649   \n",
       "3        height  145.000000    207.000000     62.000000    164.535160   \n",
       "4        weight   40.000000    200.000000    160.000000     74.158823   \n",
       "5         ap_hi   60.000000    200.000000    140.000000    126.601067   \n",
       "6         ap_lo   40.000000    140.000000    100.000000     81.279886   \n",
       "7   cholesterol    1.000000      3.000000      2.000000      1.364264   \n",
       "8          gluc    1.000000      3.000000      2.000000      1.225589   \n",
       "9         smoke    0.000000      1.000000      1.000000      0.088262   \n",
       "10         alco    0.000000      1.000000      1.000000      0.053506   \n",
       "11       active    0.000000      1.000000      1.000000      0.803348   \n",
       "12       cardio    0.000000      1.000000      1.000000      0.494246   \n",
       "13          bmi   13.520822     68.308315     54.787493     27.424358   \n",
       "14          bpr    1.058824      4.000000      2.941176      1.561816   \n",
       "15       ap_sum  100.000000    340.000000    240.000000    207.880953   \n",
       "\n",
       "          median           std      skew   kurtosis  \n",
       "0   50002.000000  28851.449251 -0.000668  -1.198400  \n",
       "1      53.000000      6.768010 -0.303167  -0.821015  \n",
       "2       1.000000      0.476859  0.630603  -1.602387  \n",
       "3     165.000000      7.710454  0.207975   0.003092  \n",
       "4      72.000000     14.231971  1.005568   2.399069  \n",
       "5     120.000000     16.484840  0.845597   1.309128  \n",
       "6      80.000000      9.362477  0.272878   1.382332  \n",
       "7       1.000000      0.678639  1.598413   1.030791  \n",
       "8       1.000000      0.571563  2.404590   4.327924  \n",
       "9       0.000000      0.283676  2.902934   6.427211  \n",
       "10      0.000000      0.225040  3.968225  13.747215  \n",
       "11      1.000000      0.397467 -1.526441   0.330031  \n",
       "12      0.000000      0.499967  0.023017  -1.999529  \n",
       "13     26.303619      5.163526  1.188704   2.507526  \n",
       "14      1.500000      0.148717  2.069889  12.839550  \n",
       "15    200.000000     24.193258  0.623669   1.088415  "
      ]
     },
     "execution_count": 94,
     "metadata": {},
     "output_type": "execute_result"
    },
    {
     "data": {
      "image/png": "[encoded data removed]",
      "text/plain": [
       "<Figure size 1440x1080 with 16 Axes>"
      ]
     },
     "metadata": {
      "needs_background": "light"
     },
     "output_type": "display_data"
    }
   ],
   "source": [
    "num_stats(df4)"
   ]
  },
  {
   "cell_type": "markdown",
   "id": "1c00e402",
   "metadata": {
    "hidden": true
   },
   "source": [
    "### 4.2.3 Análise das varáveis categóricas"
   ]
  },
  {
   "cell_type": "code",
   "execution_count": 95,
   "id": "d1330f65",
   "metadata": {
    "ExecuteTime": {
     "end_time": "2022-04-21T13:41:45.462051Z",
     "start_time": "2022-04-21T13:41:45.435070Z"
    },
    "hidden": true
   },
   "outputs": [
    {
     "data": {
      "text/html": [
       "<div>\n",
       "<style scoped>\n",
       "    .dataframe tbody tr th:only-of-type {\n",
       "        vertical-align: middle;\n",
       "    }\n",
       "\n",
       "    .dataframe tbody tr th {\n",
       "        vertical-align: top;\n",
       "    }\n",
       "\n",
       "    .dataframe thead th {\n",
       "        text-align: right;\n",
       "    }\n",
       "</style>\n",
       "<table border=\"1\" class=\"dataframe\">\n",
       "  <thead>\n",
       "    <tr style=\"text-align: right;\">\n",
       "      <th></th>\n",
       "      <th>gender</th>\n",
       "      <th>cholesterol</th>\n",
       "      <th>gluc</th>\n",
       "      <th>smoke</th>\n",
       "      <th>alco</th>\n",
       "    </tr>\n",
       "  </thead>\n",
       "  <tbody>\n",
       "    <tr>\n",
       "      <th>0</th>\n",
       "      <td>2</td>\n",
       "      <td>1</td>\n",
       "      <td>1</td>\n",
       "      <td>0</td>\n",
       "      <td>0</td>\n",
       "    </tr>\n",
       "    <tr>\n",
       "      <th>1</th>\n",
       "      <td>1</td>\n",
       "      <td>3</td>\n",
       "      <td>1</td>\n",
       "      <td>0</td>\n",
       "      <td>0</td>\n",
       "    </tr>\n",
       "    <tr>\n",
       "      <th>2</th>\n",
       "      <td>1</td>\n",
       "      <td>3</td>\n",
       "      <td>1</td>\n",
       "      <td>0</td>\n",
       "      <td>0</td>\n",
       "    </tr>\n",
       "    <tr>\n",
       "      <th>3</th>\n",
       "      <td>2</td>\n",
       "      <td>1</td>\n",
       "      <td>1</td>\n",
       "      <td>0</td>\n",
       "      <td>0</td>\n",
       "    </tr>\n",
       "    <tr>\n",
       "      <th>4</th>\n",
       "      <td>1</td>\n",
       "      <td>1</td>\n",
       "      <td>1</td>\n",
       "      <td>0</td>\n",
       "      <td>0</td>\n",
       "    </tr>\n",
       "  </tbody>\n",
       "</table>\n",
       "</div>"
      ],
      "text/plain": [
       "   gender  cholesterol  gluc  smoke  alco\n",
       "0       2            1     1      0     0\n",
       "1       1            3     1      0     0\n",
       "2       1            3     1      0     0\n",
       "3       2            1     1      0     0\n",
       "4       1            1     1      0     0"
      ]
     },
     "execution_count": 95,
     "metadata": {},
     "output_type": "execute_result"
    }
   ],
   "source": [
    "aux = df4[['gender','cholesterol','gluc','smoke','alco']]\n",
    "aux.head()"
   ]
  },
  {
   "cell_type": "raw",
   "id": "ea782fe4",
   "metadata": {
    "hidden": true
   },
   "source": [
    "1  - id: Identificação dos exames \n",
    "2  - Age: Idade(em dias)\n",
    "3  - Gender: Sexo\n",
    "4  - Height: Altura (cm)\n",
    "5  - Weight: Peso (Kg)\n",
    "6  - ap_hi: Pressão arterial sistólica\n",
    "7  - ap_lo: Pressão arterial diastólica\n",
    "8  - Cholesterol: Colesterol (1: Normal, 2:Acima do normal, 3: Bem acima do normal)\n",
    "9  - gluc: Glicose (1: Normal, 2: Acima do normal, 3: Bem acima do normal)\n",
    "10 - smoke: Fumar (1: sim, 2: não)\n",
    "11 - alco: Uso de álcool (0: Não, 1: Sim)\n",
    "12 - active: (0: Não, 1:Sim)\n",
    "13 - cardio: Doente ou não"
   ]
  },
  {
   "cell_type": "code",
   "execution_count": 96,
   "id": "93db39b3",
   "metadata": {
    "ExecuteTime": {
     "end_time": "2022-04-21T13:41:45.541002Z",
     "start_time": "2022-04-21T13:41:45.464050Z"
    },
    "hidden": true
   },
   "outputs": [],
   "source": [
    "# Convertendo sexo em categórico\n",
    "aux['gender'] = aux['gender'].astype('category')\n",
    "\n",
    "# Convertendo gluc em categórico\n",
    "aux['gluc'] = aux['gluc'].apply(lambda x: 'normal' if x == 1 else\n",
    "                                          'acima do normal' if x == 2 else \n",
    "                                          'bem acima do normal')\n",
    "\n",
    "# Convertendo sexo em categórico\n",
    "aux['cholesterol'] = aux['cholesterol'].apply(lambda x: 'normal' if x == 1 else\n",
    "                                          'acima do normal' if x == 2 else \n",
    "                                          'bem acima do normal')\n",
    "\n",
    "# Convertendo smoke em categórico\n",
    "aux['smoke'] = aux['smoke'].apply(lambda x: 'sim' if x == 1 else 'não')\n",
    "\n",
    "# Convertendo alco em categórico\n",
    "aux['alco'] = aux['alco'].apply(lambda x: 'sim' if x == 1 else 'não')"
   ]
  },
  {
   "cell_type": "code",
   "execution_count": 97,
   "id": "9e80c313",
   "metadata": {
    "ExecuteTime": {
     "end_time": "2022-04-21T13:41:46.393477Z",
     "start_time": "2022-04-21T13:41:45.542002Z"
    },
    "hidden": true
   },
   "outputs": [
    {
     "data": {
      "image/png": "[encoded data removed]",
      "text/plain": [
       "<Figure size 1224x648 with 5 Axes>"
      ]
     },
     "metadata": {
      "needs_background": "light"
     },
     "output_type": "display_data"
    }
   ],
   "source": [
    "lista = aux.columns.tolist()\n",
    "\n",
    "plt.figure(figsize=(17,9))\n",
    "\n",
    "x = 1\n",
    "\n",
    "for col in lista:\n",
    "    plt.subplot(2, 3, x)\n",
    "    sns.countplot(x = aux[col]);\n",
    "    plt.title(\"Contagem do \" + col, fontsize=14);\n",
    "    x += 1\n",
    "    \n",
    "# adjust height reserved for space between subplots  \n",
    "plt.subplots_adjust(hspace=0.3)\n",
    "\n",
    "plt.show()"
   ]
  },
  {
   "cell_type": "markdown",
   "id": "deda2ebc",
   "metadata": {
    "heading_collapsed": true,
    "hidden": true
   },
   "source": [
    "## 4.3 Análise Bivariada"
   ]
  },
  {
   "cell_type": "markdown",
   "id": "1947c8aa",
   "metadata": {
    "hidden": true
   },
   "source": [
    "### Pessoas com mais de 50 anos são mais propensas a terem a doença"
   ]
  },
  {
   "cell_type": "code",
   "execution_count": 98,
   "id": "83175e30",
   "metadata": {
    "ExecuteTime": {
     "end_time": "2022-04-21T13:41:46.632329Z",
     "start_time": "2022-04-21T13:41:46.401472Z"
    },
    "hidden": true,
    "scrolled": true
   },
   "outputs": [
    {
     "data": {
      "image/png": "[encoded data removed]",
      "text/plain": [
       "<Figure size 1080x360 with 1 Axes>"
      ]
     },
     "metadata": {
      "needs_background": "light"
     },
     "output_type": "display_data"
    }
   ],
   "source": [
    "# Dimensão do gráfico\n",
    "plt.figure(figsize=(15,5))\n",
    "\n",
    "aux = df4[['age', 'cardio']].groupby('age').count().reset_index()\n",
    "#aux['age'] = aux['age']/365\n",
    "#aux['age'] = aux['age'].astype(int)\n",
    "\n",
    "# Plot do gráfico\n",
    "sns.barplot(x='age', y='cardio', data=aux);\n",
    "\n",
    "# Configurando o gráfico\n",
    "plt.title('Análise da doença cardiovascular por idade', fontsize=14);\n",
    "plt.xlabel('Idade (Ano)');\n",
    "plt.ylabel('Quantidade');\n"
   ]
  },
  {
   "cell_type": "markdown",
   "id": "fa453e54",
   "metadata": {
    "heading_collapsed": true,
    "hidden": true
   },
   "source": [
    "### Pessoas com colesterol alto tem mais chances de ficar doentes"
   ]
  },
  {
   "cell_type": "code",
   "execution_count": 99,
   "id": "69f1a0a4",
   "metadata": {
    "ExecuteTime": {
     "end_time": "2022-04-21T13:41:46.900164Z",
     "start_time": "2022-04-21T13:41:46.633328Z"
    },
    "hidden": true
   },
   "outputs": [
    {
     "data": {
      "image/png": "[encoded data removed]",
      "text/plain": [
       "<Figure size 1296x576 with 1 Axes>"
      ]
     },
     "metadata": {
      "needs_background": "light"
     },
     "output_type": "display_data"
    }
   ],
   "source": [
    "# Definindo dimensões do gráfico\n",
    "plt.figure(figsize=(18,8))\n",
    "\n",
    "# Gerando gráfico\n",
    "sns.countplot(x=df4['cholesterol'], hue='cardio', data=df4);\n",
    "\n",
    "# Configurando o gráfico\n",
    "plt.title('Análise da doença cardiovascular por nível de colesterol', fontsize=14);\n",
    "plt.xlabel('Nivel do colesterol');\n",
    "plt.ylabel('Quantidade');\n",
    "plt.xticks(ticks=[0,1,2], labels=['Normal', 'Alto', 'Muito alto'])\n",
    "\n",
    "plt.show()"
   ]
  },
  {
   "cell_type": "markdown",
   "id": "17499244",
   "metadata": {
    "heading_collapsed": true,
    "hidden": true
   },
   "source": [
    "### Pessoas que fumam tem mais chances de ficar doentes"
   ]
  },
  {
   "cell_type": "code",
   "execution_count": 100,
   "id": "ca71557e",
   "metadata": {
    "ExecuteTime": {
     "end_time": "2022-04-21T13:41:47.106037Z",
     "start_time": "2022-04-21T13:41:46.901164Z"
    },
    "hidden": true,
    "scrolled": true
   },
   "outputs": [
    {
     "data": {
      "image/png": "[encoded data removed]",
      "text/plain": [
       "<Figure size 1296x576 with 1 Axes>"
      ]
     },
     "metadata": {
      "needs_background": "light"
     },
     "output_type": "display_data"
    }
   ],
   "source": [
    "# Definindo dimensões do gráfico\n",
    "plt.figure(figsize=(18,8))\n",
    "\n",
    "# Gerando gráfico\n",
    "sns.countplot(x=df4['smoke'], hue='active', data=df4);"
   ]
  },
  {
   "cell_type": "markdown",
   "id": "abe86cce",
   "metadata": {
    "hidden": true
   },
   "source": [
    "### Homens possuem mais chances de ter a doeça cardiovascular\n",
    "\n"
   ]
  },
  {
   "cell_type": "code",
   "execution_count": 101,
   "id": "c08d8f8b",
   "metadata": {
    "ExecuteTime": {
     "end_time": "2022-04-21T13:41:47.437832Z",
     "start_time": "2022-04-21T13:41:47.108037Z"
    },
    "hidden": true
   },
   "outputs": [
    {
     "name": "stdout",
     "output_type": "stream",
     "text": [
      "   gender  cardio\n",
      "0       1   21808\n",
      "1       2   11908\n"
     ]
    },
    {
     "data": {
      "image/png": "[encoded data removed]",
      "text/plain": [
       "<Figure size 1440x576 with 2 Axes>"
      ]
     },
     "metadata": {
      "needs_background": "light"
     },
     "output_type": "display_data"
    }
   ],
   "source": [
    "# gender 1 = Mulheres (65%)\n",
    "# gender 2 = Homens (35%)\n",
    "\n",
    "# Análise agrupada por gênero\n",
    "aux = df4[['gender', 'cardio']].groupby('gender').sum().reset_index()\n",
    "print(aux)\n",
    "\n",
    "# Dimensionando o subplots\n",
    "plt.subplots(figsize=(20,8))\n",
    "\n",
    "# Gráfico de quantidade de homens e mulheres\n",
    "plt.subplot(1,2,1)\n",
    "sns.barplot(x='gender', y='cardio', data=aux);\n",
    "plt.title('Quantidade de doentes por sexo');\n",
    "\n",
    "# Gráfico de quantidade de homens e mulheres\n",
    "plt.subplot(1,2,2)\n",
    "sns.countplot(x='gender', hue='cardio', data=df4);\n",
    "plt.title('Análise das condições cardiovascular por sexo');\n"
   ]
  },
  {
   "cell_type": "markdown",
   "id": "6221661c",
   "metadata": {
    "hidden": true
   },
   "source": [
    "### Paciêntes menores são mais propensos a desonvelver a doença"
   ]
  },
  {
   "cell_type": "code",
   "execution_count": 102,
   "id": "bde8fb37",
   "metadata": {
    "ExecuteTime": {
     "end_time": "2022-04-21T13:41:48.591121Z",
     "start_time": "2022-04-21T13:41:47.439832Z"
    },
    "hidden": true
   },
   "outputs": [
    {
     "data": {
      "image/png": "[encoded data removed]",
      "text/plain": [
       "<Figure size 1440x576 with 1 Axes>"
      ]
     },
     "metadata": {
      "needs_background": "light"
     },
     "output_type": "display_data"
    }
   ],
   "source": [
    "# Configurando o tamanho\n",
    "plt.subplots(figsize=(20,8))\n",
    "\n",
    "# Plotando o gráfico\n",
    "sns.countplot(x='height', hue='cardio', data=df4, palette='Set2');\n",
    "plt.title('Altura do paciênte x Doença');\n",
    "plt.xticks(rotation=90);"
   ]
  },
  {
   "cell_type": "code",
   "execution_count": 103,
   "id": "7d1ad673",
   "metadata": {
    "ExecuteTime": {
     "end_time": "2022-04-21T13:41:49.479572Z",
     "start_time": "2022-04-21T13:41:48.593120Z"
    },
    "hidden": true
   },
   "outputs": [
    {
     "data": {
      "image/png": "[encoded data removed]",
      "text/plain": [
       "<Figure size 1440x576 with 4 Axes>"
      ]
     },
     "metadata": {
      "needs_background": "light"
     },
     "output_type": "display_data"
    }
   ],
   "source": [
    "# Configurando o gráfico\n",
    "plt.subplots(figsize=(20,8))\n",
    "\n",
    "# Configurando os dados range 5\n",
    "bins1 = list(np.arange(145,200,5))\n",
    "aux = df4[['height', 'cardio']]\n",
    "aux['height_binned'] = pd.cut(aux['height'], bins=bins1)\n",
    "\n",
    "# Plotando o primeiro gráfico\n",
    "plt.subplot(1,3,1)\n",
    "sns.countplot(x='height_binned', hue='cardio', data=aux);\n",
    "plt.title('Paciênte por faixa de altura (range 5) x doneça');\n",
    "plt.xticks(rotation=90);\n",
    "\n",
    "# Configurando os dados range 10\n",
    "bins1 = list(np.arange(145,200,10))\n",
    "aux2 = df4[['height', 'cardio']]\n",
    "aux2['height_binned'] = pd.cut(aux2['height'], bins=bins1)\n",
    "\n",
    "# Plotando o segundo gráfico\n",
    "plt.subplot(1,3,2)\n",
    "sns.countplot(x='height_binned', hue='cardio', data=aux2);\n",
    "plt.title('Paciênte por faixa de altura (range 10) x doneça');\n",
    "plt.xticks(rotation=90);\n",
    "\n",
    "# Plotando o terceiro gráfico (correlação)\n",
    "plt.subplot(1,3,3)\n",
    "point_bi_corr(df4[['cardio']], df4[['height']]);"
   ]
  },
  {
   "cell_type": "markdown",
   "id": "c7d50294",
   "metadata": {
    "heading_collapsed": true,
    "hidden": true
   },
   "source": [
    "### Paciêntes com mais pesos são mais propensos a serem doentes"
   ]
  },
  {
   "cell_type": "code",
   "execution_count": 104,
   "id": "9c280631",
   "metadata": {
    "ExecuteTime": {
     "end_time": "2022-04-21T13:41:56.809888Z",
     "start_time": "2022-04-21T13:41:49.481571Z"
    },
    "hidden": true
   },
   "outputs": [
    {
     "data": {
      "image/png": "[encoded data removed]",
      "text/plain": [
       "<Figure size 1440x576 with 3 Axes>"
      ]
     },
     "metadata": {
      "needs_background": "light"
     },
     "output_type": "display_data"
    }
   ],
   "source": [
    "# Configurando o gráfico\n",
    "plt.subplots(figsize=(20,8))\n",
    "\n",
    "# Confirgurando os dados\n",
    "bins1 = list(np.arange(40,200,10))\n",
    "aux = df4[['weight', 'cardio']]\n",
    "aux['weight_binned_10'] = pd.cut(aux['weight'], bins=bins1)\n",
    "aux2 = aux[['weight_binned_10', 'cardio']].groupby('weight_binned_10').count().reset_index()\n",
    "aux3 = aux[['weight_binned_10', 'cardio']].groupby('weight_binned_10').sum().reset_index()\n",
    "\n",
    "aux2['count'] = aux2['cardio']\n",
    "aux3['count'] = aux2['count']\n",
    "\n",
    "aux3['ratio'] = (aux3['cardio']/aux3['count'])\n",
    "\n",
    "# Plotando o primeiro gráfio\n",
    "plt.subplot(1,3,1)\n",
    "sns.countplot(x='weight_binned_10', hue='cardio', data=aux);\n",
    "plt.xticks(rotation=90);\n",
    "\n",
    "# Plotando o segundo gráfico\n",
    "plt.subplot(1,3,2)\n",
    "sns.barplot(x='weight_binned_10', y='ratio', data=aux3);\n",
    "plt.xticks(rotation=90);\n",
    "\n",
    "# Plotando o terceiro gráfico\n",
    "plt.subplot(1,3,3)\n",
    "sns.regplot(x='weight', y='cardio', data=df4);"
   ]
  },
  {
   "cell_type": "markdown",
   "id": "71914e9c",
   "metadata": {
    "heading_collapsed": true,
    "hidden": true
   },
   "source": [
    "### Pacientes que fumam devem ter mais doenças cardiovasculares"
   ]
  },
  {
   "cell_type": "code",
   "execution_count": 105,
   "id": "f41705ad",
   "metadata": {
    "ExecuteTime": {
     "end_time": "2022-04-21T13:41:56.999770Z",
     "start_time": "2022-04-21T13:41:56.811887Z"
    },
    "hidden": true
   },
   "outputs": [
    {
     "data": {
      "text/html": [
       "<div>\n",
       "<style scoped>\n",
       "    .dataframe tbody tr th:only-of-type {\n",
       "        vertical-align: middle;\n",
       "    }\n",
       "\n",
       "    .dataframe tbody tr th {\n",
       "        vertical-align: top;\n",
       "    }\n",
       "\n",
       "    .dataframe thead th {\n",
       "        text-align: right;\n",
       "    }\n",
       "</style>\n",
       "<table border=\"1\" class=\"dataframe\">\n",
       "  <thead>\n",
       "    <tr style=\"text-align: right;\">\n",
       "      <th></th>\n",
       "      <th>smoke</th>\n",
       "      <th>cardio</th>\n",
       "      <th>count</th>\n",
       "      <th>ratio</th>\n",
       "    </tr>\n",
       "  </thead>\n",
       "  <tbody>\n",
       "    <tr>\n",
       "      <th>0</th>\n",
       "      <td>Não fumante</td>\n",
       "      <td>30899</td>\n",
       "      <td>62196</td>\n",
       "      <td>0.496800</td>\n",
       "    </tr>\n",
       "    <tr>\n",
       "      <th>1</th>\n",
       "      <td>fumante</td>\n",
       "      <td>2817</td>\n",
       "      <td>6021</td>\n",
       "      <td>0.467862</td>\n",
       "    </tr>\n",
       "  </tbody>\n",
       "</table>\n",
       "</div>"
      ],
      "text/plain": [
       "         smoke  cardio  count     ratio\n",
       "0  Não fumante   30899  62196  0.496800\n",
       "1      fumante    2817   6021  0.467862"
      ]
     },
     "execution_count": 105,
     "metadata": {},
     "output_type": "execute_result"
    },
    {
     "data": {
      "image/png": "[encoded data removed]",
      "text/plain": [
       "<Figure size 1440x576 with 1 Axes>"
      ]
     },
     "metadata": {
      "needs_background": "light"
     },
     "output_type": "display_data"
    }
   ],
   "source": [
    "aux = df4[['smoke', 'cardio']]\n",
    "aux2 = aux[['smoke', 'cardio']].groupby('smoke').sum().reset_index()\n",
    "aux3 = aux[['smoke', 'cardio']].groupby('smoke').count().reset_index()\n",
    "\n",
    "aux3['count'] = aux3['cardio']\n",
    "aux2['count'] = aux3['count']\n",
    "\n",
    "aux2['ratio'] = (aux2['cardio']/aux2['count'])\n",
    "aux2['smoke'] = aux2['smoke'].apply(lambda x: 'Não fumante' if x == 0 else 'fumante')\n",
    "\n",
    "plt.subplots(figsize=(20,8))\n",
    "sns.barplot(x='smoke', y='ratio', data=aux2);\n",
    "aux2"
   ]
  },
  {
   "cell_type": "markdown",
   "id": "9d120984",
   "metadata": {
    "heading_collapsed": true,
    "hidden": true
   },
   "source": [
    "### Pacientes que bebem álcool devem ter mais doenças cardiovasculares"
   ]
  },
  {
   "cell_type": "code",
   "execution_count": 106,
   "id": "b45463f9",
   "metadata": {
    "ExecuteTime": {
     "end_time": "2022-04-21T13:41:57.186655Z",
     "start_time": "2022-04-21T13:41:57.001770Z"
    },
    "hidden": true
   },
   "outputs": [
    {
     "data": {
      "text/html": [
       "<div>\n",
       "<style scoped>\n",
       "    .dataframe tbody tr th:only-of-type {\n",
       "        vertical-align: middle;\n",
       "    }\n",
       "\n",
       "    .dataframe tbody tr th {\n",
       "        vertical-align: top;\n",
       "    }\n",
       "\n",
       "    .dataframe thead th {\n",
       "        text-align: right;\n",
       "    }\n",
       "</style>\n",
       "<table border=\"1\" class=\"dataframe\">\n",
       "  <thead>\n",
       "    <tr style=\"text-align: right;\">\n",
       "      <th></th>\n",
       "      <th>alco</th>\n",
       "      <th>cardio</th>\n",
       "      <th>count</th>\n",
       "      <th>ratio</th>\n",
       "    </tr>\n",
       "  </thead>\n",
       "  <tbody>\n",
       "    <tr>\n",
       "      <th>0</th>\n",
       "      <td>Não bebe</td>\n",
       "      <td>31978</td>\n",
       "      <td>64567</td>\n",
       "      <td>0.495268</td>\n",
       "    </tr>\n",
       "    <tr>\n",
       "      <th>1</th>\n",
       "      <td>bebe</td>\n",
       "      <td>1738</td>\n",
       "      <td>3650</td>\n",
       "      <td>0.476164</td>\n",
       "    </tr>\n",
       "  </tbody>\n",
       "</table>\n",
       "</div>"
      ],
      "text/plain": [
       "       alco  cardio  count     ratio\n",
       "0  Não bebe   31978  64567  0.495268\n",
       "1      bebe    1738   3650  0.476164"
      ]
     },
     "execution_count": 106,
     "metadata": {},
     "output_type": "execute_result"
    },
    {
     "data": {
      "image/png": "[encoded data removed]",
      "text/plain": [
       "<Figure size 1440x576 with 1 Axes>"
      ]
     },
     "metadata": {
      "needs_background": "light"
     },
     "output_type": "display_data"
    }
   ],
   "source": [
    "aux = df4[['alco', 'cardio']]\n",
    "aux2 = aux[['alco', 'cardio']].groupby('alco').sum().reset_index()\n",
    "aux3 = aux[['alco', 'cardio']].groupby('alco').count().reset_index()\n",
    "\n",
    "aux3['count'] = aux3['cardio']\n",
    "aux2['count'] = aux3['count']\n",
    "\n",
    "aux2['ratio'] = (aux2['cardio']/aux2['count'])\n",
    "aux2['alco'] = aux2['alco'].apply(lambda x: 'Não bebe' if x == 0 else 'bebe')\n",
    "\n",
    "plt.subplots(figsize=(20,8))\n",
    "sns.barplot(x='alco', y='ratio', data=aux2);\n",
    "aux2"
   ]
  },
  {
   "cell_type": "markdown",
   "id": "bae6b0c8",
   "metadata": {
    "heading_collapsed": true,
    "hidden": true
   },
   "source": [
    "### Pacientes que praticam atividades físicas devem ter menos doenças cardiovasculares"
   ]
  },
  {
   "cell_type": "code",
   "execution_count": 107,
   "id": "8fbdb92a",
   "metadata": {
    "ExecuteTime": {
     "end_time": "2022-04-21T13:41:57.517452Z",
     "start_time": "2022-04-21T13:41:57.188655Z"
    },
    "hidden": true
   },
   "outputs": [
    {
     "data": {
      "text/html": [
       "<div>\n",
       "<style scoped>\n",
       "    .dataframe tbody tr th:only-of-type {\n",
       "        vertical-align: middle;\n",
       "    }\n",
       "\n",
       "    .dataframe tbody tr th {\n",
       "        vertical-align: top;\n",
       "    }\n",
       "\n",
       "    .dataframe thead th {\n",
       "        text-align: right;\n",
       "    }\n",
       "</style>\n",
       "<table border=\"1\" class=\"dataframe\">\n",
       "  <thead>\n",
       "    <tr style=\"text-align: right;\">\n",
       "      <th></th>\n",
       "      <th>active</th>\n",
       "      <th>cardio</th>\n",
       "      <th>count</th>\n",
       "      <th>ratio</th>\n",
       "    </tr>\n",
       "  </thead>\n",
       "  <tbody>\n",
       "    <tr>\n",
       "      <th>0</th>\n",
       "      <td>0</td>\n",
       "      <td>7143</td>\n",
       "      <td>13415</td>\n",
       "      <td>0.532464</td>\n",
       "    </tr>\n",
       "    <tr>\n",
       "      <th>1</th>\n",
       "      <td>1</td>\n",
       "      <td>26573</td>\n",
       "      <td>54802</td>\n",
       "      <td>0.484891</td>\n",
       "    </tr>\n",
       "  </tbody>\n",
       "</table>\n",
       "</div>"
      ],
      "text/plain": [
       "   active  cardio  count     ratio\n",
       "0       0    7143  13415  0.532464\n",
       "1       1   26573  54802  0.484891"
      ]
     },
     "execution_count": 107,
     "metadata": {},
     "output_type": "execute_result"
    },
    {
     "data": {
      "image/png": "[encoded data removed]",
      "text/plain": [
       "<Figure size 1440x576 with 2 Axes>"
      ]
     },
     "metadata": {
      "needs_background": "light"
     },
     "output_type": "display_data"
    }
   ],
   "source": [
    "# Preparando os dados \n",
    "aux = df4[[\"active\", \"cardio\"]].groupby(\"active\").count().reset_index()\n",
    "aux[\"count\"] = aux[\"cardio\"]\n",
    "\n",
    "aux02 =df4[[\"active\", \"cardio\"]].groupby(\"active\").sum().reset_index()\n",
    "aux02[\"count\"] = aux[\"count\"]\n",
    "aux02[\"ratio\"] = (aux02[\"cardio\"]/aux02[\"count\"])\n",
    "\n",
    "# Configurando os gráficos\n",
    "plt.subplots(figsize=(20,8))\n",
    "\n",
    "# Plotando o primeiro gráfico\n",
    "plt.subplot(1,2,1)\n",
    "sns.barplot(x=\"active\", y=\"ratio\", data=aux02);\n",
    "\n",
    "# Plotando o segundo gráfico\n",
    "plt.subplot(1,2,2)\n",
    "sns.countplot(x=\"active\", hue=\"cardio\", data=df4);\n",
    "\n",
    "aux02"
   ]
  },
  {
   "cell_type": "markdown",
   "id": "af96c65b",
   "metadata": {
    "heading_collapsed": true,
    "hidden": true
   },
   "source": [
    "###  Pacientes com pressão arterial sistólica elevada devem ter mais doenças cardiovasculares"
   ]
  },
  {
   "cell_type": "code",
   "execution_count": 108,
   "id": "fb3a67b1",
   "metadata": {
    "ExecuteTime": {
     "end_time": "2022-04-21T13:41:58.213023Z",
     "start_time": "2022-04-21T13:41:57.519450Z"
    },
    "hidden": true
   },
   "outputs": [
    {
     "data": {
      "image/png": "[encoded data removed]",
      "text/plain": [
       "<Figure size 1440x576 with 2 Axes>"
      ]
     },
     "metadata": {
      "needs_background": "light"
     },
     "output_type": "display_data"
    }
   ],
   "source": [
    "# Preparando os dados\n",
    "bins1 = list(np.arange(60,200,5))\n",
    "aux = df4[[\"ap_hi\", \"cardio\"]]\n",
    "aux[\"ap_hi_binned_5\"] = pd.cut(aux[\"ap_hi\"], bins=bins1)\n",
    "\n",
    "aux02 = aux[[\"ap_hi_binned_5\", \"cardio\"]].groupby(\"ap_hi_binned_5\").count().reset_index()\n",
    "aux02[\"count\"] = aux02[\"cardio\"]\n",
    "\n",
    "aux03 = aux[[\"ap_hi_binned_5\", \"cardio\"]].groupby(\"ap_hi_binned_5\").sum().reset_index()\n",
    "aux03[\"count\"] = aux02[\"count\"]\n",
    "aux03[\"ratio\"] = (aux03[\"cardio\"]/aux03[\"count\"])\n",
    "\n",
    "# Preparando os dados\n",
    "bins1 = list(np.arange(60,200,10))\n",
    "aux = df4[[\"ap_hi\", \"cardio\"]]\n",
    "aux[\"ap_hi_binned_10\"] = pd.cut(aux[\"ap_hi\"], bins=bins1)\n",
    "\n",
    "aux04 = aux[[\"ap_hi_binned_10\", \"cardio\"]].groupby(\"ap_hi_binned_10\").count().reset_index()\n",
    "aux04[\"count\"] = aux04[\"cardio\"]\n",
    "\n",
    "aux05 = aux[[\"ap_hi_binned_10\", \"cardio\"]].groupby(\"ap_hi_binned_10\").sum().reset_index()\n",
    "aux05[\"count\"] = aux04[\"count\"]\n",
    "aux05[\"ratio\"] = (aux05[\"cardio\"]/aux05[\"count\"])\n",
    "\n",
    "# Preparando os gráficos\n",
    "plt.subplots(figsize=(20,8))\n",
    "\n",
    "# Plotando o primeiro gráfico\n",
    "plt.subplot(1,2,1)\n",
    "sns.barplot(x=\"ap_hi_binned_5\", y=\"ratio\", data=aux03);\n",
    "plt.xticks(rotation=90);\n",
    "\n",
    "# Plotando o segundo gráfico\n",
    "plt.subplot(1,2,2)\n",
    "sns.barplot(x=\"ap_hi_binned_10\", y=\"ratio\", data=aux05);\n",
    "plt.xticks(rotation=90);"
   ]
  },
  {
   "cell_type": "markdown",
   "id": "12e2ff55",
   "metadata": {
    "heading_collapsed": true,
    "hidden": true
   },
   "source": [
    "###  Pacientes com pressão arterial diastólica elevada devem ter mais doenças cardiovasculares"
   ]
  },
  {
   "cell_type": "code",
   "execution_count": 109,
   "id": "e76896da",
   "metadata": {
    "ExecuteTime": {
     "end_time": "2022-04-21T13:41:58.784670Z",
     "start_time": "2022-04-21T13:41:58.215022Z"
    },
    "hidden": true
   },
   "outputs": [
    {
     "data": {
      "image/png": "[encoded data removed]",
      "text/plain": [
       "<Figure size 1440x576 with 2 Axes>"
      ]
     },
     "metadata": {
      "needs_background": "light"
     },
     "output_type": "display_data"
    }
   ],
   "source": [
    "# Preparando os dados\n",
    "bins1 = list(np.arange(40,140,5))\n",
    "aux = df4[[\"ap_lo\", \"cardio\"]]\n",
    "aux[\"ap_lo_binned_5\"] = pd.cut(aux[\"ap_lo\"], bins=bins1)\n",
    "\n",
    "aux02 = aux[[\"ap_lo_binned_5\", \"cardio\"]].groupby(\"ap_lo_binned_5\").count().reset_index()\n",
    "aux02[\"count\"] = aux02[\"cardio\"]\n",
    "\n",
    "aux03 = aux[[\"ap_lo_binned_5\", \"cardio\"]].groupby(\"ap_lo_binned_5\").sum().reset_index()\n",
    "aux03[\"count\"] = aux02[\"count\"]\n",
    "aux03[\"ratio\"] = (aux03[\"cardio\"]/aux03[\"count\"])\n",
    "\n",
    "# Preparando os dados\n",
    "bins1 = list(np.arange(40,140,10))\n",
    "aux = df4[[\"ap_lo\", \"cardio\"]]\n",
    "aux[\"ap_lo_binned_10\"] = pd.cut(aux[\"ap_lo\"], bins=bins1)\n",
    "\n",
    "aux04 = aux[[\"ap_lo_binned_10\", \"cardio\"]].groupby(\"ap_lo_binned_10\").count().reset_index()\n",
    "aux04[\"count\"] = aux04[\"cardio\"]\n",
    "\n",
    "aux05 = aux[[\"ap_lo_binned_10\", \"cardio\"]].groupby(\"ap_lo_binned_10\").sum().reset_index()\n",
    "aux05[\"count\"] = aux04[\"count\"]\n",
    "aux05[\"ratio\"] = (aux05[\"cardio\"]/aux05[\"count\"])\n",
    "\n",
    "# Preparando os gráficos\n",
    "plt.subplots(figsize=(20,8))\n",
    "\n",
    "# Plotando o primeiro gráfico\n",
    "plt.subplot(1,2,1)\n",
    "sns.barplot(x=\"ap_lo_binned_5\", y=\"ratio\", data=aux03);\n",
    "plt.xticks(rotation=90);\n",
    "\n",
    "# Plotando o segundo gráfico\n",
    "plt.subplot(1,2,2)\n",
    "sns.barplot(x=\"ap_lo_binned_10\", y=\"ratio\", data=aux05);\n",
    "plt.xticks(rotation=90);"
   ]
  },
  {
   "cell_type": "markdown",
   "id": "4582f743",
   "metadata": {
    "heading_collapsed": true
   },
   "source": [
    "# 5.0 Preparação dos dados"
   ]
  },
  {
   "cell_type": "code",
   "execution_count": 110,
   "id": "9c787c69",
   "metadata": {
    "ExecuteTime": {
     "end_time": "2022-04-21T13:41:58.799661Z",
     "start_time": "2022-04-21T13:41:58.786668Z"
    },
    "hidden": true
   },
   "outputs": [],
   "source": [
    "df5 = df4.copy()"
   ]
  },
  {
   "cell_type": "code",
   "execution_count": 111,
   "id": "ccf3c625",
   "metadata": {
    "ExecuteTime": {
     "end_time": "2022-04-21T13:41:58.815650Z",
     "start_time": "2022-04-21T13:41:58.801658Z"
    },
    "hidden": true,
    "scrolled": false
   },
   "outputs": [
    {
     "data": {
      "text/plain": [
       "id               int64\n",
       "age              int32\n",
       "gender           int64\n",
       "height           int64\n",
       "weight         float64\n",
       "ap_hi            int64\n",
       "ap_lo            int64\n",
       "cholesterol      int64\n",
       "gluc             int64\n",
       "smoke            int64\n",
       "alco             int64\n",
       "active           int64\n",
       "cardio           int64\n",
       "bmi            float64\n",
       "bpr            float64\n",
       "ap_sum           int64\n",
       "dtype: object"
      ]
     },
     "execution_count": 111,
     "metadata": {},
     "output_type": "execute_result"
    }
   ],
   "source": [
    "df5.dtypes"
   ]
  },
  {
   "cell_type": "code",
   "execution_count": 112,
   "id": "94d36649",
   "metadata": {
    "ExecuteTime": {
     "end_time": "2022-04-21T13:41:58.830641Z",
     "start_time": "2022-04-21T13:41:58.817649Z"
    },
    "hidden": true
   },
   "outputs": [],
   "source": [
    "df5 = df5.drop(['id'], axis = 1)"
   ]
  },
  {
   "cell_type": "code",
   "execution_count": 113,
   "id": "fd74b817",
   "metadata": {
    "ExecuteTime": {
     "end_time": "2022-04-21T13:41:58.910592Z",
     "start_time": "2022-04-21T13:41:58.895600Z"
    },
    "hidden": true
   },
   "outputs": [],
   "source": [
    "mms_age = pp.MinMaxScaler()\n",
    "mms_height = pp.MinMaxScaler()\n",
    "mms_weight = pp.MinMaxScaler()\n",
    "mms_ap_hi = pp.MinMaxScaler()\n",
    "mms_ap_lo = pp.MinMaxScaler()\n",
    "mms_bmi = pp.MinMaxScaler()\n",
    "mms_bpr = pp.MinMaxScaler()\n",
    "mms_ap_sum = pp.MinMaxScaler()\n",
    "\n",
    "\n",
    "df5['age'] = mms_age.fit_transform(df5[['age']].values)\n",
    "df5['height'] = mms_height.fit_transform(df5[['height']].values)\n",
    "df5['weight'] = mms_weight.fit_transform(df5[['weight']].values)\n",
    "df5['ap_hi'] = mms_ap_hi.fit_transform(df5[['ap_hi']].values)\n",
    "df5['ap_lo'] = mms_ap_lo.fit_transform(df5[['ap_lo']].values)\n",
    "df5['bmi'] = mms_bmi.fit_transform(df5[['bmi']].values)\n",
    "df5['bpr'] = mms_bpr.fit_transform(df5[['bpr']].values)\n",
    "df5['ap_sum'] = mms_ap_lo.fit_transform(df5[['ap_sum']].values)"
   ]
  },
  {
   "cell_type": "code",
   "execution_count": 114,
   "id": "bbcc99ea",
   "metadata": {
    "ExecuteTime": {
     "end_time": "2022-04-21T13:41:59.148444Z",
     "start_time": "2022-04-21T13:41:58.991541Z"
    },
    "hidden": true
   },
   "outputs": [],
   "source": [
    "df5 = pd.get_dummies( df5, prefix='gender', columns=['gender'] )\n",
    "\n",
    "df5 = pd.get_dummies( df5, prefix='gluc', columns=['gluc'] )\n",
    "\n",
    "df5 = pd.get_dummies( df5, prefix='cholesterol', columns=['cholesterol'] )\n",
    "\n",
    "df5 = pd.get_dummies( df5, prefix='smoke', columns=['smoke'] )\n",
    "\n",
    "df5 = pd.get_dummies( df5, prefix='alco', columns=['alco'] )\n",
    "\n",
    "df5 = pd.get_dummies( df5, prefix='active', columns=['active'] )\n",
    "\n"
   ]
  },
  {
   "cell_type": "markdown",
   "id": "bbb9a16b",
   "metadata": {},
   "source": [
    "# 6.0 Feature Selection"
   ]
  },
  {
   "cell_type": "code",
   "execution_count": 115,
   "id": "35ab37ed",
   "metadata": {
    "ExecuteTime": {
     "end_time": "2022-04-21T13:41:59.196415Z",
     "start_time": "2022-04-21T13:41:59.182424Z"
    }
   },
   "outputs": [],
   "source": [
    "df6 = df5"
   ]
  },
  {
   "cell_type": "code",
   "execution_count": 116,
   "id": "c47da425",
   "metadata": {
    "ExecuteTime": {
     "end_time": "2022-04-21T13:41:59.212406Z",
     "start_time": "2022-04-21T13:41:59.197415Z"
    },
    "scrolled": true
   },
   "outputs": [
    {
     "data": {
      "text/plain": [
       "age              0\n",
       "height           0\n",
       "weight           0\n",
       "ap_hi            0\n",
       "ap_lo            0\n",
       "cardio           0\n",
       "bmi              0\n",
       "bpr              0\n",
       "ap_sum           0\n",
       "gender_1         0\n",
       "gender_2         0\n",
       "gluc_1           0\n",
       "gluc_2           0\n",
       "gluc_3           0\n",
       "cholesterol_1    0\n",
       "cholesterol_2    0\n",
       "cholesterol_3    0\n",
       "smoke_0          0\n",
       "smoke_1          0\n",
       "alco_0           0\n",
       "alco_1           0\n",
       "active_0         0\n",
       "active_1         0\n",
       "dtype: int64"
      ]
     },
     "execution_count": 116,
     "metadata": {},
     "output_type": "execute_result"
    }
   ],
   "source": [
    "df6.isna().sum()"
   ]
  },
  {
   "cell_type": "code",
   "execution_count": 117,
   "id": "58184a0c",
   "metadata": {},
   "outputs": [
    {
     "data": {
      "text/html": [
       "<div>\n",
       "<style scoped>\n",
       "    .dataframe tbody tr th:only-of-type {\n",
       "        vertical-align: middle;\n",
       "    }\n",
       "\n",
       "    .dataframe tbody tr th {\n",
       "        vertical-align: top;\n",
       "    }\n",
       "\n",
       "    .dataframe thead th {\n",
       "        text-align: right;\n",
       "    }\n",
       "</style>\n",
       "<table border=\"1\" class=\"dataframe\">\n",
       "  <thead>\n",
       "    <tr style=\"text-align: right;\">\n",
       "      <th></th>\n",
       "      <th>age</th>\n",
       "      <th>height</th>\n",
       "      <th>weight</th>\n",
       "      <th>ap_hi</th>\n",
       "      <th>ap_lo</th>\n",
       "      <th>cardio</th>\n",
       "      <th>bmi</th>\n",
       "      <th>bpr</th>\n",
       "      <th>ap_sum</th>\n",
       "      <th>gender_1</th>\n",
       "      <th>...</th>\n",
       "      <th>gluc_3</th>\n",
       "      <th>cholesterol_1</th>\n",
       "      <th>cholesterol_2</th>\n",
       "      <th>cholesterol_3</th>\n",
       "      <th>smoke_0</th>\n",
       "      <th>smoke_1</th>\n",
       "      <th>alco_0</th>\n",
       "      <th>alco_1</th>\n",
       "      <th>active_0</th>\n",
       "      <th>active_1</th>\n",
       "    </tr>\n",
       "  </thead>\n",
       "  <tbody>\n",
       "    <tr>\n",
       "      <th>0</th>\n",
       "      <td>0.600000</td>\n",
       "      <td>0.370968</td>\n",
       "      <td>0.13750</td>\n",
       "      <td>0.357143</td>\n",
       "      <td>0.4</td>\n",
       "      <td>0</td>\n",
       "      <td>0.154165</td>\n",
       "      <td>0.107500</td>\n",
       "      <td>0.375000</td>\n",
       "      <td>0</td>\n",
       "      <td>...</td>\n",
       "      <td>0</td>\n",
       "      <td>1</td>\n",
       "      <td>0</td>\n",
       "      <td>0</td>\n",
       "      <td>1</td>\n",
       "      <td>0</td>\n",
       "      <td>1</td>\n",
       "      <td>0</td>\n",
       "      <td>0</td>\n",
       "      <td>1</td>\n",
       "    </tr>\n",
       "    <tr>\n",
       "      <th>1</th>\n",
       "      <td>0.742857</td>\n",
       "      <td>0.177419</td>\n",
       "      <td>0.28125</td>\n",
       "      <td>0.571429</td>\n",
       "      <td>0.5</td>\n",
       "      <td>1</td>\n",
       "      <td>0.390725</td>\n",
       "      <td>0.168889</td>\n",
       "      <td>0.541667</td>\n",
       "      <td>1</td>\n",
       "      <td>...</td>\n",
       "      <td>0</td>\n",
       "      <td>0</td>\n",
       "      <td>0</td>\n",
       "      <td>1</td>\n",
       "      <td>1</td>\n",
       "      <td>0</td>\n",
       "      <td>1</td>\n",
       "      <td>0</td>\n",
       "      <td>0</td>\n",
       "      <td>1</td>\n",
       "    </tr>\n",
       "    <tr>\n",
       "      <th>2</th>\n",
       "      <td>0.628571</td>\n",
       "      <td>0.322581</td>\n",
       "      <td>0.15000</td>\n",
       "      <td>0.500000</td>\n",
       "      <td>0.3</td>\n",
       "      <td>1</td>\n",
       "      <td>0.182286</td>\n",
       "      <td>0.271429</td>\n",
       "      <td>0.416667</td>\n",
       "      <td>1</td>\n",
       "      <td>...</td>\n",
       "      <td>0</td>\n",
       "      <td>0</td>\n",
       "      <td>0</td>\n",
       "      <td>1</td>\n",
       "      <td>1</td>\n",
       "      <td>0</td>\n",
       "      <td>1</td>\n",
       "      <td>0</td>\n",
       "      <td>1</td>\n",
       "      <td>0</td>\n",
       "    </tr>\n",
       "  </tbody>\n",
       "</table>\n",
       "<p>3 rows × 23 columns</p>\n",
       "</div>"
      ],
      "text/plain": [
       "        age    height   weight     ap_hi  ap_lo  cardio       bmi       bpr  \\\n",
       "0  0.600000  0.370968  0.13750  0.357143    0.4       0  0.154165  0.107500   \n",
       "1  0.742857  0.177419  0.28125  0.571429    0.5       1  0.390725  0.168889   \n",
       "2  0.628571  0.322581  0.15000  0.500000    0.3       1  0.182286  0.271429   \n",
       "\n",
       "     ap_sum  gender_1  ...  gluc_3  cholesterol_1  cholesterol_2  \\\n",
       "0  0.375000         0  ...       0              1              0   \n",
       "1  0.541667         1  ...       0              0              0   \n",
       "2  0.416667         1  ...       0              0              0   \n",
       "\n",
       "   cholesterol_3  smoke_0  smoke_1  alco_0  alco_1  active_0  active_1  \n",
       "0              0        1        0       1       0         0         1  \n",
       "1              1        1        0       1       0         0         1  \n",
       "2              1        1        0       1       0         1         0  \n",
       "\n",
       "[3 rows x 23 columns]"
      ]
     },
     "execution_count": 117,
     "metadata": {},
     "output_type": "execute_result"
    }
   ],
   "source": [
    "df6.head(3)"
   ]
  },
  {
   "cell_type": "code",
   "execution_count": 118,
   "id": "87c4b11f",
   "metadata": {
    "ExecuteTime": {
     "end_time": "2022-04-21T13:42:08.712543Z",
     "start_time": "2022-04-21T13:41:59.213405Z"
    }
   },
   "outputs": [
    {
     "name": "stdout",
     "output_type": "stream",
     "text": [
      "Feature ranking:\n",
      "         feature  importance\n",
      "0            bmi    0.176087\n",
      "0            age    0.170838\n",
      "0         weight    0.153031\n",
      "0         height    0.147145\n",
      "0          ap_hi    0.096958\n",
      "0         ap_sum    0.089893\n",
      "0          ap_lo    0.049130\n",
      "0            bpr    0.034697\n",
      "0  cholesterol_1    0.021547\n",
      "0  cholesterol_3    0.019068\n",
      "0         gluc_1    0.004833\n",
      "0  cholesterol_2    0.004509\n",
      "0       gender_2    0.004137\n",
      "0       gender_1    0.004120\n",
      "0       active_1    0.003414\n",
      "0         gluc_3    0.003330\n",
      "0       active_0    0.003314\n",
      "0         gluc_2    0.003015\n",
      "0        smoke_0    0.002870\n",
      "0        smoke_1    0.002837\n",
      "0         alco_0    0.002643\n",
      "0         alco_1    0.002585\n"
     ]
    },
    {
     "data": {
      "image/png": "[encoded data removed]",
      "text/plain": [
       "<Figure size 1080x504 with 1 Axes>"
      ]
     },
     "metadata": {
      "needs_background": "light"
     },
     "output_type": "display_data"
    }
   ],
   "source": [
    "# model definition\n",
    "forest = en.ExtraTreesClassifier( n_estimators=250, random_state=0, n_jobs=-1 )\n",
    "\n",
    "# data preparation\n",
    "y_train_n = df6[['cardio']].values\n",
    "x_train_n = df6.drop(['cardio'], axis=1)\n",
    "forest.fit( x_train_n, y_train_n )\n",
    "\n",
    "importances = forest.feature_importances_\n",
    "std = np.std([tree.feature_importances_ for tree in forest.estimators_], axis=0)\n",
    "indices = np.argsort(importances)[::-1]\n",
    "\n",
    "# Print the feature ranking\n",
    "print(\"Feature ranking:\")\n",
    "df = pd.DataFrame()\n",
    "for i, j in zip( x_train_n, forest.feature_importances_ ):\n",
    "    aux = pd.DataFrame( {'feature': i, 'importance': j}, index=[0] )\n",
    "    df = pd.concat( [df, aux], axis=0 )\n",
    "    \n",
    "print( df.sort_values( 'importance', ascending=False ) )\n",
    "\n",
    "# Plot the impurity-based feature importances of the forest\n",
    "plt.figure(figsize=(15,7))\n",
    "plt.title(\"Feature importances\")\n",
    "plt.bar(range(x_train_n.shape[1]), importances[indices], color=\"r\", yerr=std[indices], align=\"center\")\n",
    "plt.xticks(range(x_train_n.shape[1]), indices)\n",
    "plt.xlim([-1, x_train_n.shape[1]])\n",
    "plt.show()"
   ]
  },
  {
   "cell_type": "markdown",
   "id": "df32fb62",
   "metadata": {},
   "source": [
    "# 7.0 Machine Learning"
   ]
  },
  {
   "cell_type": "code",
   "execution_count": 119,
   "id": "6c78a30e",
   "metadata": {
    "ExecuteTime": {
     "end_time": "2022-04-21T13:42:08.728533Z",
     "start_time": "2022-04-21T13:42:08.714542Z"
    }
   },
   "outputs": [],
   "source": [
    "df7 = df6.copy()"
   ]
  },
  {
   "cell_type": "code",
   "execution_count": 120,
   "id": "5e2ab76e",
   "metadata": {
    "ExecuteTime": {
     "end_time": "2022-04-21T13:42:09.027349Z",
     "start_time": "2022-04-21T13:42:08.730532Z"
    }
   },
   "outputs": [],
   "source": [
    "x = df7.drop('cardio', axis=1)\n",
    "y = df7[['cardio']]"
   ]
  },
  {
   "cell_type": "markdown",
   "id": "12f032ea",
   "metadata": {
    "ExecuteTime": {
     "end_time": "2022-03-26T18:20:12.775345Z",
     "start_time": "2022-03-26T18:20:12.753359Z"
    },
    "scrolled": false
   },
   "source": [
    "## 7.1 Visão geral"
   ]
  },
  {
   "cell_type": "code",
   "execution_count": 121,
   "id": "d5c62d62",
   "metadata": {
    "ExecuteTime": {
     "end_time": "2022-04-21T13:42:43.459099Z",
     "start_time": "2022-04-21T13:42:09.029347Z"
    }
   },
   "outputs": [
    {
     "name": "stdout",
     "output_type": "stream",
     "text": [
      "[20:30:23] WARNING: C:/Users/administrator/workspace/xgboost-win64_release_1.6.0/src/objective/regression_obj.cu:203: reg:linear is now deprecated in favor of reg:squarederror.\n",
      "[LightGBM] [Warning] min_data_in_leaf is set=400, min_child_samples=20 will be ignored. Current value: min_data_in_leaf=400\n"
     ]
    },
    {
     "data": {
      "text/html": [
       "<div>\n",
       "<style scoped>\n",
       "    .dataframe tbody tr th:only-of-type {\n",
       "        vertical-align: middle;\n",
       "    }\n",
       "\n",
       "    .dataframe tbody tr th {\n",
       "        vertical-align: top;\n",
       "    }\n",
       "\n",
       "    .dataframe thead th {\n",
       "        text-align: right;\n",
       "    }\n",
       "</style>\n",
       "<table border=\"1\" class=\"dataframe\">\n",
       "  <thead>\n",
       "    <tr style=\"text-align: right;\">\n",
       "      <th></th>\n",
       "      <th>Modelo</th>\n",
       "      <th>Accuracy</th>\n",
       "      <th>Precission</th>\n",
       "      <th>Recall</th>\n",
       "      <th>F1Score</th>\n",
       "    </tr>\n",
       "  </thead>\n",
       "  <tbody>\n",
       "    <tr>\n",
       "      <th>0</th>\n",
       "      <td>KNeighbors</td>\n",
       "      <td>0.714512</td>\n",
       "      <td>0.743579</td>\n",
       "      <td>0.643298</td>\n",
       "      <td>0.689813</td>\n",
       "    </tr>\n",
       "    <tr>\n",
       "      <th>1</th>\n",
       "      <td>ExtraTrees</td>\n",
       "      <td>0.696042</td>\n",
       "      <td>0.696966</td>\n",
       "      <td>0.681257</td>\n",
       "      <td>0.689022</td>\n",
       "    </tr>\n",
       "    <tr>\n",
       "      <th>2</th>\n",
       "      <td>XGB</td>\n",
       "      <td>0.727646</td>\n",
       "      <td>0.742417</td>\n",
       "      <td>0.689431</td>\n",
       "      <td>0.714943</td>\n",
       "    </tr>\n",
       "    <tr>\n",
       "      <th>3</th>\n",
       "      <td>LGBM</td>\n",
       "      <td>0.739490</td>\n",
       "      <td>0.756205</td>\n",
       "      <td>0.693895</td>\n",
       "      <td>0.723711</td>\n",
       "    </tr>\n",
       "  </tbody>\n",
       "</table>\n",
       "</div>"
      ],
      "text/plain": [
       "       Modelo  Accuracy  Precission    Recall   F1Score\n",
       "0  KNeighbors  0.714512    0.743579  0.643298  0.689813\n",
       "1  ExtraTrees  0.696042    0.696966  0.681257  0.689022\n",
       "2         XGB  0.727646    0.742417  0.689431  0.714943\n",
       "3        LGBM  0.739490    0.756205  0.693895  0.723711"
      ]
     },
     "execution_count": 121,
     "metadata": {},
     "output_type": "execute_result"
    }
   ],
   "source": [
    "lista = [\n",
    "    [\"KNeighbors\", KNeighborsClassifier(n_neighbors=10)],\n",
    "    [\"ExtraTrees\", en.ExtraTreesClassifier( n_estimators=300, n_jobs=-1, random_state=32 )],\n",
    "    [\"XGB\", xgb.XGBClassifier(objective ='reg:linear', colsample_bytree = 0.3, n_estimators=300, n_jobs=-1, random_state=42 )],\n",
    "    [\"LGBM\", LGBMClassifier(colsample_bytree=0.55, learning_rate=0.04378571428571428,\n",
    "                       max_depth=10, min_data_in_leaf=400, num_leaves=64,\n",
    "                       random_state=42, subsample=0.8392857142857143, n_jobs=-1)]\n",
    "]\n",
    "analise_de_modelos(x,y,lista)"
   ]
  },
  {
   "cell_type": "markdown",
   "id": "5f10aeb5",
   "metadata": {},
   "source": [
    "## KNN"
   ]
  },
  {
   "cell_type": "code",
   "execution_count": 122,
   "id": "a7f10e4e",
   "metadata": {
    "ExecuteTime": {
     "end_time": "2022-04-21T13:43:04.510108Z",
     "start_time": "2022-04-21T13:42:43.461098Z"
    }
   },
   "outputs": [
    {
     "data": {
      "image/png": "[encoded data removed]",
      "text/plain": [
       "<Figure size 360x360 with 1 Axes>"
      ]
     },
     "metadata": {
      "needs_background": "light"
     },
     "output_type": "display_data"
    },
    {
     "name": "stdout",
     "output_type": "stream",
     "text": [
      "              precision    recall  f1-score   support\n",
      "\n",
      "           0       0.68      0.79      0.73      8552\n",
      "           1       0.75      0.64      0.69      8503\n",
      "\n",
      "    accuracy                           0.71     17055\n",
      "   macro avg       0.72      0.71      0.71     17055\n",
      "weighted avg       0.72      0.71      0.71     17055\n",
      "\n"
     ]
    }
   ],
   "source": [
    "model = KNeighborsClassifier(n_neighbors=10)\n",
    "modelo(x, y, model)\n"
   ]
  },
  {
   "cell_type": "markdown",
   "id": "2fa054a7",
   "metadata": {},
   "source": [
    "## ExtraTree"
   ]
  },
  {
   "cell_type": "code",
   "execution_count": 123,
   "id": "25d735d1",
   "metadata": {
    "ExecuteTime": {
     "end_time": "2022-04-21T13:43:12.905927Z",
     "start_time": "2022-04-21T13:43:05.362583Z"
    }
   },
   "outputs": [
    {
     "data": {
      "image/png": "[encoded data removed]",
      "text/plain": [
       "<Figure size 360x360 with 1 Axes>"
      ]
     },
     "metadata": {
      "needs_background": "light"
     },
     "output_type": "display_data"
    },
    {
     "name": "stdout",
     "output_type": "stream",
     "text": [
      "              precision    recall  f1-score   support\n",
      "\n",
      "           0       0.70      0.71      0.70      8639\n",
      "           1       0.70      0.68      0.69      8416\n",
      "\n",
      "    accuracy                           0.70     17055\n",
      "   macro avg       0.70      0.70      0.70     17055\n",
      "weighted avg       0.70      0.70      0.70     17055\n",
      "\n"
     ]
    }
   ],
   "source": [
    "model = en.ExtraTreesClassifier( n_estimators=300, n_jobs=-1, random_state=32 )\n",
    "modelo(x, y, model)"
   ]
  },
  {
   "cell_type": "markdown",
   "id": "a7d4ddcc",
   "metadata": {},
   "source": [
    "## XgBoost"
   ]
  },
  {
   "cell_type": "code",
   "execution_count": 124,
   "id": "4736533c",
   "metadata": {
    "ExecuteTime": {
     "start_time": "2022-04-21T13:41:29.649Z"
    }
   },
   "outputs": [
    {
     "name": "stdout",
     "output_type": "stream",
     "text": [
      "[20:30:40] WARNING: C:/Users/administrator/workspace/xgboost-win64_release_1.6.0/src/objective/regression_obj.cu:203: reg:linear is now deprecated in favor of reg:squarederror.\n"
     ]
    },
    {
     "data": {
      "image/png": "[encoded data removed]",
      "text/plain": [
       "<Figure size 360x360 with 1 Axes>"
      ]
     },
     "metadata": {
      "needs_background": "light"
     },
     "output_type": "display_data"
    },
    {
     "name": "stdout",
     "output_type": "stream",
     "text": [
      "              precision    recall  f1-score   support\n",
      "\n",
      "           0       0.71      0.75      0.73      8629\n",
      "           1       0.73      0.68      0.70      8426\n",
      "\n",
      "    accuracy                           0.72     17055\n",
      "   macro avg       0.72      0.72      0.72     17055\n",
      "weighted avg       0.72      0.72      0.72     17055\n",
      "\n"
     ]
    }
   ],
   "source": [
    "model = xgb.XGBClassifier(objective ='reg:linear', colsample_bytree = 0.3, n_estimators=1000, n_jobs=-1, random_state=32 )\n",
    "modelo(x, y, model)"
   ]
  },
  {
   "cell_type": "markdown",
   "id": "51a49ea4",
   "metadata": {},
   "source": [
    "## RandomForest"
   ]
  },
  {
   "cell_type": "code",
   "execution_count": 125,
   "id": "ec282282",
   "metadata": {
    "ExecuteTime": {
     "start_time": "2022-04-21T13:41:29.653Z"
    }
   },
   "outputs": [
    {
     "data": {
      "image/png": "[encoded data removed]",
      "text/plain": [
       "<Figure size 360x360 with 1 Axes>"
      ]
     },
     "metadata": {
      "needs_background": "light"
     },
     "output_type": "display_data"
    },
    {
     "name": "stdout",
     "output_type": "stream",
     "text": [
      "              precision    recall  f1-score   support\n",
      "\n",
      "           0       0.71      0.72      0.72      8642\n",
      "           1       0.71      0.70      0.70      8413\n",
      "\n",
      "    accuracy                           0.71     17055\n",
      "   macro avg       0.71      0.71      0.71     17055\n",
      "weighted avg       0.71      0.71      0.71     17055\n",
      "\n"
     ]
    }
   ],
   "source": [
    "model = en.RandomForestClassifier(n_estimators=1000, n_jobs=-1, random_state=32)\n",
    "modelo(x, y, model)"
   ]
  },
  {
   "cell_type": "markdown",
   "id": "d25e1682",
   "metadata": {},
   "source": [
    "## LGBM"
   ]
  },
  {
   "cell_type": "code",
   "execution_count": 126,
   "id": "5a607315",
   "metadata": {
    "ExecuteTime": {
     "start_time": "2022-04-21T13:41:29.656Z"
    },
    "scrolled": true
   },
   "outputs": [
    {
     "name": "stdout",
     "output_type": "stream",
     "text": [
      "[LightGBM] [Warning] min_data_in_leaf is set=400, min_child_samples=20 will be ignored. Current value: min_data_in_leaf=400\n"
     ]
    },
    {
     "data": {
      "image/png": "[encoded data removed]",
      "text/plain": [
       "<Figure size 360x360 with 1 Axes>"
      ]
     },
     "metadata": {
      "needs_background": "light"
     },
     "output_type": "display_data"
    },
    {
     "name": "stdout",
     "output_type": "stream",
     "text": [
      "              precision    recall  f1-score   support\n",
      "\n",
      "           0       0.71      0.78      0.74      8517\n",
      "           1       0.76      0.68      0.72      8538\n",
      "\n",
      "    accuracy                           0.73     17055\n",
      "   macro avg       0.73      0.73      0.73     17055\n",
      "weighted avg       0.73      0.73      0.73     17055\n",
      "\n"
     ]
    }
   ],
   "source": [
    "model = LGBMClassifier(colsample_bytree=0.55, learning_rate=0.04378571428571428,\n",
    "                       max_depth=10, min_data_in_leaf=400, num_leaves=64,\n",
    "                       random_state=32, subsample=0.8392857142857143, n_jobs=-1)\n",
    "modelo(x, y, model)"
   ]
  }
 ],
 "metadata": {
  "kernelspec": {
   "display_name": "Python 3.9.12 ('base')",
   "language": "python",
   "name": "python3"
  },
  "language_info": {
   "codemirror_mode": {
    "name": "ipython",
    "version": 3
   },
   "file_extension": ".py",
   "mimetype": "text/x-python",
   "name": "python",
   "nbconvert_exporter": "python",
   "pygments_lexer": "ipython3",
   "version": "3.9.12"
  },
  "varInspector": {
   "cols": {
    "lenName": 16,
    "lenType": 16,
    "lenVar": 40
   },
   "kernels_config": {
    "python": {
     "delete_cmd_postfix": "",
     "delete_cmd_prefix": "del ",
     "library": "var_list.py",
     "varRefreshCmd": "print(var_dic_list())"
    },
    "r": {
     "delete_cmd_postfix": ") ",
     "delete_cmd_prefix": "rm(",
     "library": "var_list.r",
     "varRefreshCmd": "cat(var_dic_list()) "
    }
   },
   "types_to_exclude": [
    "module",
    "function",
    "builtin_function_or_method",
    "instance",
    "_Feature"
   ],
   "window_display": false
  },
  "vscode": {
   "interpreter": {
    "hash": "716558089324d6c2ddb1131f8de360f2f8b5a7f9faa0aeb5cda2b6f9116c7f4e"
   }
  }
 },
 "nbformat": 4,
 "nbformat_minor": 5
}
