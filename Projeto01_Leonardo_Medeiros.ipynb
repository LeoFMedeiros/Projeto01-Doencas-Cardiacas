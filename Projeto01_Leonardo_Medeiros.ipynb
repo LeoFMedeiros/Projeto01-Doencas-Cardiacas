{
 "cells": [
  {
   "cell_type": "markdown",
   "id": "f20c74c9",
   "metadata": {},
   "source": [
    "# 0.0 Imports"
   ]
  },
  {
   "cell_type": "markdown",
   "id": "5aa27f8e",
   "metadata": {},
   "source": [
    "## 0.1 Importando as bibliotecas"
   ]
  },
  {
   "cell_type": "code",
   "execution_count": 30,
   "id": "722ba65c",
   "metadata": {
    "ExecuteTime": {
     "end_time": "2022-03-29T21:27:37.197290Z",
     "start_time": "2022-03-29T21:27:30.789274Z"
    },
    "scrolled": true
   },
   "outputs": [],
   "source": [
    "import sweetviz \n",
    "import pandas   as pd \n",
    "import numpy    as np\n",
    "import seaborn as sns\n",
    "import math\n",
    "\n",
    "from matplotlib       import pyplot as plt\n",
    "from sklearn import preprocessing as pp\n",
    "from imblearn import combine as c\n",
    "import xgboost as xgb\n",
    "from sklearn.metrics import classification_report, confusion_matrix\n",
    "from sklearn.model_selection import train_test_split\n",
    "from sklearn.linear_model import LogisticRegression, SGDClassifier\n",
    "from sklearn.neighbors import KNeighborsClassifier\n",
    "from sklearn.ensemble import RandomForestClassifier\n",
    "from imblearn.ensemble import BalancedRandomForestClassifier\n",
    "from sklearn import ensemble as en\n",
    "import xgboost as xgb\n",
    "from sklearn.naive_bayes import GaussianNB\n",
    "from sklearn.metrics import precision_score, recall_score, f1_score, accuracy_score\n",
    "from sklearn import svm\n",
    "from sklearn.model_selection import cross_val_score\n",
    "from lightgbm import LGBMClassifier\n",
    "\n",
    "#from pandas_profiling import ProfileReport\n",
    "\n",
    "%matplotlib inline\n",
    "import warnings\n",
    "warnings.filterwarnings(\"ignore\")"
   ]
  },
  {
   "cell_type": "markdown",
   "id": "c8b7098f",
   "metadata": {},
   "source": [
    "## 0.2 Carregando os dados"
   ]
  },
  {
   "cell_type": "code",
   "execution_count": 31,
   "id": "1e595212",
   "metadata": {
    "ExecuteTime": {
     "end_time": "2022-03-29T21:27:37.355192Z",
     "start_time": "2022-03-29T21:27:37.215279Z"
    },
    "scrolled": true
   },
   "outputs": [],
   "source": [
    "data_raw = pd.read_csv('dados/cardio_train.csv', sep = ';') "
   ]
  },
  {
   "cell_type": "markdown",
   "id": "d12a845d",
   "metadata": {},
   "source": [
    "## 0.3 Funções auxiliares"
   ]
  },
  {
   "cell_type": "code",
   "execution_count": 32,
   "id": "b2576871",
   "metadata": {
    "ExecuteTime": {
     "end_time": "2022-03-29T22:07:26.291813Z",
     "start_time": "2022-03-29T22:07:26.245766Z"
    }
   },
   "outputs": [],
   "source": [
    "def analise_descritiva(num):   \n",
    "    # Central Tendency - Mean, Mediana\n",
    "    ct1 = pd.DataFrame( num.apply( np.mean ) ).T\n",
    "    ct2 = pd.DataFrame( num.apply( np.median ) ).T\n",
    "\n",
    "    # Dispersions - Std, Min, Max, Range, Skew, Kurtosis\n",
    "    d1 = pd.DataFrame( num.apply( np.std ) ).T\n",
    "    d2 = pd.DataFrame( num.apply( min ) ).T\n",
    "    d3 = pd.DataFrame( num.apply( max ) ).T\n",
    "    d4 = pd.DataFrame( num.apply( lambda x: x.max() - x.min() ) ).T\n",
    "    d5 = pd.DataFrame( num.apply( lambda x: x.skew() ) ).T\n",
    "    d6 = pd.DataFrame( num.apply( lambda x: x.kurtosis() ) ).T\n",
    "\n",
    "    # Concatenar\n",
    "    ct = pd.concat( [d2, d3, d4, ct1, ct2, d1, d5, d6] ).T.reset_index()\n",
    "    ct.columns = ['attributes', 'min', 'max', 'range', 'mean', 'median', 'std', 'skew', 'kurtosis']\n",
    "    return ct\n",
    "\n",
    "def cramer_v( x, y ):\n",
    "    cm = pd.crosstab( x, y ).values\n",
    "    n = cm.sum()\n",
    "    r, k = cm.shape\n",
    "    \n",
    "    chi2 = ss.chi2_contingency( cm )[0]\n",
    "    chi2corr = max( 0, chi2 - (k-1)*(r-1)/(n-1) )\n",
    "    \n",
    "    kcorr = k - (k-1)**2/(n-1)\n",
    "    rcorr = r - (r-1)**2/(n-1)\n",
    "    \n",
    "    return np.sqrt( (chi2corr/n) / ( min( kcorr-1, rcorr-1 ) ) )\n",
    "\n",
    "def modelo(x, y, model):\n",
    "    x_train, x_test, y_train, y_test = train_test_split(x, y, test_size=0.25)\n",
    "    model.fit(x_train, y_train)\n",
    "    y_pred = model.predict(x_test)\n",
    "\n",
    "    # Calculate the confusion matrix\n",
    "    #\n",
    "    conf_matrix = confusion_matrix(y_true=y_test, y_pred=y_pred)\n",
    "    #\n",
    "    # Print the confusion matrix using Matplotlib\n",
    "    #\n",
    "    fig, ax = plt.subplots(figsize=(5, 5))\n",
    "    ax.matshow(conf_matrix, cmap=plt.cm.Oranges, alpha=0.3)\n",
    "    for i in range(conf_matrix.shape[0]):\n",
    "        for j in range(conf_matrix.shape[1]):\n",
    "            ax.text(x=j, y=i,s=conf_matrix[i, j], va='center', ha='center', size='xx-large')\n",
    "\n",
    "    plt.xlabel('Predictions', fontsize=18)\n",
    "    plt.ylabel('Actuals', fontsize=18)\n",
    "    plt.title('Confusion Matrix', fontsize=18)\n",
    "    plt.show()\n",
    "    \n",
    "    print(classification_report(y_test, y_pred))\n",
    "    \n",
    "def analise_de_modelos(x, y, lista):\n",
    "    precisao = []\n",
    "    recall = []\n",
    "    modelo = []\n",
    "    F1Score = []\n",
    "    accuracy = []\n",
    "    \n",
    "    for model in lista:\n",
    "        x_train, x_test, y_train, y_test = train_test_split(x, y, test_size=0.25)\n",
    "        model[1].fit(x_train, y_train)\n",
    "        y_pred = model[1].predict(x_test)\n",
    "\n",
    "        # Adicionando os valores na lista\n",
    "        m = model[0]\n",
    "        a = accuracy_score(y_test, y_pred)\n",
    "        r = recall_score(y_test, y_pred)\n",
    "        p = precision_score(y_test, y_pred)\n",
    "        f1 = f1_score(y_test, y_pred)\n",
    "        \n",
    "        modelo.append(m)\n",
    "        recall.append(r)\n",
    "        F1Score.append(f1)\n",
    "        accuracy.append(a)\n",
    "        precisao.append(p)\n",
    "        \n",
    "    \n",
    "    aux = {\n",
    "        'Modelo': modelo,\n",
    "        'Accuracy': accuracy,\n",
    "        'Precission': precisao,\n",
    "        'Recall': recall,\n",
    "        'F1Score': F1Score}\n",
    "    \n",
    "    aux = pd.DataFrame(aux)\n",
    "        \n",
    "    return aux\n",
    "\n",
    "def cross_validation(x, y, ml):\n",
    "    modelo = ml\n",
    "    scores = cross_val_score(modelo, x, y, cv=10)\n",
    "    print(scores)\n",
    "    print (f'{scores.mean()} +- {scores.std()}')\n",
    "    \n",
    "def num_stats(num_attr):\n",
    "    # Central Tendency - mean, median\n",
    "    ct1 = pd.DataFrame( num_attr.apply( np.mean ) ).T\n",
    "    ct2 = pd.DataFrame( num_attr.apply( np.median ) ).T\n",
    "\n",
    "    # Dispersion - standard deviation (std), min, max, skew, kurtosis\n",
    "    d1 = pd.DataFrame( num_attr.apply( np.std ) ).T\n",
    "    d2 = pd.DataFrame( num_attr.apply( min ) ).T\n",
    "    d3 = pd.DataFrame( num_attr.apply( max ) ).T\n",
    "\n",
    "    # Dispersion - values' Range\n",
    "    d4 = pd.DataFrame( num_attr.apply( lambda x: x.max() - x.min() ) ).T\n",
    "\n",
    "    # Dispersion - skew and kurtosis\n",
    "    d5 = pd.DataFrame( num_attr.apply( lambda x: x.skew() ) ).T\n",
    "    d6 = pd.DataFrame( num_attr.apply( lambda x: x.kurtosis() ) ).T\n",
    "\n",
    "    # Concatenate all data frames\n",
    "    m = pd.concat( [d2, d3, d4, ct1, ct2, d1, d5, d6] ).T.reset_index()\n",
    "    m.columns = ['attributes', 'min', 'max', 'range', 'mean', 'median', 'std', 'skew', 'kurtosis']\n",
    "    \n",
    "    # histogram\n",
    "    num_hist = num_attr.hist( bins=25, figsize=(20,15) );\n",
    "\n",
    "    # display dataframe\n",
    "    return m\n",
    "    \n",
    "    # display histogram\n",
    "    return num_hist\n",
    "\n",
    "# point biserial correlation coefficient heatmap function\n",
    "def point_bi_corr(a, b):\n",
    "    # a: input dataframe with binary variable\n",
    "    # b: input dataframe with continuous variable\n",
    "    \n",
    "    # get column name\n",
    "    a_name = a.columns[0]\n",
    "    b_name = b.columns[0]\n",
    "    \n",
    "    # transform dataframe to array\n",
    "    a = a.values.reshape(-1)\n",
    "    b = b.values.reshape(-1)\n",
    "    \n",
    "    # apply scipy's point-biserial\n",
    "    stats.pointbiserialr(a, b)\n",
    "    \n",
    "    # correlation coefficient array\n",
    "    c = np.corrcoef(a,b)\n",
    "    \n",
    "    # dataframe for heatmap\n",
    "    df = pd.DataFrame(c, columns=[a_name, b_name], index=[a_name, b_name])\n",
    "    \n",
    "    # return heatmap\n",
    "    return sns.heatmap(df, annot=True).set_title('{} x {} correlation heatmap'.format(a_name, b_name));"
   ]
  },
  {
   "cell_type": "markdown",
   "id": "e980345b",
   "metadata": {},
   "source": [
    "# 1.0 Descrição dos dados"
   ]
  },
  {
   "cell_type": "code",
   "execution_count": 33,
   "id": "4b38a6b2",
   "metadata": {
    "ExecuteTime": {
     "end_time": "2022-03-29T21:27:37.465124Z",
     "start_time": "2022-03-29T21:27:37.452131Z"
    }
   },
   "outputs": [],
   "source": [
    "df = data_raw"
   ]
  },
  {
   "cell_type": "code",
   "execution_count": 34,
   "id": "f9f19252",
   "metadata": {
    "ExecuteTime": {
     "end_time": "2022-03-29T21:27:37.529085Z",
     "start_time": "2022-03-29T21:27:37.499103Z"
    },
    "scrolled": true
   },
   "outputs": [
    {
     "data": {
      "text/html": [
       "<div>\n",
       "<style scoped>\n",
       "    .dataframe tbody tr th:only-of-type {\n",
       "        vertical-align: middle;\n",
       "    }\n",
       "\n",
       "    .dataframe tbody tr th {\n",
       "        vertical-align: top;\n",
       "    }\n",
       "\n",
       "    .dataframe thead th {\n",
       "        text-align: right;\n",
       "    }\n",
       "</style>\n",
       "<table border=\"1\" class=\"dataframe\">\n",
       "  <thead>\n",
       "    <tr style=\"text-align: right;\">\n",
       "      <th></th>\n",
       "      <th>id</th>\n",
       "      <th>age</th>\n",
       "      <th>gender</th>\n",
       "      <th>height</th>\n",
       "      <th>weight</th>\n",
       "      <th>ap_hi</th>\n",
       "      <th>ap_lo</th>\n",
       "      <th>cholesterol</th>\n",
       "      <th>gluc</th>\n",
       "      <th>smoke</th>\n",
       "      <th>alco</th>\n",
       "      <th>active</th>\n",
       "      <th>cardio</th>\n",
       "    </tr>\n",
       "  </thead>\n",
       "  <tbody>\n",
       "    <tr>\n",
       "      <th>0</th>\n",
       "      <td>0</td>\n",
       "      <td>18393</td>\n",
       "      <td>2</td>\n",
       "      <td>168</td>\n",
       "      <td>62.0</td>\n",
       "      <td>110</td>\n",
       "      <td>80</td>\n",
       "      <td>1</td>\n",
       "      <td>1</td>\n",
       "      <td>0</td>\n",
       "      <td>0</td>\n",
       "      <td>1</td>\n",
       "      <td>0</td>\n",
       "    </tr>\n",
       "    <tr>\n",
       "      <th>1</th>\n",
       "      <td>1</td>\n",
       "      <td>20228</td>\n",
       "      <td>1</td>\n",
       "      <td>156</td>\n",
       "      <td>85.0</td>\n",
       "      <td>140</td>\n",
       "      <td>90</td>\n",
       "      <td>3</td>\n",
       "      <td>1</td>\n",
       "      <td>0</td>\n",
       "      <td>0</td>\n",
       "      <td>1</td>\n",
       "      <td>1</td>\n",
       "    </tr>\n",
       "    <tr>\n",
       "      <th>2</th>\n",
       "      <td>2</td>\n",
       "      <td>18857</td>\n",
       "      <td>1</td>\n",
       "      <td>165</td>\n",
       "      <td>64.0</td>\n",
       "      <td>130</td>\n",
       "      <td>70</td>\n",
       "      <td>3</td>\n",
       "      <td>1</td>\n",
       "      <td>0</td>\n",
       "      <td>0</td>\n",
       "      <td>0</td>\n",
       "      <td>1</td>\n",
       "    </tr>\n",
       "    <tr>\n",
       "      <th>3</th>\n",
       "      <td>3</td>\n",
       "      <td>17623</td>\n",
       "      <td>2</td>\n",
       "      <td>169</td>\n",
       "      <td>82.0</td>\n",
       "      <td>150</td>\n",
       "      <td>100</td>\n",
       "      <td>1</td>\n",
       "      <td>1</td>\n",
       "      <td>0</td>\n",
       "      <td>0</td>\n",
       "      <td>1</td>\n",
       "      <td>1</td>\n",
       "    </tr>\n",
       "    <tr>\n",
       "      <th>4</th>\n",
       "      <td>4</td>\n",
       "      <td>17474</td>\n",
       "      <td>1</td>\n",
       "      <td>156</td>\n",
       "      <td>56.0</td>\n",
       "      <td>100</td>\n",
       "      <td>60</td>\n",
       "      <td>1</td>\n",
       "      <td>1</td>\n",
       "      <td>0</td>\n",
       "      <td>0</td>\n",
       "      <td>0</td>\n",
       "      <td>0</td>\n",
       "    </tr>\n",
       "  </tbody>\n",
       "</table>\n",
       "</div>"
      ],
      "text/plain": [
       "   id    age  gender  height  weight  ap_hi  ap_lo  cholesterol  gluc  smoke  \\\n",
       "0   0  18393       2     168    62.0    110     80            1     1      0   \n",
       "1   1  20228       1     156    85.0    140     90            3     1      0   \n",
       "2   2  18857       1     165    64.0    130     70            3     1      0   \n",
       "3   3  17623       2     169    82.0    150    100            1     1      0   \n",
       "4   4  17474       1     156    56.0    100     60            1     1      0   \n",
       "\n",
       "   alco  active  cardio  \n",
       "0     0       1       0  \n",
       "1     0       1       1  \n",
       "2     0       0       1  \n",
       "3     0       1       1  \n",
       "4     0       0       0  "
      ]
     },
     "execution_count": 34,
     "metadata": {},
     "output_type": "execute_result"
    }
   ],
   "source": [
    "df.head()"
   ]
  },
  {
   "cell_type": "markdown",
   "id": "8ea5dcf5",
   "metadata": {},
   "source": [
    "## 1.1 Dimensões dos dados"
   ]
  },
  {
   "cell_type": "code",
   "execution_count": 35,
   "id": "e713f69e",
   "metadata": {
    "ExecuteTime": {
     "end_time": "2022-03-29T21:27:37.575056Z",
     "start_time": "2022-03-29T21:27:37.562064Z"
    }
   },
   "outputs": [
    {
     "name": "stdout",
     "output_type": "stream",
     "text": [
      "O número de linhas são: 70000\n",
      "O número de colunas são: 13\n"
     ]
    }
   ],
   "source": [
    "print(f'O número de linhas são: {df.shape[0]}')\n",
    "print(f'O número de colunas são: {df.shape[1]}')"
   ]
  },
  {
   "cell_type": "markdown",
   "id": "de68a1f4",
   "metadata": {},
   "source": [
    "## 1.2 Tipo das colunas"
   ]
  },
  {
   "cell_type": "markdown",
   "id": "cbf80957",
   "metadata": {},
   "source": [
    "1  - id: Identificação dos exames \n",
    "2  - Age: Idade(em dias)\n",
    "3  - Gender: Sexo\n",
    "4  - Height: Altura (cm)\n",
    "5  - Weight: Peso (Kg)\n",
    "6  - ap_hi: Pressão arterial sistólica\n",
    "7  - ap_lo: Pressão arterial diastólica\n",
    "8  - Cholesterol: Colesterol (1: Normal, 2:Acima do normal, 3: Bem acima do normal)\n",
    "9  - gluc: Glicose (1: Normal, 2: Acima do normal, 3: Bem acima do normal)\n",
    "10 - smoke: Fumar (1: sim, 2: não)\n",
    "11 - alco: Uso de álcool (0: Não, 1: Sim)\n",
    "12 - active: (0: Não, 1:Sim)\n",
    "13 - cardio: Doente ou não"
   ]
  },
  {
   "cell_type": "code",
   "execution_count": 36,
   "id": "f6d6aec6",
   "metadata": {
    "ExecuteTime": {
     "end_time": "2022-03-29T21:27:37.623029Z",
     "start_time": "2022-03-29T21:27:37.610033Z"
    }
   },
   "outputs": [
    {
     "data": {
      "text/plain": [
       "id               int64\n",
       "age              int64\n",
       "gender           int64\n",
       "height           int64\n",
       "weight         float64\n",
       "ap_hi            int64\n",
       "ap_lo            int64\n",
       "cholesterol      int64\n",
       "gluc             int64\n",
       "smoke            int64\n",
       "alco             int64\n",
       "active           int64\n",
       "cardio           int64\n",
       "dtype: object"
      ]
     },
     "execution_count": 36,
     "metadata": {},
     "output_type": "execute_result"
    }
   ],
   "source": [
    "df.dtypes"
   ]
  },
  {
   "cell_type": "markdown",
   "id": "4a8e8128",
   "metadata": {},
   "source": [
    "-> Todas as colunas estão com os valores corretos"
   ]
  },
  {
   "cell_type": "markdown",
   "id": "38797415",
   "metadata": {},
   "source": [
    "## 1.3 Checando NA"
   ]
  },
  {
   "cell_type": "code",
   "execution_count": 37,
   "id": "928f4db2",
   "metadata": {
    "ExecuteTime": {
     "end_time": "2022-03-29T21:27:37.686987Z",
     "start_time": "2022-03-29T21:27:37.657005Z"
    }
   },
   "outputs": [
    {
     "data": {
      "text/plain": [
       "id             0.0\n",
       "age            0.0\n",
       "gender         0.0\n",
       "height         0.0\n",
       "weight         0.0\n",
       "ap_hi          0.0\n",
       "ap_lo          0.0\n",
       "cholesterol    0.0\n",
       "gluc           0.0\n",
       "smoke          0.0\n",
       "alco           0.0\n",
       "active         0.0\n",
       "cardio         0.0\n",
       "dtype: float64"
      ]
     },
     "execution_count": 37,
     "metadata": {},
     "output_type": "execute_result"
    }
   ],
   "source": [
    "df.isna().sum() / len(df)"
   ]
  },
  {
   "cell_type": "markdown",
   "id": "fef90649",
   "metadata": {},
   "source": [
    "-> Não existem valores faltantes"
   ]
  },
  {
   "cell_type": "markdown",
   "id": "f794e7f6",
   "metadata": {},
   "source": [
    "## 1.4 Análise descritiva dos dados "
   ]
  },
  {
   "cell_type": "code",
   "execution_count": 38,
   "id": "cc013505",
   "metadata": {
    "ExecuteTime": {
     "end_time": "2022-03-29T21:27:38.066750Z",
     "start_time": "2022-03-29T21:27:37.720965Z"
    },
    "scrolled": true
   },
   "outputs": [
    {
     "data": {
      "text/html": [
       "<div>\n",
       "<style scoped>\n",
       "    .dataframe tbody tr th:only-of-type {\n",
       "        vertical-align: middle;\n",
       "    }\n",
       "\n",
       "    .dataframe tbody tr th {\n",
       "        vertical-align: top;\n",
       "    }\n",
       "\n",
       "    .dataframe thead th {\n",
       "        text-align: right;\n",
       "    }\n",
       "</style>\n",
       "<table border=\"1\" class=\"dataframe\">\n",
       "  <thead>\n",
       "    <tr style=\"text-align: right;\">\n",
       "      <th></th>\n",
       "      <th>attributes</th>\n",
       "      <th>min</th>\n",
       "      <th>max</th>\n",
       "      <th>range</th>\n",
       "      <th>mean</th>\n",
       "      <th>median</th>\n",
       "      <th>std</th>\n",
       "      <th>skew</th>\n",
       "      <th>kurtosis</th>\n",
       "    </tr>\n",
       "  </thead>\n",
       "  <tbody>\n",
       "    <tr>\n",
       "      <th>0</th>\n",
       "      <td>id</td>\n",
       "      <td>0.0</td>\n",
       "      <td>99999.0</td>\n",
       "      <td>99999.0</td>\n",
       "      <td>49972.419900</td>\n",
       "      <td>50001.5</td>\n",
       "      <td>28851.096242</td>\n",
       "      <td>-0.001278</td>\n",
       "      <td>-1.198374</td>\n",
       "    </tr>\n",
       "    <tr>\n",
       "      <th>1</th>\n",
       "      <td>age</td>\n",
       "      <td>10798.0</td>\n",
       "      <td>23713.0</td>\n",
       "      <td>12915.0</td>\n",
       "      <td>19468.865814</td>\n",
       "      <td>19703.0</td>\n",
       "      <td>2467.234044</td>\n",
       "      <td>-0.307055</td>\n",
       "      <td>-0.823447</td>\n",
       "    </tr>\n",
       "    <tr>\n",
       "      <th>2</th>\n",
       "      <td>gender</td>\n",
       "      <td>1.0</td>\n",
       "      <td>2.0</td>\n",
       "      <td>1.0</td>\n",
       "      <td>1.349571</td>\n",
       "      <td>1.0</td>\n",
       "      <td>0.476835</td>\n",
       "      <td>0.630960</td>\n",
       "      <td>-1.601935</td>\n",
       "    </tr>\n",
       "    <tr>\n",
       "      <th>3</th>\n",
       "      <td>height</td>\n",
       "      <td>55.0</td>\n",
       "      <td>250.0</td>\n",
       "      <td>195.0</td>\n",
       "      <td>164.359229</td>\n",
       "      <td>165.0</td>\n",
       "      <td>8.210068</td>\n",
       "      <td>-0.642187</td>\n",
       "      <td>7.943653</td>\n",
       "    </tr>\n",
       "    <tr>\n",
       "      <th>4</th>\n",
       "      <td>weight</td>\n",
       "      <td>10.0</td>\n",
       "      <td>200.0</td>\n",
       "      <td>190.0</td>\n",
       "      <td>74.205690</td>\n",
       "      <td>72.0</td>\n",
       "      <td>14.395654</td>\n",
       "      <td>1.012070</td>\n",
       "      <td>2.586825</td>\n",
       "    </tr>\n",
       "    <tr>\n",
       "      <th>5</th>\n",
       "      <td>ap_hi</td>\n",
       "      <td>-150.0</td>\n",
       "      <td>16020.0</td>\n",
       "      <td>16170.0</td>\n",
       "      <td>128.817286</td>\n",
       "      <td>120.0</td>\n",
       "      <td>154.010319</td>\n",
       "      <td>85.296214</td>\n",
       "      <td>7580.074738</td>\n",
       "    </tr>\n",
       "    <tr>\n",
       "      <th>6</th>\n",
       "      <td>ap_lo</td>\n",
       "      <td>-70.0</td>\n",
       "      <td>11000.0</td>\n",
       "      <td>11070.0</td>\n",
       "      <td>96.630414</td>\n",
       "      <td>80.0</td>\n",
       "      <td>188.471184</td>\n",
       "      <td>32.114083</td>\n",
       "      <td>1425.914585</td>\n",
       "    </tr>\n",
       "    <tr>\n",
       "      <th>7</th>\n",
       "      <td>cholesterol</td>\n",
       "      <td>1.0</td>\n",
       "      <td>3.0</td>\n",
       "      <td>2.0</td>\n",
       "      <td>1.366871</td>\n",
       "      <td>1.0</td>\n",
       "      <td>0.680245</td>\n",
       "      <td>1.587123</td>\n",
       "      <td>0.993901</td>\n",
       "    </tr>\n",
       "    <tr>\n",
       "      <th>8</th>\n",
       "      <td>gluc</td>\n",
       "      <td>1.0</td>\n",
       "      <td>3.0</td>\n",
       "      <td>2.0</td>\n",
       "      <td>1.226457</td>\n",
       "      <td>1.0</td>\n",
       "      <td>0.572266</td>\n",
       "      <td>2.397462</td>\n",
       "      <td>4.294377</td>\n",
       "    </tr>\n",
       "    <tr>\n",
       "      <th>9</th>\n",
       "      <td>smoke</td>\n",
       "      <td>0.0</td>\n",
       "      <td>1.0</td>\n",
       "      <td>1.0</td>\n",
       "      <td>0.088129</td>\n",
       "      <td>0.0</td>\n",
       "      <td>0.283482</td>\n",
       "      <td>2.905867</td>\n",
       "      <td>6.444250</td>\n",
       "    </tr>\n",
       "    <tr>\n",
       "      <th>10</th>\n",
       "      <td>alco</td>\n",
       "      <td>0.0</td>\n",
       "      <td>1.0</td>\n",
       "      <td>1.0</td>\n",
       "      <td>0.053771</td>\n",
       "      <td>0.0</td>\n",
       "      <td>0.225566</td>\n",
       "      <td>3.956607</td>\n",
       "      <td>13.655125</td>\n",
       "    </tr>\n",
       "    <tr>\n",
       "      <th>11</th>\n",
       "      <td>active</td>\n",
       "      <td>0.0</td>\n",
       "      <td>1.0</td>\n",
       "      <td>1.0</td>\n",
       "      <td>0.803729</td>\n",
       "      <td>1.0</td>\n",
       "      <td>0.397176</td>\n",
       "      <td>-1.529473</td>\n",
       "      <td>0.339296</td>\n",
       "    </tr>\n",
       "    <tr>\n",
       "      <th>12</th>\n",
       "      <td>cardio</td>\n",
       "      <td>0.0</td>\n",
       "      <td>1.0</td>\n",
       "      <td>1.0</td>\n",
       "      <td>0.499700</td>\n",
       "      <td>0.0</td>\n",
       "      <td>0.500000</td>\n",
       "      <td>0.001200</td>\n",
       "      <td>-2.000056</td>\n",
       "    </tr>\n",
       "  </tbody>\n",
       "</table>\n",
       "</div>"
      ],
      "text/plain": [
       "     attributes      min      max    range          mean   median  \\\n",
       "0            id      0.0  99999.0  99999.0  49972.419900  50001.5   \n",
       "1           age  10798.0  23713.0  12915.0  19468.865814  19703.0   \n",
       "2        gender      1.0      2.0      1.0      1.349571      1.0   \n",
       "3        height     55.0    250.0    195.0    164.359229    165.0   \n",
       "4        weight     10.0    200.0    190.0     74.205690     72.0   \n",
       "5         ap_hi   -150.0  16020.0  16170.0    128.817286    120.0   \n",
       "6         ap_lo    -70.0  11000.0  11070.0     96.630414     80.0   \n",
       "7   cholesterol      1.0      3.0      2.0      1.366871      1.0   \n",
       "8          gluc      1.0      3.0      2.0      1.226457      1.0   \n",
       "9         smoke      0.0      1.0      1.0      0.088129      0.0   \n",
       "10         alco      0.0      1.0      1.0      0.053771      0.0   \n",
       "11       active      0.0      1.0      1.0      0.803729      1.0   \n",
       "12       cardio      0.0      1.0      1.0      0.499700      0.0   \n",
       "\n",
       "             std       skew     kurtosis  \n",
       "0   28851.096242  -0.001278    -1.198374  \n",
       "1    2467.234044  -0.307055    -0.823447  \n",
       "2       0.476835   0.630960    -1.601935  \n",
       "3       8.210068  -0.642187     7.943653  \n",
       "4      14.395654   1.012070     2.586825  \n",
       "5     154.010319  85.296214  7580.074738  \n",
       "6     188.471184  32.114083  1425.914585  \n",
       "7       0.680245   1.587123     0.993901  \n",
       "8       0.572266   2.397462     4.294377  \n",
       "9       0.283482   2.905867     6.444250  \n",
       "10      0.225566   3.956607    13.655125  \n",
       "11      0.397176  -1.529473     0.339296  \n",
       "12      0.500000   0.001200    -2.000056  "
      ]
     },
     "execution_count": 38,
     "metadata": {},
     "output_type": "execute_result"
    }
   ],
   "source": [
    "num_attributes = df.select_dtypes( include=['int64', 'float64'] )\n",
    "\n",
    "analise_descritiva(num_attributes)"
   ]
  },
  {
   "cell_type": "markdown",
   "id": "b6cc8ff2",
   "metadata": {},
   "source": [
    "## 1.5 Pandas Profile"
   ]
  },
  {
   "cell_type": "code",
   "execution_count": 39,
   "id": "f3a0957a",
   "metadata": {
    "ExecuteTime": {
     "end_time": "2022-03-29T21:27:38.128713Z",
     "start_time": "2022-03-29T21:27:38.115719Z"
    }
   },
   "outputs": [
    {
     "data": {
      "text/plain": [
       "'profile = ProfileReport(df, title=\"doenças cardiovasculares\")\\nprofile.to_file(\"doenças cardiovasculares.html\")'"
      ]
     },
     "execution_count": 39,
     "metadata": {},
     "output_type": "execute_result"
    }
   ],
   "source": [
    "\"\"\"profile = ProfileReport(df, title=\"doenças cardiovasculares\")\n",
    "profile.to_file(\"doenças cardiovasculares.html\")\"\"\""
   ]
  },
  {
   "cell_type": "markdown",
   "id": "6f24fabc",
   "metadata": {},
   "source": [
    "# 2.0 Feature Enginering"
   ]
  },
  {
   "cell_type": "code",
   "execution_count": 40,
   "id": "aabc57e8",
   "metadata": {
    "ExecuteTime": {
     "end_time": "2022-03-29T21:27:38.192673Z",
     "start_time": "2022-03-29T21:27:38.181679Z"
    }
   },
   "outputs": [],
   "source": [
    "df2 = df"
   ]
  },
  {
   "cell_type": "code",
   "execution_count": 41,
   "id": "7302d151",
   "metadata": {
    "ExecuteTime": {
     "end_time": "2022-03-29T21:27:38.777309Z",
     "start_time": "2022-03-29T21:27:38.756322Z"
    }
   },
   "outputs": [
    {
     "data": {
      "text/plain": [
       "id               int64\n",
       "age              int64\n",
       "gender           int64\n",
       "height           int64\n",
       "weight         float64\n",
       "ap_hi            int64\n",
       "ap_lo            int64\n",
       "cholesterol      int64\n",
       "gluc             int64\n",
       "smoke            int64\n",
       "alco             int64\n",
       "active           int64\n",
       "cardio           int64\n",
       "dtype: object"
      ]
     },
     "execution_count": 41,
     "metadata": {},
     "output_type": "execute_result"
    }
   ],
   "source": [
    "df2.dtypes"
   ]
  },
  {
   "cell_type": "code",
   "execution_count": 42,
   "id": "82be7e54",
   "metadata": {
    "ExecuteTime": {
     "end_time": "2022-03-29T21:28:32.026306Z",
     "start_time": "2022-03-29T21:28:32.003322Z"
    }
   },
   "outputs": [],
   "source": [
    "# BMI - Body Mass Index (IMC) = weight/height^2\n",
    "df2['bmi'] = df2['weight']/((df2['height']/100)**2)\n",
    "\n",
    "# Systolic and Diastolic blood pressure ratio\n",
    "df2['bpr'] = df2['ap_hi'] / df2['ap_lo']\n",
    "\n",
    "# Systolic and Diastolic blood pressure sum\n",
    "df2['ap_sum'] = df2['ap_hi'] + df2['ap_lo']\n",
    "\n",
    "# Transformando idade para ano\n",
    "df2['age_ano'] = int(df2['age'] / 365)"
   ]
  },
  {
   "cell_type": "markdown",
   "id": "a5fb9869",
   "metadata": {},
   "source": [
    "# 3.0 Filtrando os dados"
   ]
  },
  {
   "cell_type": "code",
   "execution_count": 43,
   "id": "3a9d605c",
   "metadata": {
    "ExecuteTime": {
     "end_time": "2022-03-29T21:27:39.248015Z",
     "start_time": "2022-03-29T21:27:39.243019Z"
    }
   },
   "outputs": [],
   "source": [
    "df3 = df2"
   ]
  },
  {
   "cell_type": "code",
   "execution_count": 44,
   "id": "d79d006c",
   "metadata": {
    "ExecuteTime": {
     "end_time": "2022-03-29T21:51:13.390147Z",
     "start_time": "2022-03-29T21:51:13.327185Z"
    }
   },
   "outputs": [],
   "source": [
    "# Filtrando valores mínimos e máximos de altura\n",
    "df3 = df3[(df3['height'] >= 145) & (df3['height'] <= 210)]\n",
    "\n",
    "# Filtrando o peso mínimo\n",
    "df3 = df3[df3['weight'] >= 40]\n",
    "\n",
    "# filtrando ap_hi (pressão sistólica) mínima e máxima possível (outliers)\n",
    "df3 = df3[(df3['ap_hi'] >= 40) & (df3['ap_hi'] <= 200)]\n",
    "\n",
    "# filtrando ap_lo (pressão diastólica) mínima e máxima possível (outliers)\n",
    "df3 = df3[(df3['ap_lo'] >= 40) & (df3['ap_lo'] <= 140)]\n",
    "\n",
    "# Removendo as situações em que a pressão diastólica é maior que a sistólica\n",
    "df3 = df3[(df3['ap_hi']) > (df3['ap_lo'])]\n"
   ]
  },
  {
   "cell_type": "markdown",
   "id": "08739811",
   "metadata": {},
   "source": [
    "# 4.0 Análise Exploratória"
   ]
  },
  {
   "cell_type": "code",
   "execution_count": 45,
   "id": "d6e66a30",
   "metadata": {
    "ExecuteTime": {
     "end_time": "2022-03-29T21:51:34.695485Z",
     "start_time": "2022-03-29T21:51:34.685494Z"
    }
   },
   "outputs": [],
   "source": [
    "df4 = df3.copy()"
   ]
  },
  {
   "cell_type": "markdown",
   "id": "c134e95e",
   "metadata": {},
   "source": [
    "## 4.1 Relatório automatizado"
   ]
  },
  {
   "cell_type": "code",
   "execution_count": 46,
   "id": "7d5c99ad",
   "metadata": {
    "ExecuteTime": {
     "end_time": "2022-03-29T21:51:22.430562Z",
     "start_time": "2022-03-29T21:51:22.417571Z"
    }
   },
   "outputs": [
    {
     "data": {
      "text/plain": [
       "\"# Gerando relatorio  \\nrelatorio = sweetviz.analyze(df4, target_feat='active')\\n# Gerando o relatorio em html \\nrelatorio.show_html('relatorio.html')\""
      ]
     },
     "execution_count": 46,
     "metadata": {},
     "output_type": "execute_result"
    }
   ],
   "source": [
    "\"\"\"# Gerando relatorio  \n",
    "relatorio = sweetviz.analyze(df4, target_feat='active')\n",
    "# Gerando o relatorio em html \n",
    "relatorio.show_html('relatorio.html')\"\"\""
   ]
  },
  {
   "cell_type": "markdown",
   "id": "2f768798",
   "metadata": {},
   "source": [
    "## 4.2 Análise Univariada"
   ]
  },
  {
   "cell_type": "markdown",
   "id": "f96c4c8d",
   "metadata": {},
   "source": [
    "### 4.2.1 Análise da variável resposta"
   ]
  },
  {
   "cell_type": "code",
   "execution_count": 47,
   "id": "fdf1a2af",
   "metadata": {
    "ExecuteTime": {
     "end_time": "2022-03-29T21:51:39.249086Z",
     "start_time": "2022-03-29T21:51:38.993769Z"
    }
   },
   "outputs": [
    {
     "data": {
      "image/png": "[encoded data removed]",
      "text/plain": [
       "<Figure size 720x360 with 1 Axes>"
      ]
     },
     "metadata": {
      "needs_background": "light"
     },
     "output_type": "display_data"
    }
   ],
   "source": [
    "# Definindo tamanho da imagem\n",
    "plt.figure(figsize=(10,5))\n",
    "\n",
    "# Contagem dos valores\n",
    "sns.countplot(x=df4['active']);\n",
    "\n",
    "# Ajustando o gráfico\n",
    "plt.title('Contagem do número de pessoas que possuem doença cardiovascular disease');\n",
    "plt.xlabel('Presença da doença');\n",
    "plt.ylabel('Quantidade');\n",
    "plt.xticks(ticks=[0,1], labels=['Não', 'Sim']);\n",
    "\n",
    "# Plotando o gráfico\n",
    "plt.show()"
   ]
  },
  {
   "cell_type": "markdown",
   "id": "ef1574f1",
   "metadata": {},
   "source": [
    "### 4.2.2 Plotando o histograma das variáveis"
   ]
  },
  {
   "cell_type": "code",
   "execution_count": 48,
   "id": "02887b17",
   "metadata": {
    "ExecuteTime": {
     "end_time": "2022-03-29T21:51:43.348092Z",
     "start_time": "2022-03-29T21:51:39.400993Z"
    }
   },
   "outputs": [
    {
     "data": {
      "image/png": "[encoded data removed]",
      "text/plain": [
       "<Figure size 1080x720 with 5 Axes>"
      ]
     },
     "metadata": {
      "needs_background": "light"
     },
     "output_type": "display_data"
    }
   ],
   "source": [
    "# Defininindo lista \n",
    "aux = df4[['age_ano','height','weight','ap_hi','ap_lo']].columns.tolist()\n",
    "\n",
    "# Definindo tamanho dos gráficos\n",
    "plt.figure(figsize=(15,10))\n",
    "\n",
    "# Definindo a constante\n",
    "x = 1\n",
    "\n",
    "# Gerando os gráficos\n",
    "for col in aux:\n",
    "    plt.subplot(2, 3, x)\n",
    "    sns.histplot(x=df4[col], bins=70, kde=True);\n",
    "    x +=1\n",
    "    \n",
    "# adjust height reserved for space between subplots  \n",
    "plt.subplots_adjust(hspace=0.3)\n",
    "\n",
    "# Plotando\n",
    "plt.show()"
   ]
  },
  {
   "cell_type": "markdown",
   "id": "1c00e402",
   "metadata": {},
   "source": [
    "### 4.2.3 Análise das varáveis categóricas"
   ]
  },
  {
   "cell_type": "code",
   "execution_count": 49,
   "id": "d1330f65",
   "metadata": {
    "ExecuteTime": {
     "end_time": "2022-03-29T21:51:43.444030Z",
     "start_time": "2022-03-29T21:51:43.430039Z"
    }
   },
   "outputs": [
    {
     "data": {
      "text/html": [
       "<div>\n",
       "<style scoped>\n",
       "    .dataframe tbody tr th:only-of-type {\n",
       "        vertical-align: middle;\n",
       "    }\n",
       "\n",
       "    .dataframe tbody tr th {\n",
       "        vertical-align: top;\n",
       "    }\n",
       "\n",
       "    .dataframe thead th {\n",
       "        text-align: right;\n",
       "    }\n",
       "</style>\n",
       "<table border=\"1\" class=\"dataframe\">\n",
       "  <thead>\n",
       "    <tr style=\"text-align: right;\">\n",
       "      <th></th>\n",
       "      <th>gender</th>\n",
       "      <th>cholesterol</th>\n",
       "      <th>gluc</th>\n",
       "      <th>smoke</th>\n",
       "      <th>alco</th>\n",
       "    </tr>\n",
       "  </thead>\n",
       "  <tbody>\n",
       "    <tr>\n",
       "      <th>0</th>\n",
       "      <td>2</td>\n",
       "      <td>1</td>\n",
       "      <td>1</td>\n",
       "      <td>0</td>\n",
       "      <td>0</td>\n",
       "    </tr>\n",
       "    <tr>\n",
       "      <th>1</th>\n",
       "      <td>1</td>\n",
       "      <td>3</td>\n",
       "      <td>1</td>\n",
       "      <td>0</td>\n",
       "      <td>0</td>\n",
       "    </tr>\n",
       "    <tr>\n",
       "      <th>2</th>\n",
       "      <td>1</td>\n",
       "      <td>3</td>\n",
       "      <td>1</td>\n",
       "      <td>0</td>\n",
       "      <td>0</td>\n",
       "    </tr>\n",
       "    <tr>\n",
       "      <th>3</th>\n",
       "      <td>2</td>\n",
       "      <td>1</td>\n",
       "      <td>1</td>\n",
       "      <td>0</td>\n",
       "      <td>0</td>\n",
       "    </tr>\n",
       "    <tr>\n",
       "      <th>4</th>\n",
       "      <td>1</td>\n",
       "      <td>1</td>\n",
       "      <td>1</td>\n",
       "      <td>0</td>\n",
       "      <td>0</td>\n",
       "    </tr>\n",
       "  </tbody>\n",
       "</table>\n",
       "</div>"
      ],
      "text/plain": [
       "   gender  cholesterol  gluc  smoke  alco\n",
       "0       2            1     1      0     0\n",
       "1       1            3     1      0     0\n",
       "2       1            3     1      0     0\n",
       "3       2            1     1      0     0\n",
       "4       1            1     1      0     0"
      ]
     },
     "execution_count": 49,
     "metadata": {},
     "output_type": "execute_result"
    }
   ],
   "source": [
    "aux = df4[['gender','cholesterol','gluc','smoke','alco']]\n",
    "aux.head()"
   ]
  },
  {
   "cell_type": "raw",
   "id": "ea782fe4",
   "metadata": {},
   "source": [
    "1  - id: Identificação dos exames \n",
    "2  - Age: Idade(em dias)\n",
    "3  - Gender: Sexo\n",
    "4  - Height: Altura (cm)\n",
    "5  - Weight: Peso (Kg)\n",
    "6  - ap_hi: Pressão arterial sistólica\n",
    "7  - ap_lo: Pressão arterial diastólica\n",
    "8  - Cholesterol: Colesterol (1: Normal, 2:Acima do normal, 3: Bem acima do normal)\n",
    "9  - gluc: Glicose (1: Normal, 2: Acima do normal, 3: Bem acima do normal)\n",
    "10 - smoke: Fumar (1: sim, 2: não)\n",
    "11 - alco: Uso de álcool (0: Não, 1: Sim)\n",
    "12 - active: (0: Não, 1:Sim)\n",
    "13 - cardio: Doente ou não"
   ]
  },
  {
   "cell_type": "code",
   "execution_count": 50,
   "id": "93db39b3",
   "metadata": {
    "ExecuteTime": {
     "end_time": "2022-03-29T21:51:43.598958Z",
     "start_time": "2022-03-29T21:51:43.523980Z"
    }
   },
   "outputs": [],
   "source": [
    "# Convertendo sexo em categórico\n",
    "aux['gender'] = aux['gender'].astype('category')\n",
    "\n",
    "# Convertendo gluc em categórico\n",
    "aux['gluc'] = aux['gluc'].apply(lambda x: 'normal' if x == 1 else\n",
    "                                          'acima do normal' if x == 2 else \n",
    "                                          'bem acima do normal')\n",
    "\n",
    "# Convertendo sexo em categórico\n",
    "aux['cholesterol'] = aux['cholesterol'].apply(lambda x: 'normal' if x == 1 else\n",
    "                                          'acima do normal' if x == 2 else \n",
    "                                          'bem acima do normal')\n",
    "\n",
    "# Convertendo smoke em categórico\n",
    "aux['smoke'] = aux['smoke'].apply(lambda x: 'sim' if x == 1 else 'não')\n",
    "\n",
    "# Convertendo alco em categórico\n",
    "aux['alco'] = aux['alco'].apply(lambda x: 'sim' if x == 1 else 'não')"
   ]
  },
  {
   "cell_type": "code",
   "execution_count": 51,
   "id": "9e80c313",
   "metadata": {
    "ExecuteTime": {
     "end_time": "2022-03-29T21:51:44.471437Z",
     "start_time": "2022-03-29T21:51:43.679902Z"
    }
   },
   "outputs": [
    {
     "data": {
      "image/png": "[encoded data removed]",
      "text/plain": [
       "<Figure size 1224x648 with 5 Axes>"
      ]
     },
     "metadata": {
      "needs_background": "light"
     },
     "output_type": "display_data"
    }
   ],
   "source": [
    "lista = aux.columns.tolist()\n",
    "\n",
    "plt.figure(figsize=(17,9))\n",
    "\n",
    "x = 1\n",
    "\n",
    "for col in lista:\n",
    "    plt.subplot(2, 3, x)\n",
    "    sns.countplot(x = aux[col]);\n",
    "    plt.title(\"Contagem do \" + col, fontsize=14);\n",
    "    x += 1\n",
    "    \n",
    "# adjust height reserved for space between subplots  \n",
    "plt.subplots_adjust(hspace=0.3)\n",
    "\n",
    "plt.show()"
   ]
  },
  {
   "cell_type": "markdown",
   "id": "deda2ebc",
   "metadata": {},
   "source": [
    "## 4.3 Análise Bivariada"
   ]
  },
  {
   "cell_type": "markdown",
   "id": "1947c8aa",
   "metadata": {},
   "source": [
    "### Pessoas com mais de 50 anos são mais propensas a terem a doença"
   ]
  },
  {
   "cell_type": "code",
   "execution_count": 52,
   "id": "83175e30",
   "metadata": {
    "ExecuteTime": {
     "end_time": "2022-03-29T21:51:45.119035Z",
     "start_time": "2022-03-29T21:51:44.552389Z"
    }
   },
   "outputs": [],
   "source": [
    "# Dimensão do gráfico\n",
    "plt.figure(figsize=(20,8))\n",
    "\n",
    "# Plot do gráfico\n",
    "sns.countplot(x=df4['age_ano'], hue='active', data=df4);\n",
    "\n",
    "# Configurando o gráfico\n",
    "plt.title('Análise da doença cardiovascular por idade', fontsize=14);\n",
    "plt.xlabel('Idade (Ano)');\n",
    "plt.ylabel('Quantidade');\n",
    "plt.show()"
   ]
  },
  {
   "cell_type": "markdown",
   "id": "fa453e54",
   "metadata": {},
   "source": [
    "### Pessoas com colesterol alto tem mais chances de ficar doentes"
   ]
  },
  {
   "cell_type": "code",
   "execution_count": null,
   "id": "69f1a0a4",
   "metadata": {
    "ExecuteTime": {
     "end_time": "2022-03-29T21:51:45.496835Z",
     "start_time": "2022-03-29T21:51:45.215009Z"
    }
   },
   "outputs": [
    {
     "data": {
      "image/png": "[encoded data removed]",
      "text/plain": [
       "<Figure size 1296x576 with 1 Axes>"
      ]
     },
     "metadata": {
      "needs_background": "light"
     },
     "output_type": "display_data"
    }
   ],
   "source": [
    "# Definindo dimensões do gráfico\n",
    "plt.figure(figsize=(18,8))\n",
    "\n",
    "# Gerando gráfico\n",
    "sns.countplot(x=df4['cholesterol'], hue='active', data=df4);\n",
    "\n",
    "# Configurando o gráfico\n",
    "plt.title('Análise da doença cardiovascular por nível de colesterol', fontsize=14);\n",
    "plt.xlabel('Nivel do colesterol');\n",
    "plt.ylabel('Quantidade');\n",
    "plt.xticks(ticks=[0,1,2], labels=['Normal', 'Alto', 'Muito alto'])\n",
    "\n",
    "plt.show()"
   ]
  },
  {
   "cell_type": "markdown",
   "id": "17499244",
   "metadata": {},
   "source": [
    "### Pessoas que fumam tem mais chances de ficar doentes"
   ]
  },
  {
   "cell_type": "code",
   "execution_count": null,
   "id": "ca71557e",
   "metadata": {
    "ExecuteTime": {
     "end_time": "2022-03-29T21:51:45.799737Z",
     "start_time": "2022-03-29T21:51:45.578873Z"
    },
    "scrolled": true
   },
   "outputs": [
    {
     "data": {
      "image/png": "[encoded data removed]",
      "text/plain": [
       "<Figure size 1296x576 with 1 Axes>"
      ]
     },
     "metadata": {
      "needs_background": "light"
     },
     "output_type": "display_data"
    }
   ],
   "source": [
    "# Definindo dimensões do gráfico\n",
    "plt.figure(figsize=(18,8))\n",
    "\n",
    "# Gerando gráfico\n",
    "sns.countplot(x=df4['smoke'], hue='active', data=df4);"
   ]
  },
  {
   "cell_type": "markdown",
   "id": "4582f743",
   "metadata": {},
   "source": [
    "# 5.0 Preparação dos dados"
   ]
  },
  {
   "cell_type": "code",
   "execution_count": null,
   "id": "9c787c69",
   "metadata": {
    "ExecuteTime": {
     "end_time": "2022-03-29T21:59:28.366283Z",
     "start_time": "2022-03-29T21:59:28.352292Z"
    }
   },
   "outputs": [
    {
     "name": "stdout",
     "output_type": "stream",
     "text": [
      "ERROR! Session/line number was not unique in database. History logging moved to new session 109\n"
     ]
    }
   ],
   "source": [
    "df5 = df4.copy()"
   ]
  },
  {
   "cell_type": "code",
   "execution_count": null,
   "id": "ccf3c625",
   "metadata": {
    "ExecuteTime": {
     "end_time": "2022-03-29T21:59:28.922343Z",
     "start_time": "2022-03-29T21:59:28.907353Z"
    },
    "scrolled": true
   },
   "outputs": [
    {
     "data": {
      "text/plain": [
       "id                int64\n",
       "age               int64\n",
       "gender            int64\n",
       "height            int64\n",
       "weight          float64\n",
       "ap_hi             int64\n",
       "ap_lo             int64\n",
       "cholesterol       int64\n",
       "gluc              int64\n",
       "smoke             int64\n",
       "alco              int64\n",
       "active            int64\n",
       "cardio            int64\n",
       "age_ano           int32\n",
       "height_metro    float64\n",
       "bmi             float64\n",
       "bpr             float64\n",
       "ap_sum            int64\n",
       "dtype: object"
      ]
     },
     "execution_count": 33,
     "metadata": {},
     "output_type": "execute_result"
    }
   ],
   "source": [
    "df5.dtypes"
   ]
  },
  {
   "cell_type": "code",
   "execution_count": null,
   "id": "94d36649",
   "metadata": {
    "ExecuteTime": {
     "end_time": "2022-03-29T21:59:30.397318Z",
     "start_time": "2022-03-29T21:59:30.387324Z"
    }
   },
   "outputs": [],
   "source": [
    "df5 = df5.drop(['id'], axis = 1)"
   ]
  },
  {
   "cell_type": "code",
   "execution_count": null,
   "id": "4a242696",
   "metadata": {
    "ExecuteTime": {
     "end_time": "2022-03-29T22:07:24.746122Z",
     "start_time": "2022-03-29T21:59:33.983735Z"
    }
   },
   "outputs": [],
   "source": [
    "df51 = df5.drop(['active'], axis=1)\n",
    "# define sampler\n",
    "smt = c.SMOTETomek( sampling_strategy='auto', random_state=32, n_jobs=-1 )\n",
    "\n",
    "# apply sampler\n",
    "x_smt, y_smt = smt.fit_resample(df51, df5['active'] )\n",
    "\n",
    "df5 = pd.concat([x_smt, y_smt], axis=1)"
   ]
  },
  {
   "cell_type": "code",
   "execution_count": null,
   "id": "1d4a8e0a",
   "metadata": {
    "ExecuteTime": {
     "end_time": "2022-03-29T22:07:24.887781Z",
     "start_time": "2022-03-29T22:07:24.858080Z"
    },
    "scrolled": false
   },
   "outputs": [
    {
     "data": {
      "text/html": [
       "<div>\n",
       "<style scoped>\n",
       "    .dataframe tbody tr th:only-of-type {\n",
       "        vertical-align: middle;\n",
       "    }\n",
       "\n",
       "    .dataframe tbody tr th {\n",
       "        vertical-align: top;\n",
       "    }\n",
       "\n",
       "    .dataframe thead th {\n",
       "        text-align: right;\n",
       "    }\n",
       "</style>\n",
       "<table border=\"1\" class=\"dataframe\">\n",
       "  <thead>\n",
       "    <tr style=\"text-align: right;\">\n",
       "      <th></th>\n",
       "      <th>age</th>\n",
       "      <th>gender</th>\n",
       "      <th>height</th>\n",
       "      <th>weight</th>\n",
       "      <th>ap_hi</th>\n",
       "      <th>ap_lo</th>\n",
       "      <th>cholesterol</th>\n",
       "      <th>gluc</th>\n",
       "      <th>smoke</th>\n",
       "      <th>alco</th>\n",
       "      <th>cardio</th>\n",
       "      <th>age_ano</th>\n",
       "      <th>height_metro</th>\n",
       "      <th>bmi</th>\n",
       "      <th>bpr</th>\n",
       "      <th>ap_sum</th>\n",
       "      <th>active</th>\n",
       "    </tr>\n",
       "  </thead>\n",
       "  <tbody>\n",
       "    <tr>\n",
       "      <th>0</th>\n",
       "      <td>18393</td>\n",
       "      <td>2</td>\n",
       "      <td>168</td>\n",
       "      <td>62.000000</td>\n",
       "      <td>110</td>\n",
       "      <td>80</td>\n",
       "      <td>1</td>\n",
       "      <td>1</td>\n",
       "      <td>0</td>\n",
       "      <td>0</td>\n",
       "      <td>0</td>\n",
       "      <td>50</td>\n",
       "      <td>1.680000</td>\n",
       "      <td>21.967120</td>\n",
       "      <td>1.375000</td>\n",
       "      <td>190</td>\n",
       "      <td>1</td>\n",
       "    </tr>\n",
       "    <tr>\n",
       "      <th>1</th>\n",
       "      <td>20228</td>\n",
       "      <td>1</td>\n",
       "      <td>156</td>\n",
       "      <td>85.000000</td>\n",
       "      <td>140</td>\n",
       "      <td>90</td>\n",
       "      <td>3</td>\n",
       "      <td>1</td>\n",
       "      <td>0</td>\n",
       "      <td>0</td>\n",
       "      <td>1</td>\n",
       "      <td>55</td>\n",
       "      <td>1.560000</td>\n",
       "      <td>34.927679</td>\n",
       "      <td>1.555556</td>\n",
       "      <td>230</td>\n",
       "      <td>1</td>\n",
       "    </tr>\n",
       "    <tr>\n",
       "      <th>2</th>\n",
       "      <td>18857</td>\n",
       "      <td>1</td>\n",
       "      <td>165</td>\n",
       "      <td>64.000000</td>\n",
       "      <td>130</td>\n",
       "      <td>70</td>\n",
       "      <td>3</td>\n",
       "      <td>1</td>\n",
       "      <td>0</td>\n",
       "      <td>0</td>\n",
       "      <td>1</td>\n",
       "      <td>51</td>\n",
       "      <td>1.650000</td>\n",
       "      <td>23.507805</td>\n",
       "      <td>1.857143</td>\n",
       "      <td>200</td>\n",
       "      <td>0</td>\n",
       "    </tr>\n",
       "    <tr>\n",
       "      <th>3</th>\n",
       "      <td>17623</td>\n",
       "      <td>2</td>\n",
       "      <td>169</td>\n",
       "      <td>82.000000</td>\n",
       "      <td>150</td>\n",
       "      <td>100</td>\n",
       "      <td>1</td>\n",
       "      <td>1</td>\n",
       "      <td>0</td>\n",
       "      <td>0</td>\n",
       "      <td>1</td>\n",
       "      <td>48</td>\n",
       "      <td>1.690000</td>\n",
       "      <td>28.710479</td>\n",
       "      <td>1.500000</td>\n",
       "      <td>250</td>\n",
       "      <td>1</td>\n",
       "    </tr>\n",
       "    <tr>\n",
       "      <th>4</th>\n",
       "      <td>17474</td>\n",
       "      <td>1</td>\n",
       "      <td>156</td>\n",
       "      <td>56.000000</td>\n",
       "      <td>100</td>\n",
       "      <td>60</td>\n",
       "      <td>1</td>\n",
       "      <td>1</td>\n",
       "      <td>0</td>\n",
       "      <td>0</td>\n",
       "      <td>0</td>\n",
       "      <td>47</td>\n",
       "      <td>1.560000</td>\n",
       "      <td>23.011177</td>\n",
       "      <td>1.666667</td>\n",
       "      <td>160</td>\n",
       "      <td>0</td>\n",
       "    </tr>\n",
       "    <tr>\n",
       "      <th>...</th>\n",
       "      <td>...</td>\n",
       "      <td>...</td>\n",
       "      <td>...</td>\n",
       "      <td>...</td>\n",
       "      <td>...</td>\n",
       "      <td>...</td>\n",
       "      <td>...</td>\n",
       "      <td>...</td>\n",
       "      <td>...</td>\n",
       "      <td>...</td>\n",
       "      <td>...</td>\n",
       "      <td>...</td>\n",
       "      <td>...</td>\n",
       "      <td>...</td>\n",
       "      <td>...</td>\n",
       "      <td>...</td>\n",
       "      <td>...</td>\n",
       "    </tr>\n",
       "    <tr>\n",
       "      <th>105171</th>\n",
       "      <td>17273</td>\n",
       "      <td>1</td>\n",
       "      <td>165</td>\n",
       "      <td>71.636601</td>\n",
       "      <td>100</td>\n",
       "      <td>70</td>\n",
       "      <td>1</td>\n",
       "      <td>1</td>\n",
       "      <td>0</td>\n",
       "      <td>0</td>\n",
       "      <td>0</td>\n",
       "      <td>47</td>\n",
       "      <td>1.657268</td>\n",
       "      <td>26.107789</td>\n",
       "      <td>1.428571</td>\n",
       "      <td>170</td>\n",
       "      <td>0</td>\n",
       "    </tr>\n",
       "    <tr>\n",
       "      <th>105172</th>\n",
       "      <td>21236</td>\n",
       "      <td>1</td>\n",
       "      <td>171</td>\n",
       "      <td>89.082667</td>\n",
       "      <td>150</td>\n",
       "      <td>90</td>\n",
       "      <td>2</td>\n",
       "      <td>1</td>\n",
       "      <td>0</td>\n",
       "      <td>0</td>\n",
       "      <td>1</td>\n",
       "      <td>58</td>\n",
       "      <td>1.710080</td>\n",
       "      <td>30.503153</td>\n",
       "      <td>1.675852</td>\n",
       "      <td>240</td>\n",
       "      <td>0</td>\n",
       "    </tr>\n",
       "    <tr>\n",
       "      <th>105173</th>\n",
       "      <td>22650</td>\n",
       "      <td>1</td>\n",
       "      <td>154</td>\n",
       "      <td>70.700159</td>\n",
       "      <td>134</td>\n",
       "      <td>90</td>\n",
       "      <td>1</td>\n",
       "      <td>1</td>\n",
       "      <td>0</td>\n",
       "      <td>0</td>\n",
       "      <td>1</td>\n",
       "      <td>62</td>\n",
       "      <td>1.544001</td>\n",
       "      <td>29.648817</td>\n",
       "      <td>1.494443</td>\n",
       "      <td>224</td>\n",
       "      <td>0</td>\n",
       "    </tr>\n",
       "    <tr>\n",
       "      <th>105174</th>\n",
       "      <td>20193</td>\n",
       "      <td>1</td>\n",
       "      <td>165</td>\n",
       "      <td>80.425773</td>\n",
       "      <td>140</td>\n",
       "      <td>97</td>\n",
       "      <td>1</td>\n",
       "      <td>1</td>\n",
       "      <td>0</td>\n",
       "      <td>0</td>\n",
       "      <td>0</td>\n",
       "      <td>55</td>\n",
       "      <td>1.657751</td>\n",
       "      <td>29.260719</td>\n",
       "      <td>1.434983</td>\n",
       "      <td>237</td>\n",
       "      <td>0</td>\n",
       "    </tr>\n",
       "    <tr>\n",
       "      <th>105175</th>\n",
       "      <td>21865</td>\n",
       "      <td>1</td>\n",
       "      <td>158</td>\n",
       "      <td>56.580052</td>\n",
       "      <td>114</td>\n",
       "      <td>80</td>\n",
       "      <td>1</td>\n",
       "      <td>1</td>\n",
       "      <td>0</td>\n",
       "      <td>0</td>\n",
       "      <td>0</td>\n",
       "      <td>59</td>\n",
       "      <td>1.581067</td>\n",
       "      <td>22.629750</td>\n",
       "      <td>1.434165</td>\n",
       "      <td>194</td>\n",
       "      <td>0</td>\n",
       "    </tr>\n",
       "  </tbody>\n",
       "</table>\n",
       "<p>105176 rows × 17 columns</p>\n",
       "</div>"
      ],
      "text/plain": [
       "          age  gender  height     weight  ap_hi  ap_lo  cholesterol  gluc  \\\n",
       "0       18393       2     168  62.000000    110     80            1     1   \n",
       "1       20228       1     156  85.000000    140     90            3     1   \n",
       "2       18857       1     165  64.000000    130     70            3     1   \n",
       "3       17623       2     169  82.000000    150    100            1     1   \n",
       "4       17474       1     156  56.000000    100     60            1     1   \n",
       "...       ...     ...     ...        ...    ...    ...          ...   ...   \n",
       "105171  17273       1     165  71.636601    100     70            1     1   \n",
       "105172  21236       1     171  89.082667    150     90            2     1   \n",
       "105173  22650       1     154  70.700159    134     90            1     1   \n",
       "105174  20193       1     165  80.425773    140     97            1     1   \n",
       "105175  21865       1     158  56.580052    114     80            1     1   \n",
       "\n",
       "        smoke  alco  cardio  age_ano  height_metro        bmi       bpr  \\\n",
       "0           0     0       0       50      1.680000  21.967120  1.375000   \n",
       "1           0     0       1       55      1.560000  34.927679  1.555556   \n",
       "2           0     0       1       51      1.650000  23.507805  1.857143   \n",
       "3           0     0       1       48      1.690000  28.710479  1.500000   \n",
       "4           0     0       0       47      1.560000  23.011177  1.666667   \n",
       "...       ...   ...     ...      ...           ...        ...       ...   \n",
       "105171      0     0       0       47      1.657268  26.107789  1.428571   \n",
       "105172      0     0       1       58      1.710080  30.503153  1.675852   \n",
       "105173      0     0       1       62      1.544001  29.648817  1.494443   \n",
       "105174      0     0       0       55      1.657751  29.260719  1.434983   \n",
       "105175      0     0       0       59      1.581067  22.629750  1.434165   \n",
       "\n",
       "        ap_sum  active  \n",
       "0          190       1  \n",
       "1          230       1  \n",
       "2          200       0  \n",
       "3          250       1  \n",
       "4          160       0  \n",
       "...        ...     ...  \n",
       "105171     170       0  \n",
       "105172     240       0  \n",
       "105173     224       0  \n",
       "105174     237       0  \n",
       "105175     194       0  \n",
       "\n",
       "[105176 rows x 17 columns]"
      ]
     },
     "execution_count": 36,
     "metadata": {},
     "output_type": "execute_result"
    }
   ],
   "source": [
    "df5"
   ]
  },
  {
   "cell_type": "code",
   "execution_count": null,
   "id": "fd74b817",
   "metadata": {
    "ExecuteTime": {
     "end_time": "2022-03-29T22:07:25.061793Z",
     "start_time": "2022-03-29T22:07:24.983722Z"
    }
   },
   "outputs": [],
   "source": [
    "mms_age = pp.MinMaxScaler()\n",
    "mms_height = pp.MinMaxScaler()\n",
    "mms_weight = pp.MinMaxScaler()\n",
    "mms_ap_hi = pp.MinMaxScaler()\n",
    "mms_ap_lo = pp.MinMaxScaler()\n",
    "mms_bmi = pp.MinMaxScaler()\n",
    "mms_bpr = pp.MinMaxScaler()\n",
    "mms_ap_sum = pp.MinMaxScaler()\n",
    "\n",
    "\n",
    "df5['age'] = mms_age.fit_transform(df5[['age']].values)\n",
    "df5['height'] = mms_height.fit_transform(df5[['height']].values)\n",
    "df5['weight'] = mms_weight.fit_transform(df5[['weight']].values)\n",
    "df5['ap_hi'] = mms_ap_hi.fit_transform(df5[['ap_hi']].values)\n",
    "df5['ap_lo'] = mms_ap_lo.fit_transform(df5[['ap_lo']].values)\n",
    "df5['bmi'] = mms_bmi.fit_transform(df5[['bmi']].values)\n",
    "df5['bpr'] = mms_bpr.fit_transform(df5[['bpr']].values)\n",
    "df5['ap_sum'] = mms_ap_lo.fit_transform(df5[['ap_sum']].values)"
   ]
  },
  {
   "cell_type": "code",
   "execution_count": null,
   "id": "683f13d6",
   "metadata": {
    "ExecuteTime": {
     "end_time": "2022-03-29T22:07:25.267665Z",
     "start_time": "2022-03-29T22:07:25.173719Z"
    }
   },
   "outputs": [],
   "source": [
    "# Convertendo sexo em categórico\n",
    "df5['gender'] = df5['gender'].astype('category')\n",
    "\n",
    "# Convertendo gluc em categórico\n",
    "df5['gluc'] = df5['gluc'].apply(lambda x: 'normal' if x == 1 else\n",
    "                                          'acima do normal' if x == 2 else \n",
    "                                          'bem acima do normal')\n",
    "\n",
    "# Convertendo sexo em categórico\n",
    "df5['cholesterol'] = df5['cholesterol'].apply(lambda x: 'normal' if x == 1 else\n",
    "                                          'acima do normal' if x == 2 else \n",
    "                                          'bem acima do normal')\n",
    "\n",
    "# Convertendo smoke em categórico\n",
    "df5['smoke'] = df5['smoke'].apply(lambda x: 'sim' if x == 1 else 'não')\n",
    "\n",
    "# Convertendo alco em categórico\n",
    "df5['alco'] = df5['alco'].apply(lambda x: 'sim' if x == 1 else 'não')"
   ]
  },
  {
   "cell_type": "code",
   "execution_count": null,
   "id": "bbcc99ea",
   "metadata": {
    "ExecuteTime": {
     "end_time": "2022-03-29T22:07:25.534734Z",
     "start_time": "2022-03-29T22:07:25.363636Z"
    }
   },
   "outputs": [],
   "source": [
    "df5 = pd.get_dummies( df5, prefix='gender', columns=['gender'] )\n",
    "\n",
    "df5 = pd.get_dummies( df5, prefix='gluc', columns=['gluc'] )\n",
    "\n",
    "df5 = pd.get_dummies( df5, prefix='cholesterol', columns=['cholesterol'] )\n",
    "\n",
    "df5 = pd.get_dummies( df5, prefix='smoke', columns=['smoke'] )\n",
    "\n",
    "df5 = pd.get_dummies( df5, prefix='alco', columns=['alco'] )\n",
    "\n"
   ]
  },
  {
   "cell_type": "code",
   "execution_count": null,
   "id": "75786fd5",
   "metadata": {
    "ExecuteTime": {
     "end_time": "2022-03-29T22:07:25.675694Z",
     "start_time": "2022-03-29T22:07:25.645714Z"
    }
   },
   "outputs": [
    {
     "data": {
      "text/html": [
       "<div>\n",
       "<style scoped>\n",
       "    .dataframe tbody tr th:only-of-type {\n",
       "        vertical-align: middle;\n",
       "    }\n",
       "\n",
       "    .dataframe tbody tr th {\n",
       "        vertical-align: top;\n",
       "    }\n",
       "\n",
       "    .dataframe thead th {\n",
       "        text-align: right;\n",
       "    }\n",
       "</style>\n",
       "<table border=\"1\" class=\"dataframe\">\n",
       "  <thead>\n",
       "    <tr style=\"text-align: right;\">\n",
       "      <th></th>\n",
       "      <th>age</th>\n",
       "      <th>height</th>\n",
       "      <th>weight</th>\n",
       "      <th>ap_hi</th>\n",
       "      <th>ap_lo</th>\n",
       "      <th>cardio</th>\n",
       "      <th>age_ano</th>\n",
       "      <th>height_metro</th>\n",
       "      <th>bmi</th>\n",
       "      <th>bpr</th>\n",
       "      <th>...</th>\n",
       "      <th>gluc_acima do normal</th>\n",
       "      <th>gluc_bem acima do normal</th>\n",
       "      <th>gluc_normal</th>\n",
       "      <th>cholesterol_acima do normal</th>\n",
       "      <th>cholesterol_bem acima do normal</th>\n",
       "      <th>cholesterol_normal</th>\n",
       "      <th>smoke_não</th>\n",
       "      <th>smoke_sim</th>\n",
       "      <th>alco_não</th>\n",
       "      <th>alco_sim</th>\n",
       "    </tr>\n",
       "  </thead>\n",
       "  <tbody>\n",
       "    <tr>\n",
       "      <th>0</th>\n",
       "      <td>0.588076</td>\n",
       "      <td>0.370968</td>\n",
       "      <td>0.13750</td>\n",
       "      <td>0.357143</td>\n",
       "      <td>0.4</td>\n",
       "      <td>0</td>\n",
       "      <td>50</td>\n",
       "      <td>1.68</td>\n",
       "      <td>0.154165</td>\n",
       "      <td>0.107500</td>\n",
       "      <td>...</td>\n",
       "      <td>0</td>\n",
       "      <td>0</td>\n",
       "      <td>1</td>\n",
       "      <td>0</td>\n",
       "      <td>0</td>\n",
       "      <td>1</td>\n",
       "      <td>1</td>\n",
       "      <td>0</td>\n",
       "      <td>1</td>\n",
       "      <td>0</td>\n",
       "    </tr>\n",
       "    <tr>\n",
       "      <th>1</th>\n",
       "      <td>0.730159</td>\n",
       "      <td>0.177419</td>\n",
       "      <td>0.28125</td>\n",
       "      <td>0.571429</td>\n",
       "      <td>0.5</td>\n",
       "      <td>1</td>\n",
       "      <td>55</td>\n",
       "      <td>1.56</td>\n",
       "      <td>0.390725</td>\n",
       "      <td>0.168889</td>\n",
       "      <td>...</td>\n",
       "      <td>0</td>\n",
       "      <td>0</td>\n",
       "      <td>1</td>\n",
       "      <td>0</td>\n",
       "      <td>1</td>\n",
       "      <td>0</td>\n",
       "      <td>1</td>\n",
       "      <td>0</td>\n",
       "      <td>1</td>\n",
       "      <td>0</td>\n",
       "    </tr>\n",
       "    <tr>\n",
       "      <th>2</th>\n",
       "      <td>0.624003</td>\n",
       "      <td>0.322581</td>\n",
       "      <td>0.15000</td>\n",
       "      <td>0.500000</td>\n",
       "      <td>0.3</td>\n",
       "      <td>1</td>\n",
       "      <td>51</td>\n",
       "      <td>1.65</td>\n",
       "      <td>0.182286</td>\n",
       "      <td>0.271429</td>\n",
       "      <td>...</td>\n",
       "      <td>0</td>\n",
       "      <td>0</td>\n",
       "      <td>1</td>\n",
       "      <td>0</td>\n",
       "      <td>1</td>\n",
       "      <td>0</td>\n",
       "      <td>1</td>\n",
       "      <td>0</td>\n",
       "      <td>1</td>\n",
       "      <td>0</td>\n",
       "    </tr>\n",
       "    <tr>\n",
       "      <th>3</th>\n",
       "      <td>0.528455</td>\n",
       "      <td>0.387097</td>\n",
       "      <td>0.26250</td>\n",
       "      <td>0.642857</td>\n",
       "      <td>0.6</td>\n",
       "      <td>1</td>\n",
       "      <td>48</td>\n",
       "      <td>1.69</td>\n",
       "      <td>0.277247</td>\n",
       "      <td>0.150000</td>\n",
       "      <td>...</td>\n",
       "      <td>0</td>\n",
       "      <td>0</td>\n",
       "      <td>1</td>\n",
       "      <td>0</td>\n",
       "      <td>0</td>\n",
       "      <td>1</td>\n",
       "      <td>1</td>\n",
       "      <td>0</td>\n",
       "      <td>1</td>\n",
       "      <td>0</td>\n",
       "    </tr>\n",
       "    <tr>\n",
       "      <th>4</th>\n",
       "      <td>0.516918</td>\n",
       "      <td>0.177419</td>\n",
       "      <td>0.10000</td>\n",
       "      <td>0.285714</td>\n",
       "      <td>0.2</td>\n",
       "      <td>0</td>\n",
       "      <td>47</td>\n",
       "      <td>1.56</td>\n",
       "      <td>0.173221</td>\n",
       "      <td>0.206667</td>\n",
       "      <td>...</td>\n",
       "      <td>0</td>\n",
       "      <td>0</td>\n",
       "      <td>1</td>\n",
       "      <td>0</td>\n",
       "      <td>0</td>\n",
       "      <td>1</td>\n",
       "      <td>1</td>\n",
       "      <td>0</td>\n",
       "      <td>1</td>\n",
       "      <td>0</td>\n",
       "    </tr>\n",
       "  </tbody>\n",
       "</table>\n",
       "<p>5 rows × 24 columns</p>\n",
       "</div>"
      ],
      "text/plain": [
       "        age    height   weight     ap_hi  ap_lo  cardio  age_ano  \\\n",
       "0  0.588076  0.370968  0.13750  0.357143    0.4       0       50   \n",
       "1  0.730159  0.177419  0.28125  0.571429    0.5       1       55   \n",
       "2  0.624003  0.322581  0.15000  0.500000    0.3       1       51   \n",
       "3  0.528455  0.387097  0.26250  0.642857    0.6       1       48   \n",
       "4  0.516918  0.177419  0.10000  0.285714    0.2       0       47   \n",
       "\n",
       "   height_metro       bmi       bpr  ...  gluc_acima do normal  \\\n",
       "0          1.68  0.154165  0.107500  ...                     0   \n",
       "1          1.56  0.390725  0.168889  ...                     0   \n",
       "2          1.65  0.182286  0.271429  ...                     0   \n",
       "3          1.69  0.277247  0.150000  ...                     0   \n",
       "4          1.56  0.173221  0.206667  ...                     0   \n",
       "\n",
       "   gluc_bem acima do normal  gluc_normal  cholesterol_acima do normal  \\\n",
       "0                         0            1                            0   \n",
       "1                         0            1                            0   \n",
       "2                         0            1                            0   \n",
       "3                         0            1                            0   \n",
       "4                         0            1                            0   \n",
       "\n",
       "   cholesterol_bem acima do normal  cholesterol_normal  smoke_não  smoke_sim  \\\n",
       "0                                0                   1          1          0   \n",
       "1                                1                   0          1          0   \n",
       "2                                1                   0          1          0   \n",
       "3                                0                   1          1          0   \n",
       "4                                0                   1          1          0   \n",
       "\n",
       "   alco_não  alco_sim  \n",
       "0         1         0  \n",
       "1         1         0  \n",
       "2         1         0  \n",
       "3         1         0  \n",
       "4         1         0  \n",
       "\n",
       "[5 rows x 24 columns]"
      ]
     },
     "execution_count": 40,
     "metadata": {},
     "output_type": "execute_result"
    }
   ],
   "source": [
    "df5.head()"
   ]
  },
  {
   "cell_type": "markdown",
   "id": "bbb9a16b",
   "metadata": {},
   "source": [
    "# 6.0 Feature Selection"
   ]
  },
  {
   "cell_type": "code",
   "execution_count": null,
   "id": "35ab37ed",
   "metadata": {
    "ExecuteTime": {
     "end_time": "2022-03-29T22:07:25.801819Z",
     "start_time": "2022-03-29T22:07:25.787834Z"
    }
   },
   "outputs": [],
   "source": [
    "df6 = df5"
   ]
  },
  {
   "cell_type": "code",
   "execution_count": null,
   "id": "c47da425",
   "metadata": {
    "ExecuteTime": {
     "end_time": "2022-03-29T22:07:25.943847Z",
     "start_time": "2022-03-29T22:07:25.929858Z"
    }
   },
   "outputs": [
    {
     "data": {
      "text/plain": [
       "age                                0\n",
       "height                             0\n",
       "weight                             0\n",
       "ap_hi                              0\n",
       "ap_lo                              0\n",
       "cardio                             0\n",
       "age_ano                            0\n",
       "height_metro                       0\n",
       "bmi                                0\n",
       "bpr                                0\n",
       "ap_sum                             0\n",
       "active                             0\n",
       "gender_1                           0\n",
       "gender_2                           0\n",
       "gluc_acima do normal               0\n",
       "gluc_bem acima do normal           0\n",
       "gluc_normal                        0\n",
       "cholesterol_acima do normal        0\n",
       "cholesterol_bem acima do normal    0\n",
       "cholesterol_normal                 0\n",
       "smoke_não                          0\n",
       "smoke_sim                          0\n",
       "alco_não                           0\n",
       "alco_sim                           0\n",
       "dtype: int64"
      ]
     },
     "execution_count": 42,
     "metadata": {},
     "output_type": "execute_result"
    }
   ],
   "source": [
    "df6.isna().sum()"
   ]
  },
  {
   "cell_type": "code",
   "execution_count": null,
   "id": "87c4b11f",
   "metadata": {
    "ExecuteTime": {
     "end_time": "2022-03-29T22:10:55.551994Z",
     "start_time": "2022-03-29T22:10:41.939019Z"
    }
   },
   "outputs": [
    {
     "name": "stdout",
     "output_type": "stream",
     "text": [
      "Feature ranking:\n",
      "                           feature  importance\n",
      "0                              age    0.217757\n",
      "0                           weight    0.166987\n",
      "0                              bmi    0.164751\n",
      "0                           height    0.120689\n",
      "0                              bpr    0.068152\n",
      "0                           ap_sum    0.060388\n",
      "0                            ap_hi    0.056275\n",
      "0                            ap_lo    0.051879\n",
      "0  cholesterol_bem acima do normal    0.012702\n",
      "0                         gender_1    0.012644\n",
      "0                         gender_2    0.012314\n",
      "0                           cardio    0.010672\n",
      "0         gluc_bem acima do normal    0.007162\n",
      "0                        smoke_não    0.006935\n",
      "0                        smoke_sim    0.006206\n",
      "0               cholesterol_normal    0.005510\n",
      "0                         alco_não    0.004558\n",
      "0                         alco_sim    0.004452\n",
      "0      cholesterol_acima do normal    0.003802\n",
      "0                      gluc_normal    0.003150\n",
      "0             gluc_acima do normal    0.003015\n"
     ]
    },
    {
     "data": {
      "image/png": "[encoded data removed]",
      "text/plain": [
       "<Figure size 1080x504 with 1 Axes>"
      ]
     },
     "metadata": {
      "needs_background": "light"
     },
     "output_type": "display_data"
    }
   ],
   "source": [
    "# model definition\n",
    "forest = en.ExtraTreesClassifier( n_estimators=250, random_state=0, n_jobs=-1 )\n",
    "\n",
    "# data preparation\n",
    "y_train_n = df6[['active']].values\n",
    "x_train_n = df6.drop(['active', 'height_metro', 'age_ano'], axis=1)\n",
    "forest.fit( x_train_n, y_train_n )\n",
    "\n",
    "importances = forest.feature_importances_\n",
    "std = np.std([tree.feature_importances_ for tree in forest.estimators_], axis=0)\n",
    "indices = np.argsort(importances)[::-1]\n",
    "\n",
    "# Print the feature ranking\n",
    "print(\"Feature ranking:\")\n",
    "df = pd.DataFrame()\n",
    "for i, j in zip( x_train_n, forest.feature_importances_ ):\n",
    "    aux = pd.DataFrame( {'feature': i, 'importance': j}, index=[0] )\n",
    "    df = pd.concat( [df, aux], axis=0 )\n",
    "    \n",
    "print( df.sort_values( 'importance', ascending=False ) )\n",
    "\n",
    "# Plot the impurity-based feature importances of the forest\n",
    "plt.figure(figsize=(15,7))\n",
    "plt.title(\"Feature importances\")\n",
    "plt.bar(range(x_train_n.shape[1]), importances[indices], color=\"r\", yerr=std[indices], align=\"center\")\n",
    "plt.xticks(range(x_train_n.shape[1]), indices)\n",
    "plt.xlim([-1, x_train_n.shape[1]])\n",
    "plt.show()"
   ]
  },
  {
   "cell_type": "code",
   "execution_count": null,
   "id": "4365d06e",
   "metadata": {
    "ExecuteTime": {
     "end_time": "2022-03-29T21:57:05.685870Z",
     "start_time": "2022-03-29T21:57:05.685870Z"
    }
   },
   "outputs": [],
   "source": [
    "colunas = ['age', 'weight', 'ap_hi', 'ap_lo', 'height', ]"
   ]
  },
  {
   "cell_type": "markdown",
   "id": "df32fb62",
   "metadata": {},
   "source": [
    "# 7.0 Machine Learning"
   ]
  },
  {
   "cell_type": "code",
   "execution_count": null,
   "id": "6c78a30e",
   "metadata": {
    "ExecuteTime": {
     "end_time": "2022-03-29T22:11:27.067460Z",
     "start_time": "2022-03-29T22:11:27.058464Z"
    }
   },
   "outputs": [],
   "source": [
    "df7 = df6.copy()"
   ]
  },
  {
   "cell_type": "code",
   "execution_count": null,
   "id": "5e2ab76e",
   "metadata": {
    "ExecuteTime": {
     "end_time": "2022-03-29T22:11:27.963540Z",
     "start_time": "2022-03-29T22:11:27.953545Z"
    }
   },
   "outputs": [],
   "source": [
    "x = df7.drop(['cardio', 'height_metro', 'age_ano'], axis=1)\n",
    "y = df7[['cardio']]"
   ]
  },
  {
   "cell_type": "markdown",
   "id": "12f032ea",
   "metadata": {
    "ExecuteTime": {
     "end_time": "2022-03-26T18:20:12.775345Z",
     "start_time": "2022-03-26T18:20:12.753359Z"
    },
    "scrolled": false
   },
   "source": [
    "## 7.1 Visão geral"
   ]
  },
  {
   "cell_type": "code",
   "execution_count": null,
   "id": "30e91015",
   "metadata": {
    "ExecuteTime": {
     "end_time": "2022-03-29T22:11:30.700019Z",
     "start_time": "2022-03-29T22:11:30.681034Z"
    }
   },
   "outputs": [],
   "source": [
    "lista = [\n",
    "    ['KNN', KNeighborsClassifier(n_neighbors=10)],\n",
    "    ['LogisticRegression', LogisticRegression()],\n",
    "    ['ExtraTrees', en.ExtraTreesClassifier( n_estimators=300, n_jobs=-1, random_state=32 )],\n",
    "    ['Gaussian', GaussianNB()],\n",
    "    ['RandomForest', en.RandomForestClassifier(n_estimators=300, n_jobs=-1, random_state=32)],\n",
    "    ['XgBoost', xgb.XGBClassifier(objective ='reg:linear', colsample_bytree = 0.3, n_estimators=300, n_jobs=-1, random_state=32)],\n",
    "]\n"
   ]
  },
  {
   "cell_type": "code",
   "execution_count": null,
   "id": "d5c62d62",
   "metadata": {
    "ExecuteTime": {
     "end_time": "2022-03-29T22:12:49.281172Z",
     "start_time": "2022-03-29T22:11:31.153666Z"
    }
   },
   "outputs": [
    {
     "name": "stdout",
     "output_type": "stream",
     "text": [
      "[19:12:41] WARNING: C:/Users/Administrator/workspace/xgboost-win64_release_1.5.1/src/objective/regression_obj.cu:188: reg:linear is now deprecated in favor of reg:squarederror.\n"
     ]
    },
    {
     "data": {
      "text/html": [
       "<div>\n",
       "<style scoped>\n",
       "    .dataframe tbody tr th:only-of-type {\n",
       "        vertical-align: middle;\n",
       "    }\n",
       "\n",
       "    .dataframe tbody tr th {\n",
       "        vertical-align: top;\n",
       "    }\n",
       "\n",
       "    .dataframe thead th {\n",
       "        text-align: right;\n",
       "    }\n",
       "</style>\n",
       "<table border=\"1\" class=\"dataframe\">\n",
       "  <thead>\n",
       "    <tr style=\"text-align: right;\">\n",
       "      <th></th>\n",
       "      <th>Modelo</th>\n",
       "      <th>Accuracy</th>\n",
       "      <th>Precission</th>\n",
       "      <th>Recall</th>\n",
       "      <th>F1Score</th>\n",
       "    </tr>\n",
       "  </thead>\n",
       "  <tbody>\n",
       "    <tr>\n",
       "      <th>0</th>\n",
       "      <td>KNN</td>\n",
       "      <td>0.656309</td>\n",
       "      <td>0.694779</td>\n",
       "      <td>0.554191</td>\n",
       "      <td>0.616573</td>\n",
       "    </tr>\n",
       "    <tr>\n",
       "      <th>1</th>\n",
       "      <td>LogisticRegression</td>\n",
       "      <td>0.631779</td>\n",
       "      <td>0.665227</td>\n",
       "      <td>0.527964</td>\n",
       "      <td>0.588700</td>\n",
       "    </tr>\n",
       "    <tr>\n",
       "      <th>2</th>\n",
       "      <td>ExtraTrees</td>\n",
       "      <td>0.763977</td>\n",
       "      <td>0.751419</td>\n",
       "      <td>0.787283</td>\n",
       "      <td>0.768933</td>\n",
       "    </tr>\n",
       "    <tr>\n",
       "      <th>3</th>\n",
       "      <td>Gaussian</td>\n",
       "      <td>0.594774</td>\n",
       "      <td>0.770965</td>\n",
       "      <td>0.261888</td>\n",
       "      <td>0.390969</td>\n",
       "    </tr>\n",
       "    <tr>\n",
       "      <th>4</th>\n",
       "      <td>RandomForest</td>\n",
       "      <td>0.789952</td>\n",
       "      <td>0.769274</td>\n",
       "      <td>0.827570</td>\n",
       "      <td>0.797358</td>\n",
       "    </tr>\n",
       "    <tr>\n",
       "      <th>5</th>\n",
       "      <td>XgBoost</td>\n",
       "      <td>0.853769</td>\n",
       "      <td>0.785504</td>\n",
       "      <td>0.972893</td>\n",
       "      <td>0.869213</td>\n",
       "    </tr>\n",
       "  </tbody>\n",
       "</table>\n",
       "</div>"
      ],
      "text/plain": [
       "               Modelo  Accuracy  Precission    Recall   F1Score\n",
       "0                 KNN  0.656309    0.694779  0.554191  0.616573\n",
       "1  LogisticRegression  0.631779    0.665227  0.527964  0.588700\n",
       "2          ExtraTrees  0.763977    0.751419  0.787283  0.768933\n",
       "3            Gaussian  0.594774    0.770965  0.261888  0.390969\n",
       "4        RandomForest  0.789952    0.769274  0.827570  0.797358\n",
       "5             XgBoost  0.853769    0.785504  0.972893  0.869213"
      ]
     },
     "execution_count": 49,
     "metadata": {},
     "output_type": "execute_result"
    }
   ],
   "source": [
    "analise_de_modelos(x,y,lista)"
   ]
  },
  {
   "cell_type": "markdown",
   "id": "5f10aeb5",
   "metadata": {},
   "source": [
    "## KNN"
   ]
  },
  {
   "cell_type": "code",
   "execution_count": null,
   "id": "a7f10e4e",
   "metadata": {
    "ExecuteTime": {
     "end_time": "2022-03-29T22:13:36.107110Z",
     "start_time": "2022-03-29T22:12:49.567012Z"
    }
   },
   "outputs": [
    {
     "data": {
      "image/png": "[encoded data removed]",
      "text/plain": [
       "<Figure size 360x360 with 1 Axes>"
      ]
     },
     "metadata": {
      "needs_background": "light"
     },
     "output_type": "display_data"
    },
    {
     "name": "stdout",
     "output_type": "stream",
     "text": [
      "              precision    recall  f1-score   support\n",
      "\n",
      "           0       0.63      0.75      0.68     13170\n",
      "           1       0.69      0.56      0.62     13124\n",
      "\n",
      "    accuracy                           0.65     26294\n",
      "   macro avg       0.66      0.65      0.65     26294\n",
      "weighted avg       0.66      0.65      0.65     26294\n",
      "\n"
     ]
    }
   ],
   "source": [
    "model = KNeighborsClassifier(n_neighbors=10)\n",
    "modelo(x, y, model)\n"
   ]
  },
  {
   "cell_type": "markdown",
   "id": "eac57f8c",
   "metadata": {},
   "source": [
    "## Logistic Regrassion\n"
   ]
  },
  {
   "cell_type": "code",
   "execution_count": null,
   "id": "0021a3cf",
   "metadata": {
    "ExecuteTime": {
     "end_time": "2022-03-29T22:13:37.632165Z",
     "start_time": "2022-03-29T22:13:36.486877Z"
    }
   },
   "outputs": [
    {
     "data": {
      "image/png": "[encoded data removed]",
      "text/plain": [
       "<Figure size 360x360 with 1 Axes>"
      ]
     },
     "metadata": {
      "needs_background": "light"
     },
     "output_type": "display_data"
    },
    {
     "name": "stdout",
     "output_type": "stream",
     "text": [
      "              precision    recall  f1-score   support\n",
      "\n",
      "           0       0.61      0.74      0.66     13128\n",
      "           1       0.67      0.52      0.59     13166\n",
      "\n",
      "    accuracy                           0.63     26294\n",
      "   macro avg       0.64      0.63      0.63     26294\n",
      "weighted avg       0.64      0.63      0.63     26294\n",
      "\n"
     ]
    }
   ],
   "source": [
    "model = LogisticRegression()\n",
    "modelo(x, y, model)\n"
   ]
  },
  {
   "cell_type": "markdown",
   "id": "2fa054a7",
   "metadata": {},
   "source": [
    "## ExtraTree"
   ]
  },
  {
   "cell_type": "code",
   "execution_count": null,
   "id": "25d735d1",
   "metadata": {
    "ExecuteTime": {
     "end_time": "2022-03-29T22:13:49.795675Z",
     "start_time": "2022-03-29T22:13:37.838037Z"
    }
   },
   "outputs": [
    {
     "data": {
      "image/png": "[encoded data removed]",
      "text/plain": [
       "<Figure size 360x360 with 1 Axes>"
      ]
     },
     "metadata": {
      "needs_background": "light"
     },
     "output_type": "display_data"
    },
    {
     "name": "stdout",
     "output_type": "stream",
     "text": [
      "              precision    recall  f1-score   support\n",
      "\n",
      "           0       0.78      0.75      0.76     13197\n",
      "           1       0.75      0.79      0.77     13097\n",
      "\n",
      "    accuracy                           0.77     26294\n",
      "   macro avg       0.77      0.77      0.77     26294\n",
      "weighted avg       0.77      0.77      0.77     26294\n",
      "\n"
     ]
    }
   ],
   "source": [
    "model = en.ExtraTreesClassifier( n_estimators=300, n_jobs=-1, random_state=32 )\n",
    "modelo(x, y, model)"
   ]
  },
  {
   "cell_type": "markdown",
   "id": "9f903f0d",
   "metadata": {},
   "source": [
    "## Gaussian"
   ]
  },
  {
   "cell_type": "code",
   "execution_count": null,
   "id": "e39bfd7b",
   "metadata": {
    "ExecuteTime": {
     "end_time": "2022-03-29T22:13:50.457317Z",
     "start_time": "2022-03-29T22:13:50.005585Z"
    },
    "scrolled": false
   },
   "outputs": [
    {
     "data": {
      "image/png": "[encoded data removed]",
      "text/plain": [
       "<Figure size 360x360 with 1 Axes>"
      ]
     },
     "metadata": {
      "needs_background": "light"
     },
     "output_type": "display_data"
    },
    {
     "name": "stdout",
     "output_type": "stream",
     "text": [
      "              precision    recall  f1-score   support\n",
      "\n",
      "           0       0.56      0.92      0.70     13190\n",
      "           1       0.77      0.26      0.39     13104\n",
      "\n",
      "    accuracy                           0.59     26294\n",
      "   macro avg       0.66      0.59      0.54     26294\n",
      "weighted avg       0.66      0.59      0.54     26294\n",
      "\n"
     ]
    }
   ],
   "source": [
    "model = GaussianNB()\n",
    "modelo(x, y, model)"
   ]
  },
  {
   "cell_type": "markdown",
   "id": "a7d4ddcc",
   "metadata": {},
   "source": [
    "## XgBoost"
   ]
  },
  {
   "cell_type": "code",
   "execution_count": null,
   "id": "4736533c",
   "metadata": {
    "ExecuteTime": {
     "end_time": "2022-03-29T22:24:48.558306Z",
     "start_time": "2022-03-29T22:24:41.374769Z"
    }
   },
   "outputs": [
    {
     "name": "stdout",
     "output_type": "stream",
     "text": [
      "[19:24:41] WARNING: C:/Users/Administrator/workspace/xgboost-win64_release_1.5.1/src/objective/regression_obj.cu:188: reg:linear is now deprecated in favor of reg:squarederror.\n"
     ]
    },
    {
     "data": {
      "image/png": "[encoded data removed]",
      "text/plain": [
       "<Figure size 360x360 with 1 Axes>"
      ]
     },
     "metadata": {
      "needs_background": "light"
     },
     "output_type": "display_data"
    },
    {
     "name": "stdout",
     "output_type": "stream",
     "text": [
      "              precision    recall  f1-score   support\n",
      "\n",
      "           0       0.97      0.74      0.84     13169\n",
      "           1       0.79      0.98      0.87     13125\n",
      "\n",
      "    accuracy                           0.86     26294\n",
      "   macro avg       0.88      0.86      0.86     26294\n",
      "weighted avg       0.88      0.86      0.86     26294\n",
      "\n"
     ]
    }
   ],
   "source": [
    "model = xgb.XGBClassifier(objective ='reg:linear', colsample_bytree = 0.3, n_estimators=300, n_jobs=-1, random_state=32 )\n",
    "modelo(x, y, model)"
   ]
  },
  {
   "cell_type": "markdown",
   "id": "51a49ea4",
   "metadata": {},
   "source": [
    "## RandomForest"
   ]
  },
  {
   "cell_type": "code",
   "execution_count": null,
   "id": "ec282282",
   "metadata": {
    "ExecuteTime": {
     "end_time": "2022-03-29T22:14:13.373521Z",
     "start_time": "2022-03-29T22:13:57.937633Z"
    }
   },
   "outputs": [
    {
     "data": {
      "image/png": "[encoded data removed]",
      "text/plain": [
       "<Figure size 360x360 with 1 Axes>"
      ]
     },
     "metadata": {
      "needs_background": "light"
     },
     "output_type": "display_data"
    },
    {
     "name": "stdout",
     "output_type": "stream",
     "text": [
      "              precision    recall  f1-score   support\n",
      "\n",
      "           0       0.81      0.75      0.78     13105\n",
      "           1       0.77      0.82      0.80     13189\n",
      "\n",
      "    accuracy                           0.79     26294\n",
      "   macro avg       0.79      0.79      0.79     26294\n",
      "weighted avg       0.79      0.79      0.79     26294\n",
      "\n"
     ]
    }
   ],
   "source": [
    "model = en.RandomForestClassifier(n_estimators=300, n_jobs=-1, random_state=32)\n",
    "modelo(x, y, model)"
   ]
  },
  {
   "cell_type": "markdown",
   "id": "0f5f9ced",
   "metadata": {
    "ExecuteTime": {
     "end_time": "2022-03-26T18:36:27.617697Z",
     "start_time": "2022-03-26T18:36:27.604706Z"
    }
   },
   "source": [
    "## SVC"
   ]
  },
  {
   "cell_type": "code",
   "execution_count": null,
   "id": "45cef025",
   "metadata": {
    "ExecuteTime": {
     "end_time": "2022-03-29T22:23:07.920260Z",
     "start_time": "2022-03-29T22:14:13.580406Z"
    },
    "scrolled": false
   },
   "outputs": [
    {
     "data": {
      "image/png": "[encoded data removed]",
      "text/plain": [
       "<Figure size 360x360 with 1 Axes>"
      ]
     },
     "metadata": {
      "needs_background": "light"
     },
     "output_type": "display_data"
    },
    {
     "name": "stdout",
     "output_type": "stream",
     "text": [
      "              precision    recall  f1-score   support\n",
      "\n",
      "           0       0.59      0.77      0.67     13298\n",
      "           1       0.66      0.44      0.53     12996\n",
      "\n",
      "    accuracy                           0.61     26294\n",
      "   macro avg       0.62      0.61      0.60     26294\n",
      "weighted avg       0.62      0.61      0.60     26294\n",
      "\n"
     ]
    }
   ],
   "source": [
    "# Demora muito\n",
    "\"\"\"model = svm.SVC(kernel='linear', C=1)\n",
    "modelo(x, y, model)\"\"\""
   ]
  },
  {
   "cell_type": "markdown",
   "id": "d25e1682",
   "metadata": {},
   "source": [
    "## LGBM"
   ]
  },
  {
   "cell_type": "code",
   "execution_count": null,
   "id": "5a607315",
   "metadata": {
    "ExecuteTime": {
     "end_time": "2022-03-29T22:24:33.749323Z",
     "start_time": "2022-03-29T22:24:32.864874Z"
    },
    "scrolled": true
   },
   "outputs": [
    {
     "name": "stdout",
     "output_type": "stream",
     "text": [
      "[LightGBM] [Warning] min_data_in_leaf is set=400, min_child_samples=20 will be ignored. Current value: min_data_in_leaf=400\n"
     ]
    },
    {
     "data": {
      "image/png": "[encoded data removed]",
      "text/plain": [
       "<Figure size 360x360 with 1 Axes>"
      ]
     },
     "metadata": {
      "needs_background": "light"
     },
     "output_type": "display_data"
    },
    {
     "name": "stdout",
     "output_type": "stream",
     "text": [
      "              precision    recall  f1-score   support\n",
      "\n",
      "           0       0.84      0.72      0.77     13202\n",
      "           1       0.75      0.86      0.80     13092\n",
      "\n",
      "    accuracy                           0.79     26294\n",
      "   macro avg       0.79      0.79      0.79     26294\n",
      "weighted avg       0.79      0.79      0.79     26294\n",
      "\n"
     ]
    }
   ],
   "source": [
    "model = LGBMClassifier(colsample_bytree=0.55, learning_rate=0.04378571428571428,\n",
    "                       max_depth=10, min_data_in_leaf=400, num_leaves=64,\n",
    "                       random_state=42, subsample=0.8392857142857143, n_jobs=-1)\n",
    "modelo(x, y, model)"
   ]
  },
  {
   "cell_type": "code",
   "execution_count": null,
   "id": "43eca949",
   "metadata": {
    "ExecuteTime": {
     "end_time": "2022-03-26T19:26:15.587908Z",
     "start_time": "2022-03-26T19:26:15.569918Z"
    }
   },
   "outputs": [],
   "source": []
  },
  {
   "cell_type": "code",
   "execution_count": null,
   "id": "9674b26c",
   "metadata": {},
   "outputs": [],
   "source": []
  }
 ],
 "metadata": {
  "kernelspec": {
   "display_name": "Python 3.9.12 ('base')",
   "language": "python",
   "name": "python3"
  },
  "language_info": {
   "codemirror_mode": {
    "name": "ipython",
    "version": 3
   },
   "file_extension": ".py",
   "mimetype": "text/x-python",
   "name": "python",
   "nbconvert_exporter": "python",
   "pygments_lexer": "ipython3",
   "version": "3.9.12"
  },
  "varInspector": {
   "cols": {
    "lenName": 16,
    "lenType": 16,
    "lenVar": 40
   },
   "kernels_config": {
    "python": {
     "delete_cmd_postfix": "",
     "delete_cmd_prefix": "del ",
     "library": "var_list.py",
     "varRefreshCmd": "print(var_dic_list())"
    },
    "r": {
     "delete_cmd_postfix": ") ",
     "delete_cmd_prefix": "rm(",
     "library": "var_list.r",
     "varRefreshCmd": "cat(var_dic_list()) "
    }
   },
   "types_to_exclude": [
    "module",
    "function",
    "builtin_function_or_method",
    "instance",
    "_Feature"
   ],
   "window_display": false
  },
  "vscode": {
   "interpreter": {
    "hash": "a44aaa56c90c920297e4963dd389bb46f6f89f8e4074e5ac8a0da4423f45b3e1"
   }
  }
 },
 "nbformat": 4,
 "nbformat_minor": 5
}
